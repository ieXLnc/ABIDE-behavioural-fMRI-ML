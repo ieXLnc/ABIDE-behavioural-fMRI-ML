{
 "cells": [
  {
   "cell_type": "markdown",
   "metadata": {},
   "source": [
    "# Machine learning model with the fMRI data"
   ]
  },
  {
   "cell_type": "code",
   "execution_count": 1,
   "metadata": {},
   "outputs": [],
   "source": [
    "import matplotlib.pyplot as plt\n",
    "%matplotlib inline\n",
    "import seaborn as sns\n",
    "import os\n",
    "import pandas as pd\n",
    "import numpy as np\n",
    "import nilearn as nl\n",
    "from nilearn import datasets\n",
    "from nilearn import plotting\n",
    "from nilearn import connectome"
   ]
  },
  {
   "cell_type": "markdown",
   "metadata": {},
   "source": [
    "# Load the time series"
   ]
  },
  {
   "cell_type": "code",
   "execution_count": 2,
   "metadata": {},
   "outputs": [
    {
     "name": "stdout",
     "output_type": "stream",
     "text": [
      "Data loaded\n",
      "It is a dictionary with keys: ['matrix', 'targets']\n",
      "X shape: (870,)\n",
      "y shape: (870,)\n"
     ]
    }
   ],
   "source": [
    "# let's load the dataset created\n",
    "\n",
    "with np.load('fMRI_time_series.npz', allow_pickle=True) as npz_file:\n",
    "    data = dict(npz_file.items())\n",
    "    \n",
    "print('Data loaded')\n",
    "print('It is a dictionary with keys:', list(data.keys()))\n",
    "\n",
    "X = data['matrix']\n",
    "print('X shape:', X.shape)\n",
    "\n",
    "y = data['targets']\n",
    "print('y shape:', y.shape)"
   ]
  },
  {
   "cell_type": "code",
   "execution_count": 3,
   "metadata": {},
   "outputs": [
    {
     "name": "stdout",
     "output_type": "stream",
     "text": [
      "X train: (696,)\n",
      "X test: (174,)\n",
      "y train: (696,)\n",
      "y test: (174,)\n",
      "ASD in the test data: 81\n",
      "Control in the test data: 93\n"
     ]
    }
   ],
   "source": [
    "from sklearn.model_selection import train_test_split\n",
    "\n",
    "# Create X and y arrays for my analysis\n",
    "\n",
    "X_tr, X_te, y_tr, y_te = train_test_split(X, y, test_size=0.20, stratify=y, random_state = 9)\n",
    "\n",
    "print('X train:', X_tr.shape)\n",
    "print('X test:', X_te.shape)\n",
    "print('y train:', y_tr.shape)\n",
    "print('y test:', y_te.shape)\n",
    "\n",
    "print('ASD in the test data:', (y_te == 1).sum())\n",
    "print('Control in the test data:', (y_te == 2).sum())"
   ]
  },
  {
   "cell_type": "code",
   "execution_count": 4,
   "metadata": {},
   "outputs": [],
   "source": [
    "# Function to plot my confusion matrix\n",
    "# code taken at https://www.kaggle.com/grfiv4/plot-a-confusion-matrix\n",
    "\n",
    "import numpy as np\n",
    "\n",
    "\n",
    "def plot_confusion_matrix(cm,\n",
    "                          target_names,\n",
    "                          title='Confusion matrix',\n",
    "                          cmap=None,\n",
    "                          normalize=True):\n",
    "    \"\"\"\n",
    "    given a sklearn confusion matrix (cm), make a nice plot\n",
    "\n",
    "    Arguments\n",
    "    ---------\n",
    "    cm:           confusion matrix from sklearn.metrics.confusion_matrix\n",
    "\n",
    "    target_names: given classification classes such as [0, 1, 2]\n",
    "                  the class names, for example: ['high', 'medium', 'low']\n",
    "\n",
    "    title:        the text to display at the top of the matrix\n",
    "\n",
    "    cmap:         the gradient of the values displayed from matplotlib.pyplot.cm\n",
    "                  see http://matplotlib.org/examples/color/colormaps_reference.html\n",
    "                  plt.get_cmap('jet') or plt.cm.Blues\n",
    "\n",
    "    normalize:    If False, plot the raw numbers\n",
    "                  If True, plot the proportions\n",
    "\n",
    "    Usage\n",
    "    -----\n",
    "    plot_confusion_matrix(cm           = cm,                  # confusion matrix created by\n",
    "                                                              # sklearn.metrics.confusion_matrix\n",
    "                          normalize    = True,                # show proportions\n",
    "                          target_names = y_labels_vals,       # list of names of the classes\n",
    "                          title        = best_estimator_name) # title of graph\n",
    "\n",
    "    Citiation\n",
    "    ---------\n",
    "    http://scikit-learn.org/stable/auto_examples/model_selection/plot_confusion_matrix.html\n",
    "\n",
    "    \"\"\"\n",
    "    import matplotlib.pyplot as plt\n",
    "    import numpy as np\n",
    "    import itertools\n",
    "\n",
    "    accuracy = np.trace(cm) / float(np.sum(cm))\n",
    "    misclass = 1 - accuracy\n",
    "\n",
    "    if cmap is None:\n",
    "        cmap = plt.get_cmap('Blues')\n",
    "\n",
    "    plt.figure(figsize=(8, 6))\n",
    "    plt.imshow(cm, interpolation='nearest', cmap=cmap)\n",
    "    plt.title(title)\n",
    "    plt.colorbar()\n",
    "\n",
    "    if target_names is not None:\n",
    "        tick_marks = np.arange(len(target_names))\n",
    "        plt.xticks(tick_marks, target_names, rotation=45)\n",
    "        plt.yticks(tick_marks, target_names)\n",
    "\n",
    "    if normalize:\n",
    "        cm = cm.astype('float') / cm.sum(axis=1)[:, np.newaxis]\n",
    "\n",
    "\n",
    "    thresh = cm.max() / 1.5 if normalize else cm.max() / 2\n",
    "    for i, j in itertools.product(range(cm.shape[0]), range(cm.shape[1])):\n",
    "        if normalize:\n",
    "            plt.text(j, i, \"{:0.4f}\".format(cm[i, j]),\n",
    "                     horizontalalignment=\"center\",\n",
    "                     color=\"white\" if cm[i, j] > thresh else \"black\")\n",
    "        else:\n",
    "            plt.text(j, i, \"{:,}\".format(cm[i, j]),\n",
    "                     horizontalalignment=\"center\",\n",
    "                     color=\"white\" if cm[i, j] > thresh else \"black\")\n",
    "\n",
    "\n",
    "    plt.tight_layout()\n",
    "    plt.ylabel('True label')\n",
    "    plt.xlabel('Predicted label\\naccuracy={:0.4f}; misclass={:0.4f}'.format(accuracy, misclass))\n",
    "    plt.show()"
   ]
  },
  {
   "cell_type": "markdown",
   "metadata": {},
   "source": [
    "## Create a baseline to evaluate my models"
   ]
  },
  {
   "cell_type": "code",
   "execution_count": 5,
   "metadata": {},
   "outputs": [
    {
     "name": "stdout",
     "output_type": "stream",
     "text": [
      "Accuracy: 0.53\n"
     ]
    }
   ],
   "source": [
    "from sklearn.dummy import DummyClassifier\n",
    "\n",
    "# Create the dummy classifier\n",
    "dummy = DummyClassifier(strategy='most_frequent')\n",
    "\n",
    "# Fit it\n",
    "dummy.fit(None, y_tr)\n",
    "\n",
    "# Compute test accuracy\n",
    "baseline_accuracy = dummy.score(None, y_te)\n",
    "print('Accuracy: {:.2f}'.format(baseline_accuracy))\n",
    "\n",
    "# Create a dict to store the results of my models\n",
    "models_acc = dict()\n",
    "models_acc['baseline'] = 100*baseline_accuracy"
   ]
  },
  {
   "cell_type": "markdown",
   "metadata": {},
   "source": [
    "## LinearSVC model\n",
    "\n",
    "* Connectivity : type of matrix connectivity (https://nilearn.github.io/auto_examples/05_advanced/plot_age_group_prediction_cross_val.html#sphx-glr-auto-examples-05-advanced-plot-age-group-prediction-cross-val-py)\n",
    "* Standard Scaler \n",
    "* C"
   ]
  },
  {
   "cell_type": "code",
   "execution_count": 6,
   "metadata": {},
   "outputs": [
    {
     "name": "stdout",
     "output_type": "stream",
     "text": [
      "Fitting 5 folds for each of 36 candidates, totalling 180 fits\n"
     ]
    },
    {
     "name": "stderr",
     "output_type": "stream",
     "text": [
      "[Parallel(n_jobs=-1)]: Using backend LokyBackend with 8 concurrent workers.\n",
      "[Parallel(n_jobs=-1)]: Done  34 tasks      | elapsed:   33.6s\n",
      "[Parallel(n_jobs=-1)]: Done 180 out of 180 | elapsed:  3.1min finished\n",
      "C:\\Users\\xavier\\anaconda3\\envs\\exts-ml\\lib\\site-packages\\sklearn\\svm\\base.py:931: ConvergenceWarning: Liblinear failed to converge, increase the number of iterations.\n",
      "  \"the number of iterations.\", ConvergenceWarning)\n"
     ]
    }
   ],
   "source": [
    "from sklearn.pipeline import Pipeline\n",
    "from sklearn.model_selection import GridSearchCV, StratifiedShuffleSplit\n",
    "from sklearn.preprocessing import StandardScaler\n",
    "from sklearn.decomposition import PCA\n",
    "from sklearn.svm import LinearSVC\n",
    "# import warnings filter\n",
    "from warnings import simplefilter\n",
    "# ignore all fuature warnings\n",
    "simplefilter(action='ignore', category=FutureWarning)\n",
    "from sklearn.metrics import classification_report\n",
    "from sklearn.metrics import confusion_matrix\n",
    "from nilearn.connectome import ConnectivityMeasure\n",
    "\n",
    "\n",
    "linear_svc = Pipeline([\n",
    "    ('connectivity', ConnectivityMeasure(vectorize=True)),\n",
    "    ('scaler', StandardScaler()),\n",
    "    ('l_svc', LinearSVC(random_state=9))\n",
    "])\n",
    "\n",
    "cv = StratifiedShuffleSplit(n_splits=5, random_state=0)\n",
    "\n",
    "param_grid = {\n",
    "    'connectivity__kind':['correlation', 'partial correlation', 'tangent'],\n",
    "    'scaler': [None, StandardScaler()],\n",
    "    'l_svc__C':[0.0001, 0.001, 0.01, 0.05, 1, 10],\n",
    "}\n",
    "\n",
    "lin_svc = GridSearchCV(linear_svc, param_grid, cv=cv, n_jobs=-1, verbose=1, return_train_score=True)\n",
    "\n",
    "lin_svc.fit(X_tr, y_tr);\n",
    "\n",
    "lin_svc_results = pd.DataFrame({\n",
    "    'connectivity': lin_svc.cv_results_['param_connectivity__kind'],\n",
    "    'scale': lin_svc.cv_results_['param_scaler'],\n",
    "    'C': lin_svc.cv_results_['param_l_svc__C'],\n",
    "    'mean_tr': lin_svc.cv_results_['mean_train_score'],\n",
    "    'mean_te': lin_svc.cv_results_['mean_test_score'],\n",
    "    'std_te': lin_svc.cv_results_['std_test_score']\n",
    "})\n",
    "\n",
    "# # Plot the validation curves\n",
    "# plt.semilogx(lin_svc_results['C'], lin_svc_results['mean_tr'], label='train curve')\n",
    "# plt.semilogx(lin_svc_results['C'], lin_svc_results['mean_te'], label='test curve')\n",
    "\n",
    "# plt.xlabel('C')\n",
    "# plt.ylabel('Accuracy')\n",
    "# plt.legend()\n",
    "# plt.show()"
   ]
  },
  {
   "cell_type": "code",
   "execution_count": 7,
   "metadata": {},
   "outputs": [
    {
     "data": {
      "text/html": [
       "<div>\n",
       "<style scoped>\n",
       "    .dataframe tbody tr th:only-of-type {\n",
       "        vertical-align: middle;\n",
       "    }\n",
       "\n",
       "    .dataframe tbody tr th {\n",
       "        vertical-align: top;\n",
       "    }\n",
       "\n",
       "    .dataframe thead th {\n",
       "        text-align: right;\n",
       "    }\n",
       "</style>\n",
       "<table border=\"1\" class=\"dataframe\">\n",
       "  <thead>\n",
       "    <tr style=\"text-align: right;\">\n",
       "      <th></th>\n",
       "      <th>connectivity</th>\n",
       "      <th>scale</th>\n",
       "      <th>C</th>\n",
       "      <th>mean_tr</th>\n",
       "      <th>mean_te</th>\n",
       "      <th>std_te</th>\n",
       "    </tr>\n",
       "  </thead>\n",
       "  <tbody>\n",
       "    <tr>\n",
       "      <th>7</th>\n",
       "      <td>correlation</td>\n",
       "      <td>StandardScaler(copy=True, with_mean=True, with...</td>\n",
       "      <td>0.05</td>\n",
       "      <td>1.000000</td>\n",
       "      <td>0.677143</td>\n",
       "      <td>0.066762</td>\n",
       "    </tr>\n",
       "    <tr>\n",
       "      <th>8</th>\n",
       "      <td>correlation</td>\n",
       "      <td>None</td>\n",
       "      <td>1</td>\n",
       "      <td>1.000000</td>\n",
       "      <td>0.671429</td>\n",
       "      <td>0.071142</td>\n",
       "    </tr>\n",
       "    <tr>\n",
       "      <th>10</th>\n",
       "      <td>correlation</td>\n",
       "      <td>None</td>\n",
       "      <td>10</td>\n",
       "      <td>1.000000</td>\n",
       "      <td>0.668571</td>\n",
       "      <td>0.057428</td>\n",
       "    </tr>\n",
       "    <tr>\n",
       "      <th>5</th>\n",
       "      <td>correlation</td>\n",
       "      <td>StandardScaler(copy=True, with_mean=True, with...</td>\n",
       "      <td>0.01</td>\n",
       "      <td>1.000000</td>\n",
       "      <td>0.668571</td>\n",
       "      <td>0.069635</td>\n",
       "    </tr>\n",
       "    <tr>\n",
       "      <th>28</th>\n",
       "      <td>tangent</td>\n",
       "      <td>None</td>\n",
       "      <td>0.01</td>\n",
       "      <td>0.950479</td>\n",
       "      <td>0.668571</td>\n",
       "      <td>0.055255</td>\n",
       "    </tr>\n",
       "  </tbody>\n",
       "</table>\n",
       "</div>"
      ],
      "text/plain": [
       "   connectivity                                              scale     C  \\\n",
       "7   correlation  StandardScaler(copy=True, with_mean=True, with...  0.05   \n",
       "8   correlation                                               None     1   \n",
       "10  correlation                                               None    10   \n",
       "5   correlation  StandardScaler(copy=True, with_mean=True, with...  0.01   \n",
       "28      tangent                                               None  0.01   \n",
       "\n",
       "     mean_tr   mean_te    std_te  \n",
       "7   1.000000  0.677143  0.066762  \n",
       "8   1.000000  0.671429  0.071142  \n",
       "10  1.000000  0.668571  0.057428  \n",
       "5   1.000000  0.668571  0.069635  \n",
       "28  0.950479  0.668571  0.055255  "
      ]
     },
     "execution_count": 7,
     "metadata": {},
     "output_type": "execute_result"
    }
   ],
   "source": [
    "lin_svc_results.sort_values(by='mean_te', ascending=False).head(5)"
   ]
  },
  {
   "cell_type": "code",
   "execution_count": 8,
   "metadata": {},
   "outputs": [
    {
     "name": "stdout",
     "output_type": "stream",
     "text": [
      "Test accuracy: 72.99%\n",
      "              precision    recall  f1-score   support\n",
      "\n",
      "           1       0.70      0.73      0.72        81\n",
      "           2       0.76      0.73      0.74        93\n",
      "\n",
      "   micro avg       0.73      0.73      0.73       174\n",
      "   macro avg       0.73      0.73      0.73       174\n",
      "weighted avg       0.73      0.73      0.73       174\n",
      "\n"
     ]
    },
    {
     "data": {
      "image/png": "[encoded data removed]",
      "text/plain": [
       "<Figure size 576x432 with 2 Axes>"
      ]
     },
     "metadata": {
      "needs_background": "light"
     },
     "output_type": "display_data"
    },
    {
     "name": "stdout",
     "output_type": "stream",
     "text": [
      "Best score: 0.6771428571428572\n",
      "Best estimator: Pipeline(memory=None,\n",
      "     steps=[('connectivity', ConnectivityMeasure(cov_estimator=LedoitWolf(assume_centered=False, block_size=1000, store_precision=False),\n",
      "          discard_diagonal=False, kind='correlation', vectorize=True)), ('scaler', StandardScaler(copy=True, with_mean=True, with_std=True)), ('l_svc', LinearSVC(C=0.05, class_weight=None, dual=True, fit_intercept=True,\n",
      "     intercept_scaling=1, loss='squared_hinge', max_iter=1000,\n",
      "     multi_class='ovr', penalty='l2', random_state=9, tol=0.0001,\n",
      "     verbose=0))])\n",
      "Best params: {'connectivity__kind': 'correlation', 'l_svc__C': 0.05, 'scaler': StandardScaler(copy=True, with_mean=True, with_std=True)}\n"
     ]
    }
   ],
   "source": [
    "print('Test accuracy: {:.2f}%'.format(100*lin_svc.score(X_te, y_te)))\n",
    "\n",
    "y_pred = lin_svc.predict(X_te)\n",
    "\n",
    "report = classification_report(y_true=y_te, y_pred=y_pred)\n",
    "print(report)\n",
    "\n",
    "# Confusion matrix\n",
    "matrix = confusion_matrix(y_true=y_te, y_pred=y_pred)\n",
    "\n",
    "plot_confusion_matrix(matrix, ['ASD', 'Control'])\n",
    "\n",
    "print('Best score:', lin_svc.best_score_)\n",
    "print('Best estimator:', lin_svc.best_estimator_)\n",
    "print('Best params:', lin_svc.best_params_)"
   ]
  },
  {
   "cell_type": "code",
   "execution_count": 9,
   "metadata": {},
   "outputs": [
    {
     "name": "stdout",
     "output_type": "stream",
     "text": [
      "Fitting 5 folds for each of 10 candidates, totalling 50 fits\n"
     ]
    },
    {
     "name": "stderr",
     "output_type": "stream",
     "text": [
      "[Parallel(n_jobs=-1)]: Using backend LokyBackend with 8 concurrent workers.\n",
      "[Parallel(n_jobs=-1)]: Done  34 tasks      | elapsed:   51.0s\n",
      "[Parallel(n_jobs=-1)]: Done  50 out of  50 | elapsed:  1.1min finished\n"
     ]
    }
   ],
   "source": [
    "# Refine\n",
    "from sklearn.pipeline import Pipeline\n",
    "from sklearn.model_selection import GridSearchCV\n",
    "from sklearn.preprocessing import StandardScaler\n",
    "from sklearn.decomposition import PCA\n",
    "from sklearn.svm import LinearSVC\n",
    "# import warnings filter\n",
    "from warnings import simplefilter\n",
    "# ignore all fuature warnings\n",
    "simplefilter(action='ignore', category=FutureWarning)\n",
    "from sklearn.metrics import classification_report\n",
    "from sklearn.metrics import confusion_matrix\n",
    "from nilearn.connectome import ConnectivityMeasure\n",
    "\n",
    "\n",
    "linear_svc = Pipeline([\n",
    "    ('connectivity', ConnectivityMeasure(vectorize=True, kind='correlation')),\n",
    "    ('scaler', StandardScaler()),\n",
    "    ('l_svc', LinearSVC(random_state=9))\n",
    "])\n",
    "\n",
    "cv = StratifiedShuffleSplit(n_splits=5, random_state=0)\n",
    "\n",
    "param_grid = {\n",
    "    'l_svc__C':[0.01, 0.02, 0.03, 0.04, 0.05, 0.06, 0.07, 0.08, 0.09, 0.1],\n",
    "}\n",
    "\n",
    "lin_svc = GridSearchCV(linear_svc, param_grid, cv=cv, n_jobs=-1, verbose=1, return_train_score=True)\n",
    "\n",
    "lin_svc.fit(X_tr, y_tr);\n",
    "\n",
    "lin_svc_results = pd.DataFrame({\n",
    "#     'connectivity': lin_svc.cv_results_['param_connectivity__kind'],\n",
    "#     'scale': lin_svc.cv_results_['param_scaler'],\n",
    "    'C': lin_svc.cv_results_['param_l_svc__C'],\n",
    "    'mean_tr': lin_svc.cv_results_['mean_train_score'],\n",
    "    'mean_te': lin_svc.cv_results_['mean_test_score'],\n",
    "    'std_te': lin_svc.cv_results_['std_test_score']\n",
    "})\n",
    "\n",
    "# # Plot the validation curves\n",
    "# plt.semilogx(lin_svc_results['C'], lin_svc_results['mean_tr'], label='train curve')\n",
    "# plt.semilogx(lin_svc_results['C'], lin_svc_results['mean_te'], label='test curve')\n",
    "\n",
    "# plt.xlabel('C')\n",
    "# plt.ylabel('Accuracy')\n",
    "# plt.legend()\n",
    "# plt.show()"
   ]
  },
  {
   "cell_type": "code",
   "execution_count": 10,
   "metadata": {},
   "outputs": [
    {
     "name": "stdout",
     "output_type": "stream",
     "text": [
      "Test accuracy: 72.99%\n",
      "              precision    recall  f1-score   support\n",
      "\n",
      "           1       0.70      0.73      0.72        81\n",
      "           2       0.76      0.73      0.74        93\n",
      "\n",
      "   micro avg       0.73      0.73      0.73       174\n",
      "   macro avg       0.73      0.73      0.73       174\n",
      "weighted avg       0.73      0.73      0.73       174\n",
      "\n"
     ]
    },
    {
     "data": {
      "image/png": "[encoded data removed]",
      "text/plain": [
       "<Figure size 576x432 with 2 Axes>"
      ]
     },
     "metadata": {
      "needs_background": "light"
     },
     "output_type": "display_data"
    },
    {
     "name": "stdout",
     "output_type": "stream",
     "text": [
      "Best score: 0.6771428571428572\n",
      "Best estimator: Pipeline(memory=None,\n",
      "     steps=[('connectivity', ConnectivityMeasure(cov_estimator=LedoitWolf(assume_centered=False, block_size=1000, store_precision=False),\n",
      "          discard_diagonal=False, kind='correlation', vectorize=True)), ('scaler', StandardScaler(copy=True, with_mean=True, with_std=True)), ('l_svc', LinearSVC(C=0.04, class_weight=None, dual=True, fit_intercept=True,\n",
      "     intercept_scaling=1, loss='squared_hinge', max_iter=1000,\n",
      "     multi_class='ovr', penalty='l2', random_state=9, tol=0.0001,\n",
      "     verbose=0))])\n",
      "Best params: {'l_svc__C': 0.04}\n"
     ]
    }
   ],
   "source": [
    "print('Test accuracy: {:.2f}%'.format(100*lin_svc.score(X_te, y_te)))\n",
    "models_acc['Linear SVC'] = 100*lin_svc.score(X_te, y_te)\n",
    "\n",
    "y_pred = lin_svc.predict(X_te)\n",
    "\n",
    "report = classification_report(y_true=y_te, y_pred=y_pred)\n",
    "print(report)\n",
    "\n",
    "# Confusion matrix\n",
    "matrix = confusion_matrix(y_true=y_te, y_pred=y_pred)\n",
    "\n",
    "plot_confusion_matrix(matrix, ['ASD', 'Control'])\n",
    "\n",
    "print('Best score:', lin_svc.best_score_)\n",
    "print('Best estimator:', lin_svc.best_estimator_)\n",
    "print('Best params:', lin_svc.best_params_)"
   ]
  },
  {
   "cell_type": "markdown",
   "metadata": {},
   "source": [
    "# Try with the SVC estimator\n",
    "\n",
    "* Connectivity : type of matrix connectivity (https://nilearn.github.io/auto_examples/05_advanced/plot_age_group_prediction_cross_val.html#sphx-glr-auto-examples-05-advanced-plot-age-group-prediction-cross-val-py)\n",
    "* Standard Scaler \n",
    "* Kernel : rbf/linear\n",
    "* C\n",
    "* Gamma"
   ]
  },
  {
   "cell_type": "code",
   "execution_count": 11,
   "metadata": {},
   "outputs": [
    {
     "name": "stdout",
     "output_type": "stream",
     "text": [
      "Fitting 3 folds for each of 576 candidates, totalling 1728 fits\n"
     ]
    },
    {
     "name": "stderr",
     "output_type": "stream",
     "text": [
      "[Parallel(n_jobs=-1)]: Using backend LokyBackend with 8 concurrent workers.\n",
      "[Parallel(n_jobs=-1)]: Done  34 tasks      | elapsed:   49.1s\n",
      "[Parallel(n_jobs=-1)]: Done 184 tasks      | elapsed:  4.0min\n",
      "[Parallel(n_jobs=-1)]: Done 434 tasks      | elapsed:  9.3min\n",
      "[Parallel(n_jobs=-1)]: Done 784 tasks      | elapsed: 16.7min\n",
      "[Parallel(n_jobs=-1)]: Done 1234 tasks      | elapsed: 29.0min\n",
      "[Parallel(n_jobs=-1)]: Done 1728 out of 1728 | elapsed: 43.4min finished\n"
     ]
    },
    {
     "data": {
      "text/html": [
       "<div>\n",
       "<style scoped>\n",
       "    .dataframe tbody tr th:only-of-type {\n",
       "        vertical-align: middle;\n",
       "    }\n",
       "\n",
       "    .dataframe tbody tr th {\n",
       "        vertical-align: top;\n",
       "    }\n",
       "\n",
       "    .dataframe thead th {\n",
       "        text-align: right;\n",
       "    }\n",
       "</style>\n",
       "<table border=\"1\" class=\"dataframe\">\n",
       "  <thead>\n",
       "    <tr style=\"text-align: right;\">\n",
       "      <th></th>\n",
       "      <th>connectivity</th>\n",
       "      <th>scale</th>\n",
       "      <th>kernel</th>\n",
       "      <th>C</th>\n",
       "      <th>gamma</th>\n",
       "      <th>mean_tr</th>\n",
       "      <th>mean_te</th>\n",
       "      <th>std_te</th>\n",
       "    </tr>\n",
       "  </thead>\n",
       "  <tbody>\n",
       "    <tr>\n",
       "      <th>416</th>\n",
       "      <td>tangent</td>\n",
       "      <td>None</td>\n",
       "      <td>rbf</td>\n",
       "      <td>100</td>\n",
       "      <td>0.0001</td>\n",
       "      <td>0.879659</td>\n",
       "      <td>0.652381</td>\n",
       "      <td>0.047140</td>\n",
       "    </tr>\n",
       "    <tr>\n",
       "      <th>338</th>\n",
       "      <td>tangent</td>\n",
       "      <td>None</td>\n",
       "      <td>rbf</td>\n",
       "      <td>10</td>\n",
       "      <td>0.001</td>\n",
       "      <td>0.877529</td>\n",
       "      <td>0.647619</td>\n",
       "      <td>0.052597</td>\n",
       "    </tr>\n",
       "    <tr>\n",
       "      <th>326</th>\n",
       "      <td>tangent</td>\n",
       "      <td>None</td>\n",
       "      <td>rbf</td>\n",
       "      <td>1</td>\n",
       "      <td>0.05</td>\n",
       "      <td>0.998403</td>\n",
       "      <td>0.638095</td>\n",
       "      <td>0.035635</td>\n",
       "    </tr>\n",
       "    <tr>\n",
       "      <th>354</th>\n",
       "      <td>tangent</td>\n",
       "      <td>None</td>\n",
       "      <td>rbf</td>\n",
       "      <td>20</td>\n",
       "      <td>0.001</td>\n",
       "      <td>0.944089</td>\n",
       "      <td>0.638095</td>\n",
       "      <td>0.006734</td>\n",
       "    </tr>\n",
       "    <tr>\n",
       "      <th>169</th>\n",
       "      <td>correlation</td>\n",
       "      <td>StandardScaler(copy=True, with_mean=True, with...</td>\n",
       "      <td>linear</td>\n",
       "      <td>0.05</td>\n",
       "      <td>1</td>\n",
       "      <td>1.000000</td>\n",
       "      <td>0.633333</td>\n",
       "      <td>0.037495</td>\n",
       "    </tr>\n",
       "  </tbody>\n",
       "</table>\n",
       "</div>"
      ],
      "text/plain": [
       "    connectivity                                              scale  kernel  \\\n",
       "416      tangent                                               None     rbf   \n",
       "338      tangent                                               None     rbf   \n",
       "326      tangent                                               None     rbf   \n",
       "354      tangent                                               None     rbf   \n",
       "169  correlation  StandardScaler(copy=True, with_mean=True, with...  linear   \n",
       "\n",
       "        C   gamma   mean_tr   mean_te    std_te  \n",
       "416   100  0.0001  0.879659  0.652381  0.047140  \n",
       "338    10   0.001  0.877529  0.647619  0.052597  \n",
       "326     1    0.05  0.998403  0.638095  0.035635  \n",
       "354    20   0.001  0.944089  0.638095  0.006734  \n",
       "169  0.05       1  1.000000  0.633333  0.037495  "
      ]
     },
     "execution_count": 11,
     "metadata": {},
     "output_type": "execute_result"
    }
   ],
   "source": [
    "from sklearn.pipeline import Pipeline\n",
    "from sklearn.model_selection import GridSearchCV\n",
    "from sklearn.preprocessing import StandardScaler\n",
    "from sklearn.decomposition import PCA\n",
    "from sklearn.svm import SVC\n",
    "from sklearn.metrics import classification_report\n",
    "from sklearn.metrics import confusion_matrix\n",
    "simplefilter(action='ignore', category=FutureWarning)\n",
    "# import warnings filter\n",
    "from warnings import simplefilter\n",
    "# ignore all future warnings\n",
    "\n",
    "SVC = Pipeline([\n",
    "    ('connectivity', ConnectivityMeasure(vectorize=True)),\n",
    "    ('scaler', StandardScaler()),\n",
    "    ('svc', SVC(random_state=9))\n",
    "])\n",
    "\n",
    "cv = StratifiedShuffleSplit(n_splits=3, random_state=0)\n",
    "\n",
    "param_grid = {\n",
    "    'connectivity__kind':['correlation', 'tangent'],\n",
    "    'scaler': [None, StandardScaler()],\n",
    "    'svc__C':[0.01, 0.05, 1, 10, 20, 30, 40, 50, 100],\n",
    "    'svc__gamma': [0.0001, 0.001, 0.01, 0.05, 1, 10, 50, 100],\n",
    "    'svc__kernel':['rbf', 'linear']\n",
    "}\n",
    "\n",
    "svc_gdcv = GridSearchCV(SVC, param_grid, cv=cv, n_jobs=-1, verbose=1, return_train_score=True)\n",
    "\n",
    "svc_gdcv.fit(X_tr, y_tr);\n",
    "\n",
    "svc_results = pd.DataFrame({\n",
    "    'connectivity': svc_gdcv.cv_results_['param_connectivity__kind'],\n",
    "    'scale': svc_gdcv.cv_results_['param_scaler'],\n",
    "    'kernel':svc_gdcv.cv_results_['param_svc__kernel'],\n",
    "    'C': svc_gdcv.cv_results_['param_svc__C'],\n",
    "    'gamma': svc_gdcv.cv_results_['param_svc__gamma'],\n",
    "    'mean_tr': svc_gdcv.cv_results_['mean_train_score'],\n",
    "    'mean_te': svc_gdcv.cv_results_['mean_test_score'],\n",
    "    'std_te': svc_gdcv.cv_results_['std_test_score']\n",
    "})\n",
    "\n",
    "svc_results.sort_values(by='mean_te', ascending=False).head(5)"
   ]
  },
  {
   "cell_type": "code",
   "execution_count": 12,
   "metadata": {},
   "outputs": [
    {
     "name": "stdout",
     "output_type": "stream",
     "text": [
      "Test accuracy: 71.26%\n",
      "              precision    recall  f1-score   support\n",
      "\n",
      "           1       0.75      0.58      0.65        81\n",
      "           2       0.69      0.83      0.75        93\n",
      "\n",
      "   micro avg       0.71      0.71      0.71       174\n",
      "   macro avg       0.72      0.70      0.70       174\n",
      "weighted avg       0.72      0.71      0.71       174\n",
      "\n"
     ]
    },
    {
     "data": {
      "image/png": "[encoded data removed]",
      "text/plain": [
       "<Figure size 576x432 with 2 Axes>"
      ]
     },
     "metadata": {
      "needs_background": "light"
     },
     "output_type": "display_data"
    },
    {
     "name": "stdout",
     "output_type": "stream",
     "text": [
      "Best score: 0.6523809523809524\n",
      "Best estimator: Pipeline(memory=None,\n",
      "     steps=[('connectivity', ConnectivityMeasure(cov_estimator=LedoitWolf(assume_centered=False, block_size=1000, store_precision=False),\n",
      "          discard_diagonal=False, kind='tangent', vectorize=True)), ('scaler', None), ('svc', SVC(C=100, cache_size=200, class_weight=None, coef0=0.0,\n",
      "  decision_function_shape='ovr', degree=3, gamma=0.0001, kernel='rbf',\n",
      "  max_iter=-1, probability=False, random_state=9, shrinking=True,\n",
      "  tol=0.001, verbose=False))])\n",
      "Best params: {'connectivity__kind': 'tangent', 'scaler': None, 'svc__C': 100, 'svc__gamma': 0.0001, 'svc__kernel': 'rbf'}\n"
     ]
    }
   ],
   "source": [
    "print('Test accuracy: {:.2f}%'.format(100*svc_gdcv.score(X_te, y_te)))\n",
    "\n",
    "y_pred = svc_gdcv.predict(X_te)\n",
    "\n",
    "report = classification_report(y_true=y_te, y_pred=y_pred)\n",
    "print(report)\n",
    "\n",
    "# Confusion matrix\n",
    "matrix = confusion_matrix(y_true=y_te, y_pred=y_pred)\n",
    "\n",
    "plot_confusion_matrix(matrix, ['ASD', 'Control'])\n",
    "\n",
    "print('Best score:', svc_gdcv.best_score_)\n",
    "print('Best estimator:', svc_gdcv.best_estimator_)\n",
    "print('Best params:', svc_gdcv.best_params_)"
   ]
  },
  {
   "cell_type": "markdown",
   "metadata": {},
   "source": [
    "## Refine my search "
   ]
  },
  {
   "cell_type": "code",
   "execution_count": 13,
   "metadata": {},
   "outputs": [
    {
     "name": "stdout",
     "output_type": "stream",
     "text": [
      "Fitting 5 folds for each of 100 candidates, totalling 500 fits\n"
     ]
    },
    {
     "name": "stderr",
     "output_type": "stream",
     "text": [
      "[Parallel(n_jobs=-1)]: Using backend LokyBackend with 8 concurrent workers.\n",
      "[Parallel(n_jobs=-1)]: Done  34 tasks      | elapsed:  1.1min\n",
      "[Parallel(n_jobs=-1)]: Done 184 tasks      | elapsed:  5.5min\n",
      "[Parallel(n_jobs=-1)]: Done 434 tasks      | elapsed: 13.0min\n",
      "[Parallel(n_jobs=-1)]: Done 500 out of 500 | elapsed: 15.0min finished\n"
     ]
    },
    {
     "data": {
      "text/html": [
       "<div>\n",
       "<style scoped>\n",
       "    .dataframe tbody tr th:only-of-type {\n",
       "        vertical-align: middle;\n",
       "    }\n",
       "\n",
       "    .dataframe tbody tr th {\n",
       "        vertical-align: top;\n",
       "    }\n",
       "\n",
       "    .dataframe thead th {\n",
       "        text-align: right;\n",
       "    }\n",
       "</style>\n",
       "<table border=\"1\" class=\"dataframe\">\n",
       "  <thead>\n",
       "    <tr style=\"text-align: right;\">\n",
       "      <th></th>\n",
       "      <th>C</th>\n",
       "      <th>gamma</th>\n",
       "      <th>mean_tr</th>\n",
       "      <th>mean_te</th>\n",
       "      <th>std_te</th>\n",
       "    </tr>\n",
       "  </thead>\n",
       "  <tbody>\n",
       "    <tr>\n",
       "      <th>91</th>\n",
       "      <td>145</td>\n",
       "      <td>0.0001112</td>\n",
       "      <td>0.925240</td>\n",
       "      <td>0.685714</td>\n",
       "      <td>0.049487</td>\n",
       "    </tr>\n",
       "    <tr>\n",
       "      <th>81</th>\n",
       "      <td>140</td>\n",
       "      <td>0.0001112</td>\n",
       "      <td>0.922364</td>\n",
       "      <td>0.682857</td>\n",
       "      <td>0.052216</td>\n",
       "    </tr>\n",
       "    <tr>\n",
       "      <th>72</th>\n",
       "      <td>135</td>\n",
       "      <td>0.0002223</td>\n",
       "      <td>0.964856</td>\n",
       "      <td>0.680000</td>\n",
       "      <td>0.069164</td>\n",
       "    </tr>\n",
       "    <tr>\n",
       "      <th>11</th>\n",
       "      <td>105</td>\n",
       "      <td>0.0001112</td>\n",
       "      <td>0.892013</td>\n",
       "      <td>0.677143</td>\n",
       "      <td>0.050790</td>\n",
       "    </tr>\n",
       "    <tr>\n",
       "      <th>2</th>\n",
       "      <td>100</td>\n",
       "      <td>0.0002223</td>\n",
       "      <td>0.947604</td>\n",
       "      <td>0.677143</td>\n",
       "      <td>0.061677</td>\n",
       "    </tr>\n",
       "  </tbody>\n",
       "</table>\n",
       "</div>"
      ],
      "text/plain": [
       "      C      gamma   mean_tr   mean_te    std_te\n",
       "91  145  0.0001112  0.925240  0.685714  0.049487\n",
       "81  140  0.0001112  0.922364  0.682857  0.052216\n",
       "72  135  0.0002223  0.964856  0.680000  0.069164\n",
       "11  105  0.0001112  0.892013  0.677143  0.050790\n",
       "2   100  0.0002223  0.947604  0.677143  0.061677"
      ]
     },
     "execution_count": 13,
     "metadata": {},
     "output_type": "execute_result"
    }
   ],
   "source": [
    "from sklearn.pipeline import Pipeline\n",
    "from sklearn.model_selection import GridSearchCV\n",
    "from sklearn.preprocessing import StandardScaler\n",
    "from sklearn.decomposition import PCA\n",
    "from sklearn.svm import SVC\n",
    "from sklearn.metrics import classification_report\n",
    "from sklearn.metrics import confusion_matrix\n",
    "simplefilter(action='ignore', category=FutureWarning)\n",
    "# import warnings filter\n",
    "from warnings import simplefilter\n",
    "# ignore all future warnings\n",
    "\n",
    "SVC_ref = Pipeline([\n",
    "    ('connectivity', ConnectivityMeasure(vectorize=True, \n",
    "                                         kind='tangent')),\n",
    "#     ('scaler', StandardScaler()),\n",
    "    ('svc', SVC(random_state=9, \n",
    "               kernel='rbf'))\n",
    "])\n",
    "\n",
    "cv = StratifiedShuffleSplit(n_splits=5, random_state=0)\n",
    "\n",
    "grid_refined = {\n",
    "#     'connectivity__kind':['correlation', 'partial correlation', 'tangent'],\n",
    "#     'scaler': [None, StandardScaler()],\n",
    "    'svc__C':np.arange(100, 150, 5),\n",
    "    'svc__gamma': np.linspace(0.0000001, 0.001, 10),\n",
    "#     'svc__kernel':['rbf', 'linear']\n",
    "}\n",
    "\n",
    "svc_gdcv_ref = GridSearchCV(SVC_ref, grid_refined, cv=cv, n_jobs=-1, verbose=1, return_train_score=True)\n",
    "\n",
    "svc_gdcv_ref.fit(X_tr, y_tr);\n",
    "\n",
    "svc_results_ref = pd.DataFrame({\n",
    "#     'connectivity': svc_gdcv_ref.cv_results_['param_connectivity__kind'],\n",
    "#     'scale': svc_gdcv_ref.cv_results_['param_scaler'],\n",
    "#     'kernel':svc_gdcv_ref.cv_results_['param_svc__kernel'],\n",
    "    'C': svc_gdcv_ref.cv_results_['param_svc__C'],\n",
    "    'gamma': svc_gdcv_ref.cv_results_['param_svc__gamma'],\n",
    "    'mean_tr': svc_gdcv_ref.cv_results_['mean_train_score'],\n",
    "    'mean_te': svc_gdcv_ref.cv_results_['mean_test_score'],\n",
    "    'std_te': svc_gdcv_ref.cv_results_['std_test_score']\n",
    "})\n",
    "\n",
    "svc_results_ref.sort_values(by='mean_te', ascending=False).head(5)"
   ]
  },
  {
   "cell_type": "code",
   "execution_count": 14,
   "metadata": {},
   "outputs": [
    {
     "name": "stdout",
     "output_type": "stream",
     "text": [
      "Test accuracy: 71.26%\n",
      "              precision    recall  f1-score   support\n",
      "\n",
      "           1       0.72      0.63      0.67        81\n",
      "           2       0.71      0.78      0.74        93\n",
      "\n",
      "   micro avg       0.71      0.71      0.71       174\n",
      "   macro avg       0.71      0.71      0.71       174\n",
      "weighted avg       0.71      0.71      0.71       174\n",
      "\n"
     ]
    },
    {
     "data": {
      "image/png": "[encoded data removed]",
      "text/plain": [
       "<Figure size 576x432 with 2 Axes>"
      ]
     },
     "metadata": {
      "needs_background": "light"
     },
     "output_type": "display_data"
    },
    {
     "name": "stdout",
     "output_type": "stream",
     "text": [
      "Best score: 0.6857142857142857\n",
      "Best estimator: Pipeline(memory=None,\n",
      "     steps=[('connectivity', ConnectivityMeasure(cov_estimator=LedoitWolf(assume_centered=False, block_size=1000, store_precision=False),\n",
      "          discard_diagonal=False, kind='tangent', vectorize=True)), ('svc', SVC(C=145, cache_size=200, class_weight=None, coef0=0.0,\n",
      "  decision_function_shape='ovr', degree=3, gamma=0.00011119999999999999,\n",
      "  kernel='rbf', max_iter=-1, probability=False, random_state=9,\n",
      "  shrinking=True, tol=0.001, verbose=False))])\n",
      "Best params: {'svc__C': 145, 'svc__gamma': 0.00011119999999999999}\n"
     ]
    }
   ],
   "source": [
    "print('Test accuracy: {:.2f}%'.format(100*svc_gdcv_ref.score(X_te, y_te)))\n",
    "models_acc['SVC refined'] = 100*svc_gdcv_ref.score(X_te, y_te)\n",
    "\n",
    "y_pred = svc_gdcv_ref.predict(X_te)\n",
    "\n",
    "report = classification_report(y_true=y_te, y_pred=y_pred)\n",
    "print(report)\n",
    "\n",
    "# Confusion matrix\n",
    "matrix = confusion_matrix(y_true=y_te, y_pred=y_pred)\n",
    "\n",
    "plot_confusion_matrix(matrix, ['ASD', 'Control'])\n",
    "\n",
    "print('Best score:', svc_gdcv_ref.best_score_)\n",
    "print('Best estimator:', svc_gdcv_ref.best_estimator_)\n",
    "print('Best params:', svc_gdcv_ref.best_params_)\n",
    "\n",
    "# C set to 14 with 71.84%"
   ]
  },
  {
   "cell_type": "markdown",
   "metadata": {},
   "source": [
    "# Lets create models with the confounds time series"
   ]
  },
  {
   "cell_type": "markdown",
   "metadata": {},
   "source": [
    "# Load the time series with confounds"
   ]
  },
  {
   "cell_type": "code",
   "execution_count": 15,
   "metadata": {},
   "outputs": [
    {
     "name": "stdout",
     "output_type": "stream",
     "text": [
      "Data loaded\n",
      "It is a dictionary with keys: ['matrix', 'targets']\n",
      "X shape: (870,)\n",
      "y shape: (870,)\n"
     ]
    }
   ],
   "source": [
    "# let's load the dataset created\n",
    "\n",
    "with np.load('fMRI_time_series_confounds.npz', allow_pickle=True) as npz_file:\n",
    "    data_conf = dict(npz_file.items())\n",
    "    \n",
    "print('Data loaded')\n",
    "print('It is a dictionary with keys:', list(data_conf.keys()))\n",
    "\n",
    "X_c = data_conf['matrix']\n",
    "print('X shape:', X_c.shape)\n",
    "\n",
    "y_c = data_conf['targets']\n",
    "print('y shape:', y_c.shape)"
   ]
  },
  {
   "cell_type": "code",
   "execution_count": 16,
   "metadata": {},
   "outputs": [
    {
     "name": "stdout",
     "output_type": "stream",
     "text": [
      "X train: (696,)\n",
      "X test: (174,)\n",
      "y train: (696,)\n",
      "y test: (174,)\n",
      "ASD in the test data: 81\n",
      "Control in the test data: 93\n"
     ]
    }
   ],
   "source": [
    "from sklearn.model_selection import train_test_split\n",
    "\n",
    "# Create X and y arrays for my analysis\n",
    "\n",
    "X_c_tr, X_c_te, y_c_tr, y_c_te = train_test_split(X_c, y_c, test_size=0.20, stratify=y_c, random_state = 9)\n",
    "\n",
    "print('X train:', X_c_tr.shape)\n",
    "print('X test:', X_c_te.shape)\n",
    "print('y train:', y_c_tr.shape)\n",
    "print('y test:', y_c_te.shape)\n",
    "\n",
    "print('ASD in the test data:', (y_c_te == 1).sum())\n",
    "print('Control in the test data:', (y_c_te == 2).sum())"
   ]
  },
  {
   "cell_type": "markdown",
   "metadata": {},
   "source": [
    "## Create a baseline to evaluate my models"
   ]
  },
  {
   "cell_type": "code",
   "execution_count": 17,
   "metadata": {},
   "outputs": [
    {
     "name": "stdout",
     "output_type": "stream",
     "text": [
      "Accuracy: 0.53\n"
     ]
    }
   ],
   "source": [
    "from sklearn.dummy import DummyClassifier\n",
    "\n",
    "# Create the dummy classifier\n",
    "dummy = DummyClassifier(strategy='most_frequent')\n",
    "\n",
    "# Fit it\n",
    "dummy.fit(None, y_c_tr)\n",
    "\n",
    "# Compute test accuracy\n",
    "baseline_accuracy = dummy.score(None, y_c_te)\n",
    "print('Accuracy: {:.2f}'.format(baseline_accuracy))"
   ]
  },
  {
   "cell_type": "markdown",
   "metadata": {},
   "source": [
    "## LinearSVC model\n",
    "\n",
    "* Connectivity : type of matrix connectivity\n",
    "* Standard Scaler \n",
    "* C"
   ]
  },
  {
   "cell_type": "code",
   "execution_count": 18,
   "metadata": {},
   "outputs": [
    {
     "name": "stdout",
     "output_type": "stream",
     "text": [
      "Fitting 5 folds for each of 36 candidates, totalling 180 fits\n"
     ]
    },
    {
     "name": "stderr",
     "output_type": "stream",
     "text": [
      "[Parallel(n_jobs=-1)]: Using backend LokyBackend with 8 concurrent workers.\n",
      "[Parallel(n_jobs=-1)]: Done  34 tasks      | elapsed:   28.3s\n",
      "[Parallel(n_jobs=-1)]: Done 180 out of 180 | elapsed:  3.1min finished\n"
     ]
    },
    {
     "data": {
      "text/html": [
       "<div>\n",
       "<style scoped>\n",
       "    .dataframe tbody tr th:only-of-type {\n",
       "        vertical-align: middle;\n",
       "    }\n",
       "\n",
       "    .dataframe tbody tr th {\n",
       "        vertical-align: top;\n",
       "    }\n",
       "\n",
       "    .dataframe thead th {\n",
       "        text-align: right;\n",
       "    }\n",
       "</style>\n",
       "<table border=\"1\" class=\"dataframe\">\n",
       "  <thead>\n",
       "    <tr style=\"text-align: right;\">\n",
       "      <th></th>\n",
       "      <th>connectivity</th>\n",
       "      <th>scale</th>\n",
       "      <th>C</th>\n",
       "      <th>mean_tr</th>\n",
       "      <th>mean_te</th>\n",
       "      <th>std_te</th>\n",
       "    </tr>\n",
       "  </thead>\n",
       "  <tbody>\n",
       "    <tr>\n",
       "      <th>28</th>\n",
       "      <td>tangent</td>\n",
       "      <td>None</td>\n",
       "      <td>0.01</td>\n",
       "      <td>0.943131</td>\n",
       "      <td>0.662857</td>\n",
       "      <td>0.043892</td>\n",
       "    </tr>\n",
       "    <tr>\n",
       "      <th>30</th>\n",
       "      <td>tangent</td>\n",
       "      <td>None</td>\n",
       "      <td>0.05</td>\n",
       "      <td>0.998722</td>\n",
       "      <td>0.657143</td>\n",
       "      <td>0.045175</td>\n",
       "    </tr>\n",
       "    <tr>\n",
       "      <th>16</th>\n",
       "      <td>partial correlation</td>\n",
       "      <td>None</td>\n",
       "      <td>0.01</td>\n",
       "      <td>0.906070</td>\n",
       "      <td>0.651429</td>\n",
       "      <td>0.014569</td>\n",
       "    </tr>\n",
       "    <tr>\n",
       "      <th>4</th>\n",
       "      <td>correlation</td>\n",
       "      <td>None</td>\n",
       "      <td>0.01</td>\n",
       "      <td>0.905431</td>\n",
       "      <td>0.648571</td>\n",
       "      <td>0.071486</td>\n",
       "    </tr>\n",
       "    <tr>\n",
       "      <th>13</th>\n",
       "      <td>partial correlation</td>\n",
       "      <td>StandardScaler(copy=True, with_mean=True, with...</td>\n",
       "      <td>0.0001</td>\n",
       "      <td>0.965815</td>\n",
       "      <td>0.642857</td>\n",
       "      <td>0.032576</td>\n",
       "    </tr>\n",
       "  </tbody>\n",
       "</table>\n",
       "</div>"
      ],
      "text/plain": [
       "           connectivity                                              scale  \\\n",
       "28              tangent                                               None   \n",
       "30              tangent                                               None   \n",
       "16  partial correlation                                               None   \n",
       "4           correlation                                               None   \n",
       "13  partial correlation  StandardScaler(copy=True, with_mean=True, with...   \n",
       "\n",
       "         C   mean_tr   mean_te    std_te  \n",
       "28    0.01  0.943131  0.662857  0.043892  \n",
       "30    0.05  0.998722  0.657143  0.045175  \n",
       "16    0.01  0.906070  0.651429  0.014569  \n",
       "4     0.01  0.905431  0.648571  0.071486  \n",
       "13  0.0001  0.965815  0.642857  0.032576  "
      ]
     },
     "execution_count": 18,
     "metadata": {},
     "output_type": "execute_result"
    }
   ],
   "source": [
    "from sklearn.pipeline import Pipeline\n",
    "from sklearn.model_selection import GridSearchCV, StratifiedShuffleSplit\n",
    "from sklearn.preprocessing import StandardScaler\n",
    "from sklearn.decomposition import PCA\n",
    "from sklearn.svm import LinearSVC\n",
    "# import warnings filter\n",
    "from warnings import simplefilter\n",
    "# ignore all fuature warnings\n",
    "simplefilter(action='ignore', category=FutureWarning)\n",
    "from sklearn.metrics import classification_report\n",
    "from sklearn.metrics import confusion_matrix\n",
    "from nilearn.connectome import ConnectivityMeasure\n",
    "\n",
    "\n",
    "linear_svc = Pipeline([\n",
    "    ('connectivity', ConnectivityMeasure(vectorize=True)),\n",
    "    ('scaler', StandardScaler()),\n",
    "    ('l_svc', LinearSVC(random_state=9))\n",
    "])\n",
    "\n",
    "cv = StratifiedShuffleSplit(n_splits=5, random_state=0)\n",
    "\n",
    "param_grid = {\n",
    "    'connectivity__kind':['correlation', 'partial correlation', 'tangent'],\n",
    "    'scaler': [None, StandardScaler()],\n",
    "    'l_svc__C':[0.0001, 0.001, 0.01, 0.05, 1, 10],\n",
    "}\n",
    "\n",
    "lin_svc = GridSearchCV(linear_svc, param_grid, cv=cv, n_jobs=-1, verbose=1, return_train_score=True)\n",
    "\n",
    "lin_svc.fit(X_c_tr, y_c_tr);\n",
    "\n",
    "lin_svc_results = pd.DataFrame({\n",
    "    'connectivity': lin_svc.cv_results_['param_connectivity__kind'],\n",
    "    'scale': lin_svc.cv_results_['param_scaler'],\n",
    "    'C': lin_svc.cv_results_['param_l_svc__C'],\n",
    "    'mean_tr': lin_svc.cv_results_['mean_train_score'],\n",
    "    'mean_te': lin_svc.cv_results_['mean_test_score'],\n",
    "    'std_te': lin_svc.cv_results_['std_test_score']\n",
    "})\n",
    "\n",
    "lin_svc_results.sort_values(by='mean_te', ascending=False).head(5)"
   ]
  },
  {
   "cell_type": "code",
   "execution_count": 19,
   "metadata": {},
   "outputs": [
    {
     "name": "stdout",
     "output_type": "stream",
     "text": [
      "Test accuracy: 67.82%\n",
      "              precision    recall  f1-score   support\n",
      "\n",
      "           1       0.67      0.60      0.64        81\n",
      "           2       0.68      0.74      0.71        93\n",
      "\n",
      "   micro avg       0.68      0.68      0.68       174\n",
      "   macro avg       0.68      0.67      0.67       174\n",
      "weighted avg       0.68      0.68      0.68       174\n",
      "\n"
     ]
    },
    {
     "data": {
      "image/png": "[encoded data removed]",
      "text/plain": [
       "<Figure size 576x432 with 2 Axes>"
      ]
     },
     "metadata": {
      "needs_background": "light"
     },
     "output_type": "display_data"
    },
    {
     "name": "stdout",
     "output_type": "stream",
     "text": [
      "Best score: 0.6628571428571428\n",
      "Best estimator: Pipeline(memory=None,\n",
      "     steps=[('connectivity', ConnectivityMeasure(cov_estimator=LedoitWolf(assume_centered=False, block_size=1000, store_precision=False),\n",
      "          discard_diagonal=False, kind='tangent', vectorize=True)), ('scaler', None), ('l_svc', LinearSVC(C=0.01, class_weight=None, dual=True, fit_intercept=True,\n",
      "     intercept_scaling=1, loss='squared_hinge', max_iter=1000,\n",
      "     multi_class='ovr', penalty='l2', random_state=9, tol=0.0001,\n",
      "     verbose=0))])\n",
      "Best params: {'connectivity__kind': 'tangent', 'l_svc__C': 0.01, 'scaler': None}\n"
     ]
    }
   ],
   "source": [
    "print('Test accuracy: {:.2f}%'.format(100*lin_svc.score(X_c_te, y_c_te)))\n",
    "\n",
    "y_pred = lin_svc.predict(X_c_te)\n",
    "\n",
    "report = classification_report(y_true=y_c_te, y_pred=y_pred)\n",
    "print(report)\n",
    "\n",
    "# Confusion matrix\n",
    "matrix = confusion_matrix(y_true=y_c_te, y_pred=y_pred)\n",
    "\n",
    "plot_confusion_matrix(matrix, ['ASD', 'Control'])\n",
    "\n",
    "print('Best score:', lin_svc.best_score_)\n",
    "print('Best estimator:', lin_svc.best_estimator_)\n",
    "print('Best params:', lin_svc.best_params_)"
   ]
  },
  {
   "cell_type": "code",
   "execution_count": 20,
   "metadata": {},
   "outputs": [
    {
     "name": "stdout",
     "output_type": "stream",
     "text": [
      "Fitting 5 folds for each of 20 candidates, totalling 100 fits\n"
     ]
    },
    {
     "name": "stderr",
     "output_type": "stream",
     "text": [
      "[Parallel(n_jobs=-1)]: Using backend LokyBackend with 8 concurrent workers.\n",
      "[Parallel(n_jobs=-1)]: Done  34 tasks      | elapsed:   47.4s\n",
      "[Parallel(n_jobs=-1)]: Done 100 out of 100 | elapsed:  2.1min finished\n"
     ]
    }
   ],
   "source": [
    "# Refine\n",
    "from sklearn.pipeline import Pipeline\n",
    "from sklearn.model_selection import GridSearchCV\n",
    "from sklearn.preprocessing import StandardScaler\n",
    "from sklearn.decomposition import PCA\n",
    "from sklearn.svm import LinearSVC\n",
    "# import warnings filter\n",
    "from warnings import simplefilter\n",
    "# ignore all fuature warnings\n",
    "simplefilter(action='ignore', category=FutureWarning)\n",
    "from sklearn.metrics import classification_report\n",
    "from sklearn.metrics import confusion_matrix\n",
    "from nilearn.connectome import ConnectivityMeasure\n",
    "\n",
    "\n",
    "linear_svc_r = Pipeline([\n",
    "    ('connectivity', ConnectivityMeasure(vectorize=True, kind='tangent')),\n",
    "#     ('scaler', StandardScaler()),\n",
    "    ('l_svc', LinearSVC(random_state=9))\n",
    "])\n",
    "\n",
    "cv = StratifiedShuffleSplit(n_splits=5, random_state=0)\n",
    "\n",
    "grid_refined = {\n",
    "    'l_svc__C':np.linspace(0.001, 0.05, 20),\n",
    "}\n",
    "\n",
    "lin_svc_ref = GridSearchCV(linear_svc_r, grid_refined, cv=cv, n_jobs=-1, verbose=1, return_train_score=True)\n",
    "\n",
    "lin_svc_ref.fit(X_c_tr, y_c_tr);\n",
    "\n",
    "lin_svc_results = pd.DataFrame({\n",
    "#     'connectivity': lin_svc.cv_results_['param_connectivity__kind'],\n",
    "#     'scale': lin_svc.cv_results_['param_scaler'],\n",
    "    'C': lin_svc_ref.cv_results_['param_l_svc__C'],\n",
    "    'mean_tr': lin_svc_ref.cv_results_['mean_train_score'],\n",
    "    'mean_te': lin_svc_ref.cv_results_['mean_test_score'],\n",
    "    'std_te': lin_svc_ref.cv_results_['std_test_score']\n",
    "})\n"
   ]
  },
  {
   "cell_type": "code",
   "execution_count": 21,
   "metadata": {},
   "outputs": [
    {
     "name": "stdout",
     "output_type": "stream",
     "text": [
      "Test accuracy: 68.39%\n",
      "              precision    recall  f1-score   support\n",
      "\n",
      "           1       0.67      0.63      0.65        81\n",
      "           2       0.69      0.73      0.71        93\n",
      "\n",
      "   micro avg       0.68      0.68      0.68       174\n",
      "   macro avg       0.68      0.68      0.68       174\n",
      "weighted avg       0.68      0.68      0.68       174\n",
      "\n"
     ]
    },
    {
     "data": {
      "image/png": "[encoded data removed]",
      "text/plain": [
       "<Figure size 576x432 with 2 Axes>"
      ]
     },
     "metadata": {
      "needs_background": "light"
     },
     "output_type": "display_data"
    },
    {
     "name": "stdout",
     "output_type": "stream",
     "text": [
      "Best score: 0.6714285714285714\n",
      "Best estimator: Pipeline(memory=None,\n",
      "     steps=[('connectivity', ConnectivityMeasure(cov_estimator=LedoitWolf(assume_centered=False, block_size=1000, store_precision=False),\n",
      "          discard_diagonal=False, kind='tangent', vectorize=True)), ('l_svc', LinearSVC(C=0.01905263157894737, class_weight=None, dual=True,\n",
      "     fit_intercept=True, intercept_scaling=1, loss='squared_hinge',\n",
      "     max_iter=1000, multi_class='ovr', penalty='l2', random_state=9,\n",
      "     tol=0.0001, verbose=0))])\n",
      "Best params: {'l_svc__C': 0.01905263157894737}\n"
     ]
    }
   ],
   "source": [
    "print('Test accuracy: {:.2f}%'.format(100*lin_svc_ref.score(X_c_te, y_c_te)))\n",
    "models_acc['Linear SVC confounds'] = 100*lin_svc_ref.score(X_c_te, y_c_te)\n",
    "\n",
    "y_pred = lin_svc_ref.predict(X_c_te)\n",
    "\n",
    "report = classification_report(y_true=y_c_te, y_pred=y_pred)\n",
    "print(report)\n",
    "\n",
    "# Confusion matrix\n",
    "matrix = confusion_matrix(y_true=y_c_te, y_pred=y_pred)\n",
    "\n",
    "plot_confusion_matrix(matrix, ['ASD', 'Control'])\n",
    "\n",
    "print('Best score:', lin_svc_ref.best_score_)\n",
    "print('Best estimator:', lin_svc_ref.best_estimator_)\n",
    "print('Best params:', lin_svc_ref.best_params_)"
   ]
  },
  {
   "cell_type": "markdown",
   "metadata": {},
   "source": [
    "# SVC estimator\n",
    "\n",
    "* Connectivity : type of matrix connectivity\n",
    "* Standard Scaler \n",
    "* Kernel : rbf/linear\n",
    "* C\n",
    "* Gamma"
   ]
  },
  {
   "cell_type": "code",
   "execution_count": 22,
   "metadata": {},
   "outputs": [
    {
     "name": "stdout",
     "output_type": "stream",
     "text": [
      "Fitting 3 folds for each of 200 candidates, totalling 600 fits\n"
     ]
    },
    {
     "name": "stderr",
     "output_type": "stream",
     "text": [
      "[Parallel(n_jobs=-1)]: Using backend LokyBackend with 8 concurrent workers.\n",
      "[Parallel(n_jobs=-1)]: Done  34 tasks      | elapsed:   54.5s\n",
      "[Parallel(n_jobs=-1)]: Done 184 tasks      | elapsed:  4.5min\n",
      "[Parallel(n_jobs=-1)]: Done 434 tasks      | elapsed: 12.3min\n",
      "[Parallel(n_jobs=-1)]: Done 600 out of 600 | elapsed: 17.4min finished\n"
     ]
    },
    {
     "data": {
      "text/html": [
       "<div>\n",
       "<style scoped>\n",
       "    .dataframe tbody tr th:only-of-type {\n",
       "        vertical-align: middle;\n",
       "    }\n",
       "\n",
       "    .dataframe tbody tr th {\n",
       "        vertical-align: top;\n",
       "    }\n",
       "\n",
       "    .dataframe thead th {\n",
       "        text-align: right;\n",
       "    }\n",
       "</style>\n",
       "<table border=\"1\" class=\"dataframe\">\n",
       "  <thead>\n",
       "    <tr style=\"text-align: right;\">\n",
       "      <th></th>\n",
       "      <th>connectivity</th>\n",
       "      <th>scale</th>\n",
       "      <th>kernel</th>\n",
       "      <th>C</th>\n",
       "      <th>gamma</th>\n",
       "      <th>mean_tr</th>\n",
       "      <th>mean_te</th>\n",
       "      <th>std_te</th>\n",
       "    </tr>\n",
       "  </thead>\n",
       "  <tbody>\n",
       "    <tr>\n",
       "      <th>140</th>\n",
       "      <td>tangent</td>\n",
       "      <td>None</td>\n",
       "      <td>rbf</td>\n",
       "      <td>100</td>\n",
       "      <td>0.0001</td>\n",
       "      <td>0.813099</td>\n",
       "      <td>0.638095</td>\n",
       "      <td>0.029354</td>\n",
       "    </tr>\n",
       "    <tr>\n",
       "      <th>33</th>\n",
       "      <td>correlation</td>\n",
       "      <td>None</td>\n",
       "      <td>linear</td>\n",
       "      <td>75.0002</td>\n",
       "      <td>25.0001</td>\n",
       "      <td>1.000000</td>\n",
       "      <td>0.623810</td>\n",
       "      <td>0.013469</td>\n",
       "    </tr>\n",
       "    <tr>\n",
       "      <th>19</th>\n",
       "      <td>correlation</td>\n",
       "      <td>None</td>\n",
       "      <td>linear</td>\n",
       "      <td>25.0008</td>\n",
       "      <td>100</td>\n",
       "      <td>1.000000</td>\n",
       "      <td>0.623810</td>\n",
       "      <td>0.013469</td>\n",
       "    </tr>\n",
       "    <tr>\n",
       "      <th>21</th>\n",
       "      <td>correlation</td>\n",
       "      <td>None</td>\n",
       "      <td>linear</td>\n",
       "      <td>50.0005</td>\n",
       "      <td>0.0001</td>\n",
       "      <td>1.000000</td>\n",
       "      <td>0.623810</td>\n",
       "      <td>0.013469</td>\n",
       "    </tr>\n",
       "    <tr>\n",
       "      <th>23</th>\n",
       "      <td>correlation</td>\n",
       "      <td>None</td>\n",
       "      <td>linear</td>\n",
       "      <td>50.0005</td>\n",
       "      <td>25.0001</td>\n",
       "      <td>1.000000</td>\n",
       "      <td>0.623810</td>\n",
       "      <td>0.013469</td>\n",
       "    </tr>\n",
       "  </tbody>\n",
       "</table>\n",
       "</div>"
      ],
      "text/plain": [
       "    connectivity scale  kernel        C    gamma   mean_tr   mean_te    std_te\n",
       "140      tangent  None     rbf      100   0.0001  0.813099  0.638095  0.029354\n",
       "33   correlation  None  linear  75.0002  25.0001  1.000000  0.623810  0.013469\n",
       "19   correlation  None  linear  25.0008      100  1.000000  0.623810  0.013469\n",
       "21   correlation  None  linear  50.0005   0.0001  1.000000  0.623810  0.013469\n",
       "23   correlation  None  linear  50.0005  25.0001  1.000000  0.623810  0.013469"
      ]
     },
     "execution_count": 22,
     "metadata": {},
     "output_type": "execute_result"
    }
   ],
   "source": [
    "from sklearn.pipeline import Pipeline\n",
    "from sklearn.model_selection import GridSearchCV\n",
    "from sklearn.preprocessing import StandardScaler\n",
    "from sklearn.decomposition import PCA\n",
    "from sklearn.svm import SVC\n",
    "from sklearn.metrics import classification_report\n",
    "from sklearn.metrics import confusion_matrix\n",
    "simplefilter(action='ignore', category=FutureWarning)\n",
    "# import warnings filter\n",
    "from warnings import simplefilter\n",
    "# ignore all future warnings\n",
    "\n",
    "SVC = Pipeline([\n",
    "    ('connectivity', ConnectivityMeasure(vectorize=True)),\n",
    "    ('scaler', StandardScaler()),\n",
    "    ('svc', SVC(random_state=9))\n",
    "])\n",
    "\n",
    "cv = StratifiedShuffleSplit(n_splits=3, random_state=0)\n",
    "\n",
    "param_grid = {\n",
    "    'connectivity__kind':['correlation', 'tangent'],\n",
    "    'scaler': [None, StandardScaler()],\n",
    "    'svc__C':np.linspace(0.001, 100, 5),\n",
    "    'svc__gamma': np.linspace(0.0001, 100, 5),\n",
    "    'svc__kernel':['rbf', 'linear']\n",
    "}\n",
    "\n",
    "svc_gdcv = GridSearchCV(SVC, param_grid, cv=cv, n_jobs=-1, verbose=1, return_train_score=True)\n",
    "\n",
    "svc_gdcv.fit(X_c_tr, y_c_tr);\n",
    "\n",
    "svc_results = pd.DataFrame({\n",
    "    'connectivity': svc_gdcv.cv_results_['param_connectivity__kind'],\n",
    "    'scale': svc_gdcv.cv_results_['param_scaler'],\n",
    "    'kernel':svc_gdcv.cv_results_['param_svc__kernel'],\n",
    "    'C': svc_gdcv.cv_results_['param_svc__C'],\n",
    "    'gamma': svc_gdcv.cv_results_['param_svc__gamma'],\n",
    "    'mean_tr': svc_gdcv.cv_results_['mean_train_score'],\n",
    "    'mean_te': svc_gdcv.cv_results_['mean_test_score'],\n",
    "    'std_te': svc_gdcv.cv_results_['std_test_score']\n",
    "})\n",
    "\n",
    "svc_results.sort_values(by='mean_te', ascending=False).head(5)"
   ]
  },
  {
   "cell_type": "code",
   "execution_count": 23,
   "metadata": {},
   "outputs": [
    {
     "name": "stdout",
     "output_type": "stream",
     "text": [
      "Test accuracy: 64.37%\n",
      "              precision    recall  f1-score   support\n",
      "\n",
      "           1       0.67      0.46      0.54        81\n",
      "           2       0.63      0.81      0.71        93\n",
      "\n",
      "   micro avg       0.64      0.64      0.64       174\n",
      "   macro avg       0.65      0.63      0.63       174\n",
      "weighted avg       0.65      0.64      0.63       174\n",
      "\n"
     ]
    },
    {
     "data": {
      "image/png": "[encoded data removed]",
      "text/plain": [
       "<Figure size 576x432 with 2 Axes>"
      ]
     },
     "metadata": {
      "needs_background": "light"
     },
     "output_type": "display_data"
    },
    {
     "name": "stdout",
     "output_type": "stream",
     "text": [
      "Best score: 0.638095238095238\n",
      "Best estimator: Pipeline(memory=None,\n",
      "     steps=[('connectivity', ConnectivityMeasure(cov_estimator=LedoitWolf(assume_centered=False, block_size=1000, store_precision=False),\n",
      "          discard_diagonal=False, kind='tangent', vectorize=True)), ('scaler', None), ('svc', SVC(C=100.0, cache_size=200, class_weight=None, coef0=0.0,\n",
      "  decision_function_shape='ovr', degree=3, gamma=0.0001, kernel='rbf',\n",
      "  max_iter=-1, probability=False, random_state=9, shrinking=True,\n",
      "  tol=0.001, verbose=False))])\n",
      "Best params: {'connectivity__kind': 'tangent', 'scaler': None, 'svc__C': 100.0, 'svc__gamma': 0.0001, 'svc__kernel': 'rbf'}\n"
     ]
    }
   ],
   "source": [
    "print('Test accuracy: {:.2f}%'.format(100*svc_gdcv.score(X_c_te, y_c_te)))\n",
    "\n",
    "y_pred = svc_gdcv.predict(X_c_te)\n",
    "\n",
    "report = classification_report(y_true=y_c_te, y_pred=y_pred)\n",
    "print(report)\n",
    "\n",
    "# Confusion matrix\n",
    "matrix = confusion_matrix(y_true=y_c_te, y_pred=y_pred)\n",
    "\n",
    "plot_confusion_matrix(matrix, ['ASD', 'Control'])\n",
    "\n",
    "print('Best score:', svc_gdcv.best_score_)\n",
    "print('Best estimator:', svc_gdcv.best_estimator_)\n",
    "print('Best params:', svc_gdcv.best_params_)"
   ]
  },
  {
   "cell_type": "code",
   "execution_count": 24,
   "metadata": {},
   "outputs": [
    {
     "name": "stdout",
     "output_type": "stream",
     "text": [
      "Fitting 5 folds for each of 100 candidates, totalling 500 fits\n"
     ]
    },
    {
     "name": "stderr",
     "output_type": "stream",
     "text": [
      "[Parallel(n_jobs=-1)]: Using backend LokyBackend with 8 concurrent workers.\n",
      "[Parallel(n_jobs=-1)]: Done  34 tasks      | elapsed:  1.4min\n",
      "[Parallel(n_jobs=-1)]: Done 184 tasks      | elapsed:  6.8min\n",
      "[Parallel(n_jobs=-1)]: Done 434 tasks      | elapsed: 16.1min\n",
      "[Parallel(n_jobs=-1)]: Done 500 out of 500 | elapsed: 18.5min finished\n"
     ]
    },
    {
     "data": {
      "text/html": [
       "<div>\n",
       "<style scoped>\n",
       "    .dataframe tbody tr th:only-of-type {\n",
       "        vertical-align: middle;\n",
       "    }\n",
       "\n",
       "    .dataframe tbody tr th {\n",
       "        vertical-align: top;\n",
       "    }\n",
       "\n",
       "    .dataframe thead th {\n",
       "        text-align: right;\n",
       "    }\n",
       "</style>\n",
       "<table border=\"1\" class=\"dataframe\">\n",
       "  <thead>\n",
       "    <tr style=\"text-align: right;\">\n",
       "      <th></th>\n",
       "      <th>C</th>\n",
       "      <th>gamma</th>\n",
       "      <th>mean_tr</th>\n",
       "      <th>mean_te</th>\n",
       "      <th>std_te</th>\n",
       "    </tr>\n",
       "  </thead>\n",
       "  <tbody>\n",
       "    <tr>\n",
       "      <th>35</th>\n",
       "      <td>105</td>\n",
       "      <td>0.000278222</td>\n",
       "      <td>0.955272</td>\n",
       "      <td>0.688571</td>\n",
       "      <td>0.033074</td>\n",
       "    </tr>\n",
       "    <tr>\n",
       "      <th>6</th>\n",
       "      <td>90</td>\n",
       "      <td>0.000333667</td>\n",
       "      <td>0.956869</td>\n",
       "      <td>0.685714</td>\n",
       "      <td>0.033806</td>\n",
       "    </tr>\n",
       "    <tr>\n",
       "      <th>94</th>\n",
       "      <td>135</td>\n",
       "      <td>0.000222778</td>\n",
       "      <td>0.956869</td>\n",
       "      <td>0.685714</td>\n",
       "      <td>0.033806</td>\n",
       "    </tr>\n",
       "    <tr>\n",
       "      <th>15</th>\n",
       "      <td>95</td>\n",
       "      <td>0.000278222</td>\n",
       "      <td>0.947284</td>\n",
       "      <td>0.685714</td>\n",
       "      <td>0.040406</td>\n",
       "    </tr>\n",
       "    <tr>\n",
       "      <th>45</th>\n",
       "      <td>110</td>\n",
       "      <td>0.000278222</td>\n",
       "      <td>0.957827</td>\n",
       "      <td>0.682857</td>\n",
       "      <td>0.035456</td>\n",
       "    </tr>\n",
       "  </tbody>\n",
       "</table>\n",
       "</div>"
      ],
      "text/plain": [
       "      C        gamma   mean_tr   mean_te    std_te\n",
       "35  105  0.000278222  0.955272  0.688571  0.033074\n",
       "6    90  0.000333667  0.956869  0.685714  0.033806\n",
       "94  135  0.000222778  0.956869  0.685714  0.033806\n",
       "15   95  0.000278222  0.947284  0.685714  0.040406\n",
       "45  110  0.000278222  0.957827  0.682857  0.035456"
      ]
     },
     "execution_count": 24,
     "metadata": {},
     "output_type": "execute_result"
    }
   ],
   "source": [
    "from sklearn.pipeline import Pipeline\n",
    "from sklearn.model_selection import GridSearchCV\n",
    "from sklearn.preprocessing import StandardScaler\n",
    "from sklearn.decomposition import PCA\n",
    "from sklearn.svm import SVC\n",
    "from sklearn.metrics import classification_report\n",
    "from sklearn.metrics import confusion_matrix\n",
    "simplefilter(action='ignore', category=FutureWarning)\n",
    "# import warnings filter\n",
    "from warnings import simplefilter\n",
    "# ignore all future warnings\n",
    "\n",
    "SVC_ref = Pipeline([\n",
    "    ('connectivity', ConnectivityMeasure(vectorize=True, \n",
    "                                        kind='tangent')),\n",
    "    ('svc', SVC(random_state=9, \n",
    "               kernel='rbf'))\n",
    "])\n",
    "\n",
    "cv = StratifiedShuffleSplit(n_splits=5, random_state=0)\n",
    "\n",
    "grid_refined = {\n",
    "    'svc__C':np.arange(90, 140, 5),\n",
    "    'svc__gamma': np.linspace(0.000001, 0.0005, 10),\n",
    "}\n",
    "\n",
    "svc_gdcv_ref = GridSearchCV(SVC_ref, grid_refined, cv=cv, n_jobs=-1, verbose=1, return_train_score=True)\n",
    "\n",
    "svc_gdcv_ref.fit(X_c_tr, y_c_tr);\n",
    "\n",
    "svc_results_refined = pd.DataFrame({\n",
    "    'C': svc_gdcv_ref.cv_results_['param_svc__C'],\n",
    "    'gamma': svc_gdcv_ref.cv_results_['param_svc__gamma'],\n",
    "    'mean_tr': svc_gdcv_ref.cv_results_['mean_train_score'],\n",
    "    'mean_te': svc_gdcv_ref.cv_results_['mean_test_score'],\n",
    "    'std_te': svc_gdcv_ref.cv_results_['std_test_score']\n",
    "})\n",
    "\n",
    "svc_results_refined.sort_values(by='mean_te', ascending=False).head(5)"
   ]
  },
  {
   "cell_type": "code",
   "execution_count": 25,
   "metadata": {},
   "outputs": [
    {
     "name": "stdout",
     "output_type": "stream",
     "text": [
      "Test accuracy: 71.26%\n",
      "              precision    recall  f1-score   support\n",
      "\n",
      "           1       0.71      0.65      0.68        81\n",
      "           2       0.72      0.76      0.74        93\n",
      "\n",
      "   micro avg       0.71      0.71      0.71       174\n",
      "   macro avg       0.71      0.71      0.71       174\n",
      "weighted avg       0.71      0.71      0.71       174\n",
      "\n"
     ]
    },
    {
     "data": {
      "image/png": "[encoded data removed]",
      "text/plain": [
       "<Figure size 576x432 with 2 Axes>"
      ]
     },
     "metadata": {
      "needs_background": "light"
     },
     "output_type": "display_data"
    },
    {
     "name": "stdout",
     "output_type": "stream",
     "text": [
      "Best score: 0.6885714285714286\n",
      "Best estimator: Pipeline(memory=None,\n",
      "     steps=[('connectivity', ConnectivityMeasure(cov_estimator=LedoitWolf(assume_centered=False, block_size=1000, store_precision=False),\n",
      "          discard_diagonal=False, kind='tangent', vectorize=True)), ('svc', SVC(C=105, cache_size=200, class_weight=None, coef0=0.0,\n",
      "  decision_function_shape='ovr', degree=3, gamma=0.00027822222222222224,\n",
      "  kernel='rbf', max_iter=-1, probability=False, random_state=9,\n",
      "  shrinking=True, tol=0.001, verbose=False))])\n",
      "Best params: {'svc__C': 105, 'svc__gamma': 0.00027822222222222224}\n"
     ]
    }
   ],
   "source": [
    "print('Test accuracy: {:.2f}%'.format(100*svc_gdcv_ref.score(X_c_te, y_c_te)))\n",
    "models_acc['SVC confounds'] = 100*svc_gdcv_ref.score(X_c_te, y_c_te)\n",
    "\n",
    "y_pred = svc_gdcv_ref.predict(X_c_te)\n",
    "\n",
    "report = classification_report(y_true=y_c_te, y_pred=y_pred)\n",
    "print(report)\n",
    "\n",
    "# Confusion matrix\n",
    "matrix = confusion_matrix(y_true=y_c_te, y_pred=y_pred)\n",
    "\n",
    "plot_confusion_matrix(matrix, ['ASD', 'Control'])\n",
    "\n",
    "print('Best score:', svc_gdcv_ref.best_score_)\n",
    "print('Best estimator:', svc_gdcv_ref.best_estimator_)\n",
    "print('Best params:', svc_gdcv_ref.best_params_)"
   ]
  },
  {
   "cell_type": "markdown",
   "metadata": {},
   "source": [
    "<br>\n",
    "<br>\n",
    "\n",
    "--- \n",
    "--- \n",
    "\n",
    "# 5. Conclusion"
   ]
  },
  {
   "cell_type": "code",
   "execution_count": 26,
   "metadata": {},
   "outputs": [
    {
     "data": {
      "text/html": [
       "<div>\n",
       "<style scoped>\n",
       "    .dataframe tbody tr th:only-of-type {\n",
       "        vertical-align: middle;\n",
       "    }\n",
       "\n",
       "    .dataframe tbody tr th {\n",
       "        vertical-align: top;\n",
       "    }\n",
       "\n",
       "    .dataframe thead th {\n",
       "        text-align: right;\n",
       "    }\n",
       "</style>\n",
       "<table border=\"1\" class=\"dataframe\">\n",
       "  <thead>\n",
       "    <tr style=\"text-align: right;\">\n",
       "      <th></th>\n",
       "      <th>Models</th>\n",
       "    </tr>\n",
       "  </thead>\n",
       "  <tbody>\n",
       "    <tr>\n",
       "      <th>Linear SVC</th>\n",
       "      <td>72.988506</td>\n",
       "    </tr>\n",
       "    <tr>\n",
       "      <th>SVC refined</th>\n",
       "      <td>71.264368</td>\n",
       "    </tr>\n",
       "    <tr>\n",
       "      <th>SVC confounds</th>\n",
       "      <td>71.264368</td>\n",
       "    </tr>\n",
       "    <tr>\n",
       "      <th>Linear SVC confounds</th>\n",
       "      <td>68.390805</td>\n",
       "    </tr>\n",
       "    <tr>\n",
       "      <th>baseline</th>\n",
       "      <td>53.448276</td>\n",
       "    </tr>\n",
       "  </tbody>\n",
       "</table>\n",
       "</div>"
      ],
      "text/plain": [
       "                         Models\n",
       "Linear SVC            72.988506\n",
       "SVC refined           71.264368\n",
       "SVC confounds         71.264368\n",
       "Linear SVC confounds  68.390805\n",
       "baseline              53.448276"
      ]
     },
     "execution_count": 26,
     "metadata": {},
     "output_type": "execute_result"
    }
   ],
   "source": [
    "models_df = pd.Series(models_acc).to_frame('Models')\n",
    "models_df.sort_values('Models', ascending=False)"
   ]
  },
  {
   "cell_type": "code",
   "execution_count": 27,
   "metadata": {},
   "outputs": [],
   "source": [
    "models_df.to_csv('fMRI_models.csv', index=False, encoding='utf-8')"
   ]
  },
  {
   "cell_type": "markdown",
   "metadata": {},
   "source": [
    "All the models have a hard time at classifying ASD with the fMRI data.\n",
    "\n",
    "The smallest change in parameter (especially the random seed) makes the results change drastically. Despite the fact that these models correctly classify autism with 72 percent of accuracy, I believe that these results are not very reliable. \n",
    "We can see from the confusion matrix and the classification report that most models classify more easily controls than ASD. The only models that classify more or less the same for both groups is our best with 72.99% of accuracy. \n",
    "\n",
    "I believe the accuracy could be improved with more data processing and other data manipulations:\n",
    "* Looking at sites differences and controling for those differences; \n",
    "* preprocessing the data ourselves;\n",
    "* maybe using a better atlas for this dataset;\n",
    "* finding a solution for the matrix that looks like confounds, I am still unsure about the fact that they are almost no negative connection for example."
   ]
  }
 ],
 "metadata": {
  "kernelspec": {
   "display_name": "Python 3",
   "language": "python",
   "name": "python3"
  },
  "language_info": {
   "codemirror_mode": {
    "name": "ipython",
    "version": 3
   },
   "file_extension": ".py",
   "mimetype": "text/x-python",
   "name": "python",
   "nbconvert_exporter": "python",
   "pygments_lexer": "ipython3",
   "version": "3.6.10"
  }
 },
 "nbformat": 4,
 "nbformat_minor": 4
}
