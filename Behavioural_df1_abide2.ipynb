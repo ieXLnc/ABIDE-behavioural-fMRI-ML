{
 "cells": [
  {
   "cell_type": "markdown",
   "metadata": {},
   "source": [
    "# Classification and prediction of ASD  \n",
    "<br>\n",
    "\n",
    "## Models with the SRS/IQ/BRIEF dataset"
   ]
  },
  {
   "cell_type": "code",
   "execution_count": 1,
   "metadata": {},
   "outputs": [],
   "source": [
    "import matplotlib.pyplot as plt\n",
    "%matplotlib inline\n",
    "import pandas as pd\n",
    "import numpy as np\n",
    "import seaborn as sns"
   ]
  },
  {
   "cell_type": "code",
   "execution_count": 2,
   "metadata": {},
   "outputs": [],
   "source": [
    "ASD_df1 = pd.read_csv('ASD_df1.csv')"
   ]
  },
  {
   "cell_type": "code",
   "execution_count": 3,
   "metadata": {},
   "outputs": [
    {
     "data": {
      "text/html": [
       "<div>\n",
       "<style scoped>\n",
       "    .dataframe tbody tr th:only-of-type {\n",
       "        vertical-align: middle;\n",
       "    }\n",
       "\n",
       "    .dataframe tbody tr th {\n",
       "        vertical-align: top;\n",
       "    }\n",
       "\n",
       "    .dataframe thead th {\n",
       "        text-align: right;\n",
       "    }\n",
       "</style>\n",
       "<table border=\"1\" class=\"dataframe\">\n",
       "  <thead>\n",
       "    <tr style=\"text-align: right;\">\n",
       "      <th></th>\n",
       "      <th>DX_GROUP</th>\n",
       "      <th>SEX</th>\n",
       "      <th>FIQ</th>\n",
       "      <th>VIQ</th>\n",
       "      <th>SRS_INFORMANT</th>\n",
       "      <th>SRS_TOTAL_RAW</th>\n",
       "      <th>SRS_AWARENESS_RAW</th>\n",
       "      <th>SRS_COGNITION_RAW</th>\n",
       "      <th>SRS_COMMUNICATION_RAW</th>\n",
       "      <th>SRS_MOTIVATION_RAW</th>\n",
       "      <th>...</th>\n",
       "      <th>BRIEF_EMOTIONAL_T</th>\n",
       "      <th>BRIEF_BRI_T</th>\n",
       "      <th>BRIEF_INITIATE_T</th>\n",
       "      <th>BRIEF_WORKING_T</th>\n",
       "      <th>BRIEF_PLAN_T</th>\n",
       "      <th>BRIEF_ORGANIZATION_T</th>\n",
       "      <th>BRIEF_MONITOR_T</th>\n",
       "      <th>BRIEF_MI_T</th>\n",
       "      <th>BRIEF_GEC_T</th>\n",
       "      <th>AGE</th>\n",
       "    </tr>\n",
       "  </thead>\n",
       "  <tbody>\n",
       "    <tr>\n",
       "      <th>0</th>\n",
       "      <td>1</td>\n",
       "      <td>1</td>\n",
       "      <td>116.0</td>\n",
       "      <td>114.0</td>\n",
       "      <td>8.0</td>\n",
       "      <td>105.0</td>\n",
       "      <td>15.0</td>\n",
       "      <td>17.0</td>\n",
       "      <td>38.0</td>\n",
       "      <td>10.0</td>\n",
       "      <td>...</td>\n",
       "      <td>56.0</td>\n",
       "      <td>66.0</td>\n",
       "      <td>59.0</td>\n",
       "      <td>71.0</td>\n",
       "      <td>63.0</td>\n",
       "      <td>57.0</td>\n",
       "      <td>72.0</td>\n",
       "      <td>67.0</td>\n",
       "      <td>68.0</td>\n",
       "      <td>13.076712</td>\n",
       "    </tr>\n",
       "    <tr>\n",
       "      <th>1</th>\n",
       "      <td>1</td>\n",
       "      <td>1</td>\n",
       "      <td>117.0</td>\n",
       "      <td>124.0</td>\n",
       "      <td>8.0</td>\n",
       "      <td>41.0</td>\n",
       "      <td>5.0</td>\n",
       "      <td>8.0</td>\n",
       "      <td>12.0</td>\n",
       "      <td>11.0</td>\n",
       "      <td>...</td>\n",
       "      <td>65.0</td>\n",
       "      <td>58.0</td>\n",
       "      <td>56.0</td>\n",
       "      <td>58.0</td>\n",
       "      <td>42.0</td>\n",
       "      <td>71.0</td>\n",
       "      <td>44.0</td>\n",
       "      <td>54.0</td>\n",
       "      <td>56.0</td>\n",
       "      <td>9.298630</td>\n",
       "    </tr>\n",
       "    <tr>\n",
       "      <th>2</th>\n",
       "      <td>1</td>\n",
       "      <td>2</td>\n",
       "      <td>134.0</td>\n",
       "      <td>124.0</td>\n",
       "      <td>8.0</td>\n",
       "      <td>100.0</td>\n",
       "      <td>16.0</td>\n",
       "      <td>17.0</td>\n",
       "      <td>34.0</td>\n",
       "      <td>14.0</td>\n",
       "      <td>...</td>\n",
       "      <td>49.0</td>\n",
       "      <td>60.0</td>\n",
       "      <td>69.0</td>\n",
       "      <td>72.0</td>\n",
       "      <td>72.0</td>\n",
       "      <td>70.0</td>\n",
       "      <td>76.0</td>\n",
       "      <td>75.0</td>\n",
       "      <td>71.0</td>\n",
       "      <td>12.490411</td>\n",
       "    </tr>\n",
       "    <tr>\n",
       "      <th>3</th>\n",
       "      <td>1</td>\n",
       "      <td>2</td>\n",
       "      <td>101.0</td>\n",
       "      <td>110.0</td>\n",
       "      <td>8.0</td>\n",
       "      <td>142.0</td>\n",
       "      <td>19.0</td>\n",
       "      <td>21.0</td>\n",
       "      <td>50.0</td>\n",
       "      <td>22.0</td>\n",
       "      <td>...</td>\n",
       "      <td>71.0</td>\n",
       "      <td>72.0</td>\n",
       "      <td>81.0</td>\n",
       "      <td>81.0</td>\n",
       "      <td>82.0</td>\n",
       "      <td>69.0</td>\n",
       "      <td>72.0</td>\n",
       "      <td>81.0</td>\n",
       "      <td>79.0</td>\n",
       "      <td>9.868493</td>\n",
       "    </tr>\n",
       "    <tr>\n",
       "      <th>4</th>\n",
       "      <td>1</td>\n",
       "      <td>1</td>\n",
       "      <td>128.0</td>\n",
       "      <td>134.0</td>\n",
       "      <td>8.0</td>\n",
       "      <td>46.0</td>\n",
       "      <td>7.0</td>\n",
       "      <td>8.0</td>\n",
       "      <td>15.0</td>\n",
       "      <td>8.0</td>\n",
       "      <td>...</td>\n",
       "      <td>61.0</td>\n",
       "      <td>55.0</td>\n",
       "      <td>65.0</td>\n",
       "      <td>51.0</td>\n",
       "      <td>58.0</td>\n",
       "      <td>66.0</td>\n",
       "      <td>66.0</td>\n",
       "      <td>62.0</td>\n",
       "      <td>61.0</td>\n",
       "      <td>11.484932</td>\n",
       "    </tr>\n",
       "  </tbody>\n",
       "</table>\n",
       "<p>5 rows × 29 columns</p>\n",
       "</div>"
      ],
      "text/plain": [
       "   DX_GROUP  SEX    FIQ    VIQ  SRS_INFORMANT  SRS_TOTAL_RAW  \\\n",
       "0         1    1  116.0  114.0            8.0          105.0   \n",
       "1         1    1  117.0  124.0            8.0           41.0   \n",
       "2         1    2  134.0  124.0            8.0          100.0   \n",
       "3         1    2  101.0  110.0            8.0          142.0   \n",
       "4         1    1  128.0  134.0            8.0           46.0   \n",
       "\n",
       "   SRS_AWARENESS_RAW  SRS_COGNITION_RAW  SRS_COMMUNICATION_RAW  \\\n",
       "0               15.0               17.0                   38.0   \n",
       "1                5.0                8.0                   12.0   \n",
       "2               16.0               17.0                   34.0   \n",
       "3               19.0               21.0                   50.0   \n",
       "4                7.0                8.0                   15.0   \n",
       "\n",
       "   SRS_MOTIVATION_RAW  ...  BRIEF_EMOTIONAL_T  BRIEF_BRI_T  BRIEF_INITIATE_T  \\\n",
       "0                10.0  ...               56.0         66.0              59.0   \n",
       "1                11.0  ...               65.0         58.0              56.0   \n",
       "2                14.0  ...               49.0         60.0              69.0   \n",
       "3                22.0  ...               71.0         72.0              81.0   \n",
       "4                 8.0  ...               61.0         55.0              65.0   \n",
       "\n",
       "   BRIEF_WORKING_T  BRIEF_PLAN_T  BRIEF_ORGANIZATION_T  BRIEF_MONITOR_T  \\\n",
       "0             71.0          63.0                  57.0             72.0   \n",
       "1             58.0          42.0                  71.0             44.0   \n",
       "2             72.0          72.0                  70.0             76.0   \n",
       "3             81.0          82.0                  69.0             72.0   \n",
       "4             51.0          58.0                  66.0             66.0   \n",
       "\n",
       "   BRIEF_MI_T  BRIEF_GEC_T        AGE  \n",
       "0        67.0         68.0  13.076712  \n",
       "1        54.0         56.0   9.298630  \n",
       "2        75.0         71.0  12.490411  \n",
       "3        81.0         79.0   9.868493  \n",
       "4        62.0         61.0  11.484932  \n",
       "\n",
       "[5 rows x 29 columns]"
      ]
     },
     "execution_count": 3,
     "metadata": {},
     "output_type": "execute_result"
    }
   ],
   "source": [
    "ASD_df1.head()"
   ]
  },
  {
   "cell_type": "code",
   "execution_count": 4,
   "metadata": {},
   "outputs": [
    {
     "data": {
      "text/plain": [
       "(444, 29)"
      ]
     },
     "execution_count": 4,
     "metadata": {},
     "output_type": "execute_result"
    }
   ],
   "source": [
    "ASD_df1.shape"
   ]
  },
  {
   "cell_type": "markdown",
   "metadata": {},
   "source": [
    "---\n",
    "# Summary \n",
    "\n",
    "\n",
    "1. Split the dataset into Train/Test\n",
    "2. Explore the dataset with PCA dimensionnality reduction \n",
    "3. Create a Baseline to evaluate my models \n",
    "4. Models with GridSearchCV\n",
    "    * 1. Decision tree\n",
    "    * 2. Random forest\n",
    "    * 3. kNN\n",
    "    * 4. SVC\n",
    "5. Dataframe with models and conclusion\n",
    "---"
   ]
  },
  {
   "cell_type": "code",
   "execution_count": 5,
   "metadata": {},
   "outputs": [
    {
     "name": "stdout",
     "output_type": "stream",
     "text": [
      "<class 'pandas.core.frame.DataFrame'>\n",
      "RangeIndex: 444 entries, 0 to 443\n",
      "Data columns (total 29 columns):\n",
      "DX_GROUP                 444 non-null int64\n",
      "SEX                      444 non-null int64\n",
      "FIQ                      444 non-null float64\n",
      "VIQ                      444 non-null float64\n",
      "SRS_INFORMANT            444 non-null float64\n",
      "SRS_TOTAL_RAW            444 non-null float64\n",
      "SRS_AWARENESS_RAW        444 non-null float64\n",
      "SRS_COGNITION_RAW        444 non-null float64\n",
      "SRS_COMMUNICATION_RAW    444 non-null float64\n",
      "SRS_MOTIVATION_RAW       444 non-null float64\n",
      "SRS_MANNERISMS_RAW       444 non-null float64\n",
      "SRS_TOTAL_T              444 non-null float64\n",
      "SRS_AWARENESS_T          444 non-null float64\n",
      "SRS_COGNITION_T          444 non-null float64\n",
      "SRS_COMMUNICATION_T      444 non-null float64\n",
      "SRS_MOTIVATION_T         444 non-null float64\n",
      "SRS_MANNERISMS_T         444 non-null float64\n",
      "BRIEF_INHIBIT_T          444 non-null float64\n",
      "BRIEF_SHIFT_T            444 non-null float64\n",
      "BRIEF_EMOTIONAL_T        444 non-null float64\n",
      "BRIEF_BRI_T              444 non-null float64\n",
      "BRIEF_INITIATE_T         444 non-null float64\n",
      "BRIEF_WORKING_T          444 non-null float64\n",
      "BRIEF_PLAN_T             444 non-null float64\n",
      "BRIEF_ORGANIZATION_T     444 non-null float64\n",
      "BRIEF_MONITOR_T          444 non-null float64\n",
      "BRIEF_MI_T               444 non-null float64\n",
      "BRIEF_GEC_T              444 non-null float64\n",
      "AGE                      444 non-null float64\n",
      "dtypes: float64(27), int64(2)\n",
      "memory usage: 100.7 KB\n"
     ]
    }
   ],
   "source": [
    "ASD_df1.info() # Looks good !!"
   ]
  },
  {
   "cell_type": "markdown",
   "metadata": {},
   "source": [
    "## 1. Train/Test split"
   ]
  },
  {
   "cell_type": "code",
   "execution_count": 6,
   "metadata": {},
   "outputs": [
    {
     "name": "stdout",
     "output_type": "stream",
     "text": [
      "X train: (355, 28)\n",
      "X test: (89, 28)\n",
      "y train: (355,)\n",
      "y test: (89,)\n",
      "ASD in the test data: 42\n",
      "Control in the test data: 47\n"
     ]
    }
   ],
   "source": [
    "from sklearn.model_selection import train_test_split\n",
    "\n",
    "# Create X and y arrays for my analysis\n",
    "X = ASD_df1.drop(['DX_GROUP'], axis=1).values\n",
    "y = ASD_df1.DX_GROUP.values\n",
    "\n",
    "X_tr, X_te, y_tr, y_te = train_test_split(X, y, test_size=0.20, random_state=14)\n",
    "\n",
    "print('X train:', X_tr.shape)\n",
    "print('X test:', X_te.shape)\n",
    "print('y train:', y_tr.shape)\n",
    "print('y test:', y_te.shape)\n",
    "\n",
    "print('ASD in the test data:', (y_te == 1).sum())\n",
    "print('Control in the test data:', (y_te == 2).sum())"
   ]
  },
  {
   "cell_type": "code",
   "execution_count": 7,
   "metadata": {},
   "outputs": [
    {
     "name": "stdout",
     "output_type": "stream",
     "text": [
      "Age of train control: 10.48\n",
      "Age of train asd: 9.99\n",
      "Age of test control: 10.42\n",
      "Age of test asd: 10.62\n"
     ]
    }
   ],
   "source": [
    "# Check the age of the target to be sure that not all the control are old \n",
    "\n",
    "print('Age of train control: {:.2f}'.format(X_tr[(y_tr == 2), -1].mean())) # Mean age of control\n",
    "print('Age of train asd: {:.2f}'.format(X_tr[(y_tr == 1), -1].mean())) # Mean age of asd\n",
    "\n",
    "print('Age of test control: {:.2f}'.format(X_te[(y_te == 2), -1].mean())) # Mean age of control\n",
    "print('Age of test asd: {:.2f}'.format(X_te[(y_te == 1), -1].mean())) # Mean age of asd"
   ]
  },
  {
   "cell_type": "code",
   "execution_count": 8,
   "metadata": {},
   "outputs": [
    {
     "name": "stdout",
     "output_type": "stream",
     "text": [
      "Male and ASD: 0.34\n",
      "Male and Control: 0.37\n",
      "Female and ASD: 0.09\n",
      "Female and Control: 0.19\n",
      "\n",
      "---- TEST SET ----\n",
      "Male and ASD: 0.44\n",
      "Male and control: 0.38\n",
      "Female and ASD: 0.03\n",
      "Female and control: 0.15\n"
     ]
    }
   ],
   "source": [
    "# Check the sex of the target to be sure not all the control are one of both \n",
    "# 1 = male, 2 = female\n",
    "\n",
    "print('Male and ASD: {:.2f}'.format(((((X_tr[:,0]==1) & (y_tr == 1)).sum())/len(X_tr))))\n",
    "print('Male and Control: {:.2f}'.format(((((X_tr[:,0]==1) & (y_tr == 2)).sum())/len(X_tr))))\n",
    "print('Female and ASD: {:.2f}'.format(((((X_tr[:,0]==2) & (y_tr == 1)).sum())/len(X_tr))))\n",
    "print('Female and Control: {:.2f}'.format(((((X_tr[:,0]==2) & (y_tr == 2)).sum())/len(X_tr))))\n",
    "\n",
    "print()\n",
    "print('---- TEST SET ----')\n",
    "print('Male and ASD: {:.2f}'.format(((((X_te[:,0]==1) & (y_te == 1)).sum())/len(X_te))))\n",
    "print('Male and control: {:.2f}'.format(((((X_te[:,0]==1) & (y_te == 2)).sum())/len(X_te))))\n",
    "print('Female and ASD: {:.2f}'.format(((((X_te[:,0]==2) & (y_te == 1)).sum())/len(X_te))))\n",
    "print('Female and control: {:.2f}'.format(((((X_te[:,0]==2) & (y_te == 2)).sum())/len(X_te))))"
   ]
  },
  {
   "cell_type": "markdown",
   "metadata": {},
   "source": [
    "## 2. PCA plotting of my dataset"
   ]
  },
  {
   "cell_type": "code",
   "execution_count": 9,
   "metadata": {},
   "outputs": [],
   "source": [
    "from sklearn.preprocessing import StandardScaler\n",
    "\n",
    "# Transform X_tr\n",
    "scaler = StandardScaler()\n",
    "X_tr_rescaled = scaler.fit_transform(X_tr, y_tr)"
   ]
  },
  {
   "cell_type": "code",
   "execution_count": 10,
   "metadata": {},
   "outputs": [
    {
     "data": {
      "image/png": "[encoded data removed]",
      "text/plain": [
       "<Figure size 432x288 with 1 Axes>"
      ]
     },
     "metadata": {
      "needs_background": "light"
     },
     "output_type": "display_data"
    }
   ],
   "source": [
    "from sklearn.decomposition import PCA\n",
    "\n",
    "# Create PCA transformer\n",
    "pca = PCA(n_components=2)\n",
    "\n",
    "X_2d = pca.fit_transform(X_tr_rescaled);\n",
    "\n",
    "\n",
    "for groups in [1, 2]:\n",
    "    idx = (y_tr == groups)\n",
    "    \n",
    "    if groups == 1:\n",
    "        groups = 'ASD'\n",
    "    if groups == 2:\n",
    "        groups = 'Control'\n",
    "\n",
    "    # Plot their components\n",
    "    plt.scatter(\n",
    "        X_2d[idx, 0], X_2d[idx, 1],\n",
    "        label='type {}'.format(groups)\n",
    "    )\n",
    "\n",
    "# Labels and legend\n",
    "plt.legend()\n",
    "plt.xlabel('1st component')\n",
    "plt.ylabel('2nd component')\n",
    "plt.title('Dataset 1: PCA decomposition')\n",
    "plt.show()"
   ]
  },
  {
   "cell_type": "code",
   "execution_count": 11,
   "metadata": {},
   "outputs": [
    {
     "data": {
      "image/png": "[encoded data removed]",
      "text/plain": [
       "<Figure size 720x576 with 1 Axes>"
      ]
     },
     "metadata": {
      "needs_background": "light"
     },
     "output_type": "display_data"
    }
   ],
   "source": [
    "from mpl_toolkits.mplot3d import axes3d\n",
    "from sklearn.decomposition import PCA\n",
    "\n",
    "# Create PCA transformer\n",
    "pca = PCA(n_components=3)\n",
    "\n",
    "X_3d = pca.fit_transform(X_tr_rescaled);\n",
    "\n",
    "fig = plt.figure(figsize=(10, 8))\n",
    "ax = plt.axes(projection='3d')\n",
    "\n",
    "# Data for a three-dimensional line\n",
    "\n",
    "for groups in [1, 2]:\n",
    "    \n",
    "    idx = (y_tr == groups)\n",
    "    \n",
    "    if groups == 1:\n",
    "        groups = 'ASD'\n",
    "    if groups == 2:\n",
    "        groups = 'Control'\n",
    "    \n",
    "    ax.scatter3D(\n",
    "        X_3d[idx, 0], X_3d[idx, 1], X_3d[idx, 2],\n",
    "        label='type {}'.format(groups), marker='o'\n",
    "    )\n",
    "    \n",
    "plt.legend()\n",
    "ax.set_zlabel('1st component')\n",
    "ax.set_xlabel('2nd component')\n",
    "ax.set_ylabel('3th component')\n",
    "plt.title('Dataset 1: PCA decomposition')\n",
    "plt.show()"
   ]
  },
  {
   "cell_type": "code",
   "execution_count": 12,
   "metadata": {},
   "outputs": [],
   "source": [
    "# Try to see how much component we need with PCA\n",
    "\n",
    "# Create PCA transformer\n",
    "pca = PCA(n_components=None)\n",
    "\n",
    "# Apply PCA to rescaled data\n",
    "X_pca_rescaled = pca.fit_transform(X_tr_rescaled)\n",
    "\n",
    "# Proportion of variance explained\n",
    "pca.explained_variance_ratio_;"
   ]
  },
  {
   "cell_type": "code",
   "execution_count": 13,
   "metadata": {},
   "outputs": [],
   "source": [
    "pve = pca.explained_variance_ratio_"
   ]
  },
  {
   "cell_type": "code",
   "execution_count": 14,
   "metadata": {},
   "outputs": [
    {
     "data": {
      "image/png": "[encoded data removed]",
      "text/plain": [
       "<Figure size 432x288 with 1 Axes>"
      ]
     },
     "metadata": {
      "needs_background": "light"
     },
     "output_type": "display_data"
    }
   ],
   "source": [
    "# Create bar plot\n",
    "xcor = np.arange(1, len(pve) + 1) # 1,2,..,n_components\n",
    "plt.bar(xcor, pve)\n",
    "\n",
    "# Add cumulative sum\n",
    "pve_cumsum = np.cumsum(pve)\n",
    "plt.step(\n",
    "    xcor+0.5, # 1.5,2.5,..,n_components+0.5\n",
    "    pve_cumsum, # Cumulative sum\n",
    "    label='cumulative'\n",
    ")\n",
    "\n",
    "# Add labels\n",
    "plt.xlabel('principal component')\n",
    "plt.ylabel('proportion of variance explained')\n",
    "plt.legend()\n",
    "plt.show()"
   ]
  },
  {
   "cell_type": "code",
   "execution_count": 15,
   "metadata": {},
   "outputs": [],
   "source": [
    "## Number of pca is the dataset to run with grid\n",
    "\n",
    "n = len(X_tr[0])\n",
    "\n",
    "list_pca = list(range(2,n))\n",
    "list_pca.insert(0,None)\n",
    "\n",
    "# Create a dict to store the results of my models\n",
    "models_acc = dict()"
   ]
  },
  {
   "cell_type": "markdown",
   "metadata": {},
   "source": [
    "## 3. Create a Baseline to evaluate my models\n",
    "\n",
    "Since we are working here with a binary classification model I will use the 'most frequent' baseline."
   ]
  },
  {
   "cell_type": "code",
   "execution_count": 16,
   "metadata": {},
   "outputs": [
    {
     "name": "stdout",
     "output_type": "stream",
     "text": [
      "Test accuracy baseline: 52.81%\n"
     ]
    }
   ],
   "source": [
    "from sklearn.dummy import DummyClassifier\n",
    "\n",
    "# Create the dummy classifier\n",
    "dummy = DummyClassifier(strategy='most_frequent')\n",
    "\n",
    "# Fit it\n",
    "dummy.fit(None, y_tr)\n",
    "\n",
    "# Compute test accuracy\n",
    "baseline_accuracy = dummy.score(None, y_te)\n",
    "print('Test accuracy baseline: {:.2f}%'.format(100*baseline_accuracy))\n",
    "\n",
    "models_acc['baseline'] = 100*baseline_accuracy"
   ]
  },
  {
   "cell_type": "code",
   "execution_count": 17,
   "metadata": {},
   "outputs": [],
   "source": [
    "# Function to plot my confusion matrix\n",
    "# code taken at https://www.kaggle.com/grfiv4/plot-a-confusion-matrix\n",
    "\n",
    "import numpy as np\n",
    "\n",
    "\n",
    "def plot_confusion_matrix(cm,\n",
    "                          target_names,\n",
    "                          title='Confusion matrix',\n",
    "                          cmap=None,\n",
    "                          normalize=True):\n",
    "    \"\"\"\n",
    "    given a sklearn confusion matrix (cm), make a nice plot\n",
    "\n",
    "    Arguments\n",
    "    ---------\n",
    "    cm:           confusion matrix from sklearn.metrics.confusion_matrix\n",
    "\n",
    "    target_names: given classification classes such as [0, 1, 2]\n",
    "                  the class names, for example: ['high', 'medium', 'low']\n",
    "\n",
    "    title:        the text to display at the top of the matrix\n",
    "\n",
    "    cmap:         the gradient of the values displayed from matplotlib.pyplot.cm\n",
    "                  see http://matplotlib.org/examples/color/colormaps_reference.html\n",
    "                  plt.get_cmap('jet') or plt.cm.Blues\n",
    "\n",
    "    normalize:    If False, plot the raw numbers\n",
    "                  If True, plot the proportions\n",
    "\n",
    "    Usage\n",
    "    -----\n",
    "    plot_confusion_matrix(cm           = cm,                  # confusion matrix created by\n",
    "                                                              # sklearn.metrics.confusion_matrix\n",
    "                          normalize    = True,                # show proportions\n",
    "                          target_names = y_labels_vals,       # list of names of the classes\n",
    "                          title        = best_estimator_name) # title of graph\n",
    "\n",
    "    Citiation\n",
    "    ---------\n",
    "    http://scikit-learn.org/stable/auto_examples/model_selection/plot_confusion_matrix.html\n",
    "\n",
    "    \"\"\"\n",
    "    import matplotlib.pyplot as plt\n",
    "    import numpy as np\n",
    "    import itertools\n",
    "\n",
    "    accuracy = np.trace(cm) / float(np.sum(cm))\n",
    "    misclass = 1 - accuracy\n",
    "\n",
    "    if cmap is None:\n",
    "        cmap = plt.get_cmap('Blues')\n",
    "\n",
    "    plt.figure(figsize=(8, 6))\n",
    "    plt.imshow(cm, interpolation='nearest', cmap=cmap)\n",
    "    plt.title(title)\n",
    "    plt.colorbar()\n",
    "\n",
    "    if target_names is not None:\n",
    "        tick_marks = np.arange(len(target_names))\n",
    "        plt.xticks(tick_marks, target_names, rotation=45)\n",
    "        plt.yticks(tick_marks, target_names)\n",
    "\n",
    "    if normalize:\n",
    "        cm = cm.astype('float') / cm.sum(axis=1)[:, np.newaxis]\n",
    "\n",
    "\n",
    "    thresh = cm.max() / 1.5 if normalize else cm.max() / 2\n",
    "    for i, j in itertools.product(range(cm.shape[0]), range(cm.shape[1])):\n",
    "        if normalize:\n",
    "            plt.text(j, i, \"{:0.4f}\".format(cm[i, j]),\n",
    "                     horizontalalignment=\"center\",\n",
    "                     color=\"white\" if cm[i, j] > thresh else \"black\")\n",
    "        else:\n",
    "            plt.text(j, i, \"{:,}\".format(cm[i, j]),\n",
    "                     horizontalalignment=\"center\",\n",
    "                     color=\"white\" if cm[i, j] > thresh else \"black\")\n",
    "\n",
    "\n",
    "    plt.tight_layout()\n",
    "    plt.ylabel('True label')\n",
    "    plt.xlabel('Predicted label\\naccuracy={:0.4f}; misclass={:0.4f}'.format(accuracy, misclass))\n",
    "    plt.show()"
   ]
  },
  {
   "cell_type": "markdown",
   "metadata": {},
   "source": [
    "---\n",
    "---\n",
    "\n",
    "# 4. Models \n",
    "<br>\n",
    "<br>\n",
    "\n",
    "## A. Decision tree:\n",
    "\n",
    "* I will fit and plot a first decision tree since they are the most easy models to read. <br>\n",
    "* I will then implement a GridSearchCV to tune the parameters of the Decision tree."
   ]
  },
  {
   "cell_type": "code",
   "execution_count": 18,
   "metadata": {},
   "outputs": [
    {
     "name": "stdout",
     "output_type": "stream",
     "text": [
      "0.9325842696629213\n"
     ]
    },
    {
     "name": "stderr",
     "output_type": "stream",
     "text": [
      "C:\\Users\\xavier\\anaconda3\\envs\\exts-ml\\lib\\site-packages\\sklearn\\preprocessing\\data.py:765: DeprecationWarning: The parameter y on transform() is deprecated since 0.19 and will be removed in 0.21\n",
      "  DeprecationWarning)\n"
     ]
    },
    {
     "data": {
      "image/svg+xml": [
       "<?xml version=\"1.0\" encoding=\"UTF-8\" standalone=\"no\"?>\r\n",
       "<!DOCTYPE svg PUBLIC \"-//W3C//DTD SVG 1.1//EN\"\r\n",
       " \"http://www.w3.org/Graphics/SVG/1.1/DTD/svg11.dtd\">\r\n",
       "<!-- Generated by graphviz version 2.38.0 (20140413.2041)\r\n",
       " -->\r\n",
       "<!-- Title: Tree Pages: 1 -->\r\n",
       "<svg width=\"1195pt\" height=\"789pt\"\r\n",
       " viewBox=\"0.00 0.00 1195.00 789.00\" xmlns=\"http://www.w3.org/2000/svg\" xmlns:xlink=\"http://www.w3.org/1999/xlink\">\r\n",
       "<g id=\"graph0\" class=\"graph\" transform=\"scale(1 1) rotate(0) translate(4 785)\">\r\n",
       "<title>Tree</title>\r\n",
       "<polygon fill=\"white\" stroke=\"none\" points=\"-4,4 -4,-785 1191,-785 1191,4 -4,4\"/>\r\n",
       "<!-- 0 -->\r\n",
       "<g id=\"node1\" class=\"node\"><title>0</title>\r\n",
       "<path fill=\"#399de5\" fill-opacity=\"0.235294\" stroke=\"black\" d=\"M670.5,-781C670.5,-781 540.5,-781 540.5,-781 534.5,-781 528.5,-775 528.5,-769 528.5,-769 528.5,-725 528.5,-725 528.5,-719 534.5,-713 540.5,-713 540.5,-713 670.5,-713 670.5,-713 676.5,-713 682.5,-719 682.5,-725 682.5,-725 682.5,-769 682.5,-769 682.5,-775 676.5,-781 670.5,-781\"/>\r\n",
       "<text text-anchor=\"middle\" x=\"605.5\" y=\"-765.8\" font-family=\"Helvetica,sans-Serif\" font-size=\"14.00\">X[9] &lt;= &#45;0.242</text>\r\n",
       "<text text-anchor=\"middle\" x=\"605.5\" y=\"-750.8\" font-family=\"Helvetica,sans-Serif\" font-size=\"14.00\">gini = 0.491</text>\r\n",
       "<text text-anchor=\"middle\" x=\"605.5\" y=\"-735.8\" font-family=\"Helvetica,sans-Serif\" font-size=\"14.00\">samples = 100.0%</text>\r\n",
       "<text text-anchor=\"middle\" x=\"605.5\" y=\"-720.8\" font-family=\"Helvetica,sans-Serif\" font-size=\"14.00\">value = [0.434, 0.566]</text>\r\n",
       "</g>\r\n",
       "<!-- 1 -->\r\n",
       "<g id=\"node2\" class=\"node\"><title>1</title>\r\n",
       "<path fill=\"#399de5\" fill-opacity=\"0.968627\" stroke=\"black\" d=\"M547,-677C547,-677 434,-677 434,-677 428,-677 422,-671 422,-665 422,-665 422,-621 422,-621 422,-615 428,-609 434,-609 434,-609 547,-609 547,-609 553,-609 559,-615 559,-621 559,-621 559,-665 559,-665 559,-671 553,-677 547,-677\"/>\r\n",
       "<text text-anchor=\"middle\" x=\"490.5\" y=\"-661.8\" font-family=\"Helvetica,sans-Serif\" font-size=\"14.00\">X[2] &lt;= &#45;1.846</text>\r\n",
       "<text text-anchor=\"middle\" x=\"490.5\" y=\"-646.8\" font-family=\"Helvetica,sans-Serif\" font-size=\"14.00\">gini = 0.058</text>\r\n",
       "<text text-anchor=\"middle\" x=\"490.5\" y=\"-631.8\" font-family=\"Helvetica,sans-Serif\" font-size=\"14.00\">samples = 56.1%</text>\r\n",
       "<text text-anchor=\"middle\" x=\"490.5\" y=\"-616.8\" font-family=\"Helvetica,sans-Serif\" font-size=\"14.00\">value = [0.03, 0.97]</text>\r\n",
       "</g>\r\n",
       "<!-- 0&#45;&gt;1 -->\r\n",
       "<g id=\"edge1\" class=\"edge\"><title>0&#45;&gt;1</title>\r\n",
       "<path fill=\"none\" stroke=\"black\" d=\"M568.163,-712.884C557.819,-703.709 546.478,-693.65 535.736,-684.123\"/>\r\n",
       "<polygon fill=\"black\" stroke=\"black\" points=\"537.847,-681.317 528.043,-677.299 533.202,-686.553 537.847,-681.317\"/>\r\n",
       "<text text-anchor=\"middle\" x=\"529.538\" y=\"-698.555\" font-family=\"Helvetica,sans-Serif\" font-size=\"14.00\">True</text>\r\n",
       "</g>\r\n",
       "<!-- 18 -->\r\n",
       "<g id=\"node19\" class=\"node\"><title>18</title>\r\n",
       "<path fill=\"#e58139\" fill-opacity=\"0.945098\" stroke=\"black\" d=\"M786.5,-677C786.5,-677 656.5,-677 656.5,-677 650.5,-677 644.5,-671 644.5,-665 644.5,-665 644.5,-621 644.5,-621 644.5,-615 650.5,-609 656.5,-609 656.5,-609 786.5,-609 786.5,-609 792.5,-609 798.5,-615 798.5,-621 798.5,-621 798.5,-665 798.5,-665 798.5,-671 792.5,-677 786.5,-677\"/>\r\n",
       "<text text-anchor=\"middle\" x=\"721.5\" y=\"-661.8\" font-family=\"Helvetica,sans-Serif\" font-size=\"14.00\">X[4] &lt;= 0.175</text>\r\n",
       "<text text-anchor=\"middle\" x=\"721.5\" y=\"-646.8\" font-family=\"Helvetica,sans-Serif\" font-size=\"14.00\">gini = 0.097</text>\r\n",
       "<text text-anchor=\"middle\" x=\"721.5\" y=\"-631.8\" font-family=\"Helvetica,sans-Serif\" font-size=\"14.00\">samples = 43.9%</text>\r\n",
       "<text text-anchor=\"middle\" x=\"721.5\" y=\"-616.8\" font-family=\"Helvetica,sans-Serif\" font-size=\"14.00\">value = [0.949, 0.051]</text>\r\n",
       "</g>\r\n",
       "<!-- 0&#45;&gt;18 -->\r\n",
       "<g id=\"edge18\" class=\"edge\"><title>0&#45;&gt;18</title>\r\n",
       "<path fill=\"none\" stroke=\"black\" d=\"M643.162,-712.884C653.596,-703.709 665.035,-693.65 675.87,-684.123\"/>\r\n",
       "<polygon fill=\"black\" stroke=\"black\" points=\"678.432,-686.531 683.63,-677.299 673.809,-681.274 678.432,-686.531\"/>\r\n",
       "<text text-anchor=\"middle\" x=\"682.028\" y=\"-698.548\" font-family=\"Helvetica,sans-Serif\" font-size=\"14.00\">False</text>\r\n",
       "</g>\r\n",
       "<!-- 2 -->\r\n",
       "<g id=\"node3\" class=\"node\"><title>2</title>\r\n",
       "<path fill=\"#e58139\" fill-opacity=\"0.666667\" stroke=\"black\" d=\"M324,-573C324,-573 211,-573 211,-573 205,-573 199,-567 199,-561 199,-561 199,-517 199,-517 199,-511 205,-505 211,-505 211,-505 324,-505 324,-505 330,-505 336,-511 336,-517 336,-517 336,-561 336,-561 336,-567 330,-573 324,-573\"/>\r\n",
       "<text text-anchor=\"middle\" x=\"267.5\" y=\"-557.8\" font-family=\"Helvetica,sans-Serif\" font-size=\"14.00\">X[19] &lt;= &#45;0.81</text>\r\n",
       "<text text-anchor=\"middle\" x=\"267.5\" y=\"-542.8\" font-family=\"Helvetica,sans-Serif\" font-size=\"14.00\">gini = 0.375</text>\r\n",
       "<text text-anchor=\"middle\" x=\"267.5\" y=\"-527.8\" font-family=\"Helvetica,sans-Serif\" font-size=\"14.00\">samples = 1.1%</text>\r\n",
       "<text text-anchor=\"middle\" x=\"267.5\" y=\"-512.8\" font-family=\"Helvetica,sans-Serif\" font-size=\"14.00\">value = [0.75, 0.25]</text>\r\n",
       "</g>\r\n",
       "<!-- 1&#45;&gt;2 -->\r\n",
       "<g id=\"edge2\" class=\"edge\"><title>1&#45;&gt;2</title>\r\n",
       "<path fill=\"none\" stroke=\"black\" d=\"M421.773,-610.564C397.602,-599.509 370.271,-587.007 345.4,-575.631\"/>\r\n",
       "<polygon fill=\"black\" stroke=\"black\" points=\"346.55,-572.309 336,-571.332 343.638,-578.674 346.55,-572.309\"/>\r\n",
       "</g>\r\n",
       "<!-- 5 -->\r\n",
       "<g id=\"node6\" class=\"node\"><title>5</title>\r\n",
       "<path fill=\"#399de5\" fill-opacity=\"0.984314\" stroke=\"black\" d=\"M555.5,-573C555.5,-573 425.5,-573 425.5,-573 419.5,-573 413.5,-567 413.5,-561 413.5,-561 413.5,-517 413.5,-517 413.5,-511 419.5,-505 425.5,-505 425.5,-505 555.5,-505 555.5,-505 561.5,-505 567.5,-511 567.5,-517 567.5,-517 567.5,-561 567.5,-561 567.5,-567 561.5,-573 555.5,-573\"/>\r\n",
       "<text text-anchor=\"middle\" x=\"490.5\" y=\"-557.8\" font-family=\"Helvetica,sans-Serif\" font-size=\"14.00\">X[27] &lt;= &#45;2.072</text>\r\n",
       "<text text-anchor=\"middle\" x=\"490.5\" y=\"-542.8\" font-family=\"Helvetica,sans-Serif\" font-size=\"14.00\">gini = 0.03</text>\r\n",
       "<text text-anchor=\"middle\" x=\"490.5\" y=\"-527.8\" font-family=\"Helvetica,sans-Serif\" font-size=\"14.00\">samples = 54.9%</text>\r\n",
       "<text text-anchor=\"middle\" x=\"490.5\" y=\"-512.8\" font-family=\"Helvetica,sans-Serif\" font-size=\"14.00\">value = [0.015, 0.985]</text>\r\n",
       "</g>\r\n",
       "<!-- 1&#45;&gt;5 -->\r\n",
       "<g id=\"edge5\" class=\"edge\"><title>1&#45;&gt;5</title>\r\n",
       "<path fill=\"none\" stroke=\"black\" d=\"M490.5,-608.884C490.5,-600.778 490.5,-591.982 490.5,-583.472\"/>\r\n",
       "<polygon fill=\"black\" stroke=\"black\" points=\"494,-583.299 490.5,-573.299 487,-583.299 494,-583.299\"/>\r\n",
       "</g>\r\n",
       "<!-- 3 -->\r\n",
       "<g id=\"node4\" class=\"node\"><title>3</title>\r\n",
       "<path fill=\"#399de5\" stroke=\"black\" d=\"M177,-461.5C177,-461.5 80,-461.5 80,-461.5 74,-461.5 68,-455.5 68,-449.5 68,-449.5 68,-420.5 68,-420.5 68,-414.5 74,-408.5 80,-408.5 80,-408.5 177,-408.5 177,-408.5 183,-408.5 189,-414.5 189,-420.5 189,-420.5 189,-449.5 189,-449.5 189,-455.5 183,-461.5 177,-461.5\"/>\r\n",
       "<text text-anchor=\"middle\" x=\"128.5\" y=\"-446.3\" font-family=\"Helvetica,sans-Serif\" font-size=\"14.00\">gini = 0.0</text>\r\n",
       "<text text-anchor=\"middle\" x=\"128.5\" y=\"-431.3\" font-family=\"Helvetica,sans-Serif\" font-size=\"14.00\">samples = 0.3%</text>\r\n",
       "<text text-anchor=\"middle\" x=\"128.5\" y=\"-416.3\" font-family=\"Helvetica,sans-Serif\" font-size=\"14.00\">value = [0.0, 1.0]</text>\r\n",
       "</g>\r\n",
       "<!-- 2&#45;&gt;3 -->\r\n",
       "<g id=\"edge3\" class=\"edge\"><title>2&#45;&gt;3</title>\r\n",
       "<path fill=\"none\" stroke=\"black\" d=\"M222.371,-504.884C206.035,-492.896 187.641,-479.399 171.494,-467.549\"/>\r\n",
       "<polygon fill=\"black\" stroke=\"black\" points=\"173.41,-464.614 163.277,-461.52 169.269,-470.258 173.41,-464.614\"/>\r\n",
       "</g>\r\n",
       "<!-- 4 -->\r\n",
       "<g id=\"node5\" class=\"node\"><title>4</title>\r\n",
       "<path fill=\"#e58139\" stroke=\"black\" d=\"M316,-461.5C316,-461.5 219,-461.5 219,-461.5 213,-461.5 207,-455.5 207,-449.5 207,-449.5 207,-420.5 207,-420.5 207,-414.5 213,-408.5 219,-408.5 219,-408.5 316,-408.5 316,-408.5 322,-408.5 328,-414.5 328,-420.5 328,-420.5 328,-449.5 328,-449.5 328,-455.5 322,-461.5 316,-461.5\"/>\r\n",
       "<text text-anchor=\"middle\" x=\"267.5\" y=\"-446.3\" font-family=\"Helvetica,sans-Serif\" font-size=\"14.00\">gini = 0.0</text>\r\n",
       "<text text-anchor=\"middle\" x=\"267.5\" y=\"-431.3\" font-family=\"Helvetica,sans-Serif\" font-size=\"14.00\">samples = 0.8%</text>\r\n",
       "<text text-anchor=\"middle\" x=\"267.5\" y=\"-416.3\" font-family=\"Helvetica,sans-Serif\" font-size=\"14.00\">value = [1.0, 0.0]</text>\r\n",
       "</g>\r\n",
       "<!-- 2&#45;&gt;4 -->\r\n",
       "<g id=\"edge4\" class=\"edge\"><title>2&#45;&gt;4</title>\r\n",
       "<path fill=\"none\" stroke=\"black\" d=\"M267.5,-504.884C267.5,-494.326 267.5,-482.597 267.5,-471.854\"/>\r\n",
       "<polygon fill=\"black\" stroke=\"black\" points=\"271,-471.52 267.5,-461.52 264,-471.52 271,-471.52\"/>\r\n",
       "</g>\r\n",
       "<!-- 6 -->\r\n",
       "<g id=\"node7\" class=\"node\"><title>6</title>\r\n",
       "<path fill=\"#e58139\" stroke=\"black\" d=\"M455,-461.5C455,-461.5 358,-461.5 358,-461.5 352,-461.5 346,-455.5 346,-449.5 346,-449.5 346,-420.5 346,-420.5 346,-414.5 352,-408.5 358,-408.5 358,-408.5 455,-408.5 455,-408.5 461,-408.5 467,-414.5 467,-420.5 467,-420.5 467,-449.5 467,-449.5 467,-455.5 461,-461.5 455,-461.5\"/>\r\n",
       "<text text-anchor=\"middle\" x=\"406.5\" y=\"-446.3\" font-family=\"Helvetica,sans-Serif\" font-size=\"14.00\">gini = 0.0</text>\r\n",
       "<text text-anchor=\"middle\" x=\"406.5\" y=\"-431.3\" font-family=\"Helvetica,sans-Serif\" font-size=\"14.00\">samples = 0.3%</text>\r\n",
       "<text text-anchor=\"middle\" x=\"406.5\" y=\"-416.3\" font-family=\"Helvetica,sans-Serif\" font-size=\"14.00\">value = [1.0, 0.0]</text>\r\n",
       "</g>\r\n",
       "<!-- 5&#45;&gt;6 -->\r\n",
       "<g id=\"edge6\" class=\"edge\"><title>5&#45;&gt;6</title>\r\n",
       "<path fill=\"none\" stroke=\"black\" d=\"M463.228,-504.884C453.899,-493.556 443.46,-480.88 434.105,-469.521\"/>\r\n",
       "<polygon fill=\"black\" stroke=\"black\" points=\"436.575,-467.014 427.516,-461.52 431.172,-471.464 436.575,-467.014\"/>\r\n",
       "</g>\r\n",
       "<!-- 7 -->\r\n",
       "<g id=\"node8\" class=\"node\"><title>7</title>\r\n",
       "<path fill=\"#399de5\" fill-opacity=\"0.988235\" stroke=\"black\" d=\"M610,-469C610,-469 497,-469 497,-469 491,-469 485,-463 485,-457 485,-457 485,-413 485,-413 485,-407 491,-401 497,-401 497,-401 610,-401 610,-401 616,-401 622,-407 622,-413 622,-413 622,-457 622,-457 622,-463 616,-469 610,-469\"/>\r\n",
       "<text text-anchor=\"middle\" x=\"553.5\" y=\"-453.8\" font-family=\"Helvetica,sans-Serif\" font-size=\"14.00\">X[11] &lt;= 0.684</text>\r\n",
       "<text text-anchor=\"middle\" x=\"553.5\" y=\"-438.8\" font-family=\"Helvetica,sans-Serif\" font-size=\"14.00\">gini = 0.02</text>\r\n",
       "<text text-anchor=\"middle\" x=\"553.5\" y=\"-423.8\" font-family=\"Helvetica,sans-Serif\" font-size=\"14.00\">samples = 54.6%</text>\r\n",
       "<text text-anchor=\"middle\" x=\"553.5\" y=\"-408.8\" font-family=\"Helvetica,sans-Serif\" font-size=\"14.00\">value = [0.01, 0.99]</text>\r\n",
       "</g>\r\n",
       "<!-- 5&#45;&gt;7 -->\r\n",
       "<g id=\"edge7\" class=\"edge\"><title>5&#45;&gt;7</title>\r\n",
       "<path fill=\"none\" stroke=\"black\" d=\"M510.954,-504.884C516.236,-496.332 521.992,-487.013 527.514,-478.072\"/>\r\n",
       "<polygon fill=\"black\" stroke=\"black\" points=\"530.656,-479.647 532.933,-469.299 524.7,-475.968 530.656,-479.647\"/>\r\n",
       "</g>\r\n",
       "<!-- 8 -->\r\n",
       "<g id=\"node9\" class=\"node\"><title>8</title>\r\n",
       "<path fill=\"#399de5\" fill-opacity=\"0.996078\" stroke=\"black\" d=\"M353.5,-365C353.5,-365 223.5,-365 223.5,-365 217.5,-365 211.5,-359 211.5,-353 211.5,-353 211.5,-309 211.5,-309 211.5,-303 217.5,-297 223.5,-297 223.5,-297 353.5,-297 353.5,-297 359.5,-297 365.5,-303 365.5,-309 365.5,-309 365.5,-353 365.5,-353 365.5,-359 359.5,-365 353.5,-365\"/>\r\n",
       "<text text-anchor=\"middle\" x=\"288.5\" y=\"-349.8\" font-family=\"Helvetica,sans-Serif\" font-size=\"14.00\">X[1] &lt;= &#45;1.019</text>\r\n",
       "<text text-anchor=\"middle\" x=\"288.5\" y=\"-334.8\" font-family=\"Helvetica,sans-Serif\" font-size=\"14.00\">gini = 0.01</text>\r\n",
       "<text text-anchor=\"middle\" x=\"288.5\" y=\"-319.8\" font-family=\"Helvetica,sans-Serif\" font-size=\"14.00\">samples = 54.1%</text>\r\n",
       "<text text-anchor=\"middle\" x=\"288.5\" y=\"-304.8\" font-family=\"Helvetica,sans-Serif\" font-size=\"14.00\">value = [0.005, 0.995]</text>\r\n",
       "</g>\r\n",
       "<!-- 7&#45;&gt;8 -->\r\n",
       "<g id=\"edge8\" class=\"edge\"><title>7&#45;&gt;8</title>\r\n",
       "<path fill=\"none\" stroke=\"black\" d=\"M484.668,-404.673C481.575,-403.42 478.508,-402.19 475.5,-401 442.987,-388.132 407.006,-374.672 375.36,-363.093\"/>\r\n",
       "<polygon fill=\"black\" stroke=\"black\" points=\"376.281,-359.703 365.687,-359.562 373.881,-366.278 376.281,-359.703\"/>\r\n",
       "</g>\r\n",
       "<!-- 15 -->\r\n",
       "<g id=\"node16\" class=\"node\"><title>15</title>\r\n",
       "<path fill=\"none\" stroke=\"black\" d=\"M602,-365C602,-365 505,-365 505,-365 499,-365 493,-359 493,-353 493,-353 493,-309 493,-309 493,-303 499,-297 505,-297 505,-297 602,-297 602,-297 608,-297 614,-303 614,-309 614,-309 614,-353 614,-353 614,-359 608,-365 602,-365\"/>\r\n",
       "<text text-anchor=\"middle\" x=\"553.5\" y=\"-349.8\" font-family=\"Helvetica,sans-Serif\" font-size=\"14.00\">X[21] &lt;= &#45;0.14</text>\r\n",
       "<text text-anchor=\"middle\" x=\"553.5\" y=\"-334.8\" font-family=\"Helvetica,sans-Serif\" font-size=\"14.00\">gini = 0.5</text>\r\n",
       "<text text-anchor=\"middle\" x=\"553.5\" y=\"-319.8\" font-family=\"Helvetica,sans-Serif\" font-size=\"14.00\">samples = 0.6%</text>\r\n",
       "<text text-anchor=\"middle\" x=\"553.5\" y=\"-304.8\" font-family=\"Helvetica,sans-Serif\" font-size=\"14.00\">value = [0.5, 0.5]</text>\r\n",
       "</g>\r\n",
       "<!-- 7&#45;&gt;15 -->\r\n",
       "<g id=\"edge15\" class=\"edge\"><title>7&#45;&gt;15</title>\r\n",
       "<path fill=\"none\" stroke=\"black\" d=\"M553.5,-400.884C553.5,-392.778 553.5,-383.982 553.5,-375.472\"/>\r\n",
       "<polygon fill=\"black\" stroke=\"black\" points=\"557,-375.299 553.5,-365.299 550,-375.299 557,-375.299\"/>\r\n",
       "</g>\r\n",
       "<!-- 9 -->\r\n",
       "<g id=\"node10\" class=\"node\"><title>9</title>\r\n",
       "<path fill=\"#399de5\" fill-opacity=\"0.874510\" stroke=\"black\" d=\"M194.5,-261C194.5,-261 64.5,-261 64.5,-261 58.5,-261 52.5,-255 52.5,-249 52.5,-249 52.5,-205 52.5,-205 52.5,-199 58.5,-193 64.5,-193 64.5,-193 194.5,-193 194.5,-193 200.5,-193 206.5,-199 206.5,-205 206.5,-205 206.5,-249 206.5,-249 206.5,-255 200.5,-261 194.5,-261\"/>\r\n",
       "<text text-anchor=\"middle\" x=\"129.5\" y=\"-245.8\" font-family=\"Helvetica,sans-Serif\" font-size=\"14.00\">X[9] &lt;= &#45;0.669</text>\r\n",
       "<text text-anchor=\"middle\" x=\"129.5\" y=\"-230.8\" font-family=\"Helvetica,sans-Serif\" font-size=\"14.00\">gini = 0.198</text>\r\n",
       "<text text-anchor=\"middle\" x=\"129.5\" y=\"-215.8\" font-family=\"Helvetica,sans-Serif\" font-size=\"14.00\">samples = 2.5%</text>\r\n",
       "<text text-anchor=\"middle\" x=\"129.5\" y=\"-200.8\" font-family=\"Helvetica,sans-Serif\" font-size=\"14.00\">value = [0.111, 0.889]</text>\r\n",
       "</g>\r\n",
       "<!-- 8&#45;&gt;9 -->\r\n",
       "<g id=\"edge9\" class=\"edge\"><title>8&#45;&gt;9</title>\r\n",
       "<path fill=\"none\" stroke=\"black\" d=\"M236.877,-296.884C221.805,-287.214 205.202,-276.563 189.651,-266.587\"/>\r\n",
       "<polygon fill=\"black\" stroke=\"black\" points=\"191.442,-263.578 181.136,-261.125 187.663,-269.47 191.442,-263.578\"/>\r\n",
       "</g>\r\n",
       "<!-- 14 -->\r\n",
       "<g id=\"node15\" class=\"node\"><title>14</title>\r\n",
       "<path fill=\"#399de5\" stroke=\"black\" d=\"M340.5,-253.5C340.5,-253.5 236.5,-253.5 236.5,-253.5 230.5,-253.5 224.5,-247.5 224.5,-241.5 224.5,-241.5 224.5,-212.5 224.5,-212.5 224.5,-206.5 230.5,-200.5 236.5,-200.5 236.5,-200.5 340.5,-200.5 340.5,-200.5 346.5,-200.5 352.5,-206.5 352.5,-212.5 352.5,-212.5 352.5,-241.5 352.5,-241.5 352.5,-247.5 346.5,-253.5 340.5,-253.5\"/>\r\n",
       "<text text-anchor=\"middle\" x=\"288.5\" y=\"-238.3\" font-family=\"Helvetica,sans-Serif\" font-size=\"14.00\">gini = 0.0</text>\r\n",
       "<text text-anchor=\"middle\" x=\"288.5\" y=\"-223.3\" font-family=\"Helvetica,sans-Serif\" font-size=\"14.00\">samples = 51.5%</text>\r\n",
       "<text text-anchor=\"middle\" x=\"288.5\" y=\"-208.3\" font-family=\"Helvetica,sans-Serif\" font-size=\"14.00\">value = [0.0, 1.0]</text>\r\n",
       "</g>\r\n",
       "<!-- 8&#45;&gt;14 -->\r\n",
       "<g id=\"edge14\" class=\"edge\"><title>8&#45;&gt;14</title>\r\n",
       "<path fill=\"none\" stroke=\"black\" d=\"M288.5,-296.884C288.5,-286.326 288.5,-274.597 288.5,-263.854\"/>\r\n",
       "<polygon fill=\"black\" stroke=\"black\" points=\"292,-263.52 288.5,-253.52 285,-263.52 292,-263.52\"/>\r\n",
       "</g>\r\n",
       "<!-- 10 -->\r\n",
       "<g id=\"node11\" class=\"node\"><title>10</title>\r\n",
       "<path fill=\"#399de5\" stroke=\"black\" d=\"M109,-149.5C109,-149.5 12,-149.5 12,-149.5 6,-149.5 0,-143.5 0,-137.5 0,-137.5 0,-108.5 0,-108.5 0,-102.5 6,-96.5 12,-96.5 12,-96.5 109,-96.5 109,-96.5 115,-96.5 121,-102.5 121,-108.5 121,-108.5 121,-137.5 121,-137.5 121,-143.5 115,-149.5 109,-149.5\"/>\r\n",
       "<text text-anchor=\"middle\" x=\"60.5\" y=\"-134.3\" font-family=\"Helvetica,sans-Serif\" font-size=\"14.00\">gini = 0.0</text>\r\n",
       "<text text-anchor=\"middle\" x=\"60.5\" y=\"-119.3\" font-family=\"Helvetica,sans-Serif\" font-size=\"14.00\">samples = 2.0%</text>\r\n",
       "<text text-anchor=\"middle\" x=\"60.5\" y=\"-104.3\" font-family=\"Helvetica,sans-Serif\" font-size=\"14.00\">value = [0.0, 1.0]</text>\r\n",
       "</g>\r\n",
       "<!-- 9&#45;&gt;10 -->\r\n",
       "<g id=\"edge10\" class=\"edge\"><title>9&#45;&gt;10</title>\r\n",
       "<path fill=\"none\" stroke=\"black\" d=\"M107.098,-192.884C99.5091,-181.666 91.0265,-169.126 83.3998,-157.852\"/>\r\n",
       "<polygon fill=\"black\" stroke=\"black\" points=\"86.2656,-155.842 77.7635,-149.52 80.4676,-159.764 86.2656,-155.842\"/>\r\n",
       "</g>\r\n",
       "<!-- 11 -->\r\n",
       "<g id=\"node12\" class=\"node\"><title>11</title>\r\n",
       "<path fill=\"none\" stroke=\"black\" d=\"M248,-157C248,-157 151,-157 151,-157 145,-157 139,-151 139,-145 139,-145 139,-101 139,-101 139,-95 145,-89 151,-89 151,-89 248,-89 248,-89 254,-89 260,-95 260,-101 260,-101 260,-145 260,-145 260,-151 254,-157 248,-157\"/>\r\n",
       "<text text-anchor=\"middle\" x=\"199.5\" y=\"-141.8\" font-family=\"Helvetica,sans-Serif\" font-size=\"14.00\">X[18] &lt;= &#45;0.356</text>\r\n",
       "<text text-anchor=\"middle\" x=\"199.5\" y=\"-126.8\" font-family=\"Helvetica,sans-Serif\" font-size=\"14.00\">gini = 0.5</text>\r\n",
       "<text text-anchor=\"middle\" x=\"199.5\" y=\"-111.8\" font-family=\"Helvetica,sans-Serif\" font-size=\"14.00\">samples = 0.6%</text>\r\n",
       "<text text-anchor=\"middle\" x=\"199.5\" y=\"-96.8\" font-family=\"Helvetica,sans-Serif\" font-size=\"14.00\">value = [0.5, 0.5]</text>\r\n",
       "</g>\r\n",
       "<!-- 9&#45;&gt;11 -->\r\n",
       "<g id=\"edge11\" class=\"edge\"><title>9&#45;&gt;11</title>\r\n",
       "<path fill=\"none\" stroke=\"black\" d=\"M152.227,-192.884C158.157,-184.243 164.624,-174.819 170.819,-165.793\"/>\r\n",
       "<polygon fill=\"black\" stroke=\"black\" points=\"173.875,-167.525 176.647,-157.299 168.103,-163.564 173.875,-167.525\"/>\r\n",
       "</g>\r\n",
       "<!-- 12 -->\r\n",
       "<g id=\"node13\" class=\"node\"><title>12</title>\r\n",
       "<path fill=\"#e58139\" stroke=\"black\" d=\"M178,-53C178,-53 81,-53 81,-53 75,-53 69,-47 69,-41 69,-41 69,-12 69,-12 69,-6 75,-0 81,-0 81,-0 178,-0 178,-0 184,-0 190,-6 190,-12 190,-12 190,-41 190,-41 190,-47 184,-53 178,-53\"/>\r\n",
       "<text text-anchor=\"middle\" x=\"129.5\" y=\"-37.8\" font-family=\"Helvetica,sans-Serif\" font-size=\"14.00\">gini = 0.0</text>\r\n",
       "<text text-anchor=\"middle\" x=\"129.5\" y=\"-22.8\" font-family=\"Helvetica,sans-Serif\" font-size=\"14.00\">samples = 0.3%</text>\r\n",
       "<text text-anchor=\"middle\" x=\"129.5\" y=\"-7.8\" font-family=\"Helvetica,sans-Serif\" font-size=\"14.00\">value = [1.0, 0.0]</text>\r\n",
       "</g>\r\n",
       "<!-- 11&#45;&gt;12 -->\r\n",
       "<g id=\"edge12\" class=\"edge\"><title>11&#45;&gt;12</title>\r\n",
       "<path fill=\"none\" stroke=\"black\" d=\"M175.017,-88.9485C168.444,-80.0749 161.326,-70.4648 154.714,-61.5388\"/>\r\n",
       "<polygon fill=\"black\" stroke=\"black\" points=\"157.329,-59.189 148.564,-53.2367 151.704,-63.3556 157.329,-59.189\"/>\r\n",
       "</g>\r\n",
       "<!-- 13 -->\r\n",
       "<g id=\"node14\" class=\"node\"><title>13</title>\r\n",
       "<path fill=\"#399de5\" stroke=\"black\" d=\"M317,-53C317,-53 220,-53 220,-53 214,-53 208,-47 208,-41 208,-41 208,-12 208,-12 208,-6 214,-0 220,-0 220,-0 317,-0 317,-0 323,-0 329,-6 329,-12 329,-12 329,-41 329,-41 329,-47 323,-53 317,-53\"/>\r\n",
       "<text text-anchor=\"middle\" x=\"268.5\" y=\"-37.8\" font-family=\"Helvetica,sans-Serif\" font-size=\"14.00\">gini = 0.0</text>\r\n",
       "<text text-anchor=\"middle\" x=\"268.5\" y=\"-22.8\" font-family=\"Helvetica,sans-Serif\" font-size=\"14.00\">samples = 0.3%</text>\r\n",
       "<text text-anchor=\"middle\" x=\"268.5\" y=\"-7.8\" font-family=\"Helvetica,sans-Serif\" font-size=\"14.00\">value = [0.0, 1.0]</text>\r\n",
       "</g>\r\n",
       "<!-- 11&#45;&gt;13 -->\r\n",
       "<g id=\"edge13\" class=\"edge\"><title>11&#45;&gt;13</title>\r\n",
       "<path fill=\"none\" stroke=\"black\" d=\"M223.633,-88.9485C230.112,-80.0749 237.129,-70.4648 243.646,-61.5388\"/>\r\n",
       "<polygon fill=\"black\" stroke=\"black\" points=\"246.638,-63.3769 249.708,-53.2367 240.984,-59.249 246.638,-63.3769\"/>\r\n",
       "</g>\r\n",
       "<!-- 16 -->\r\n",
       "<g id=\"node17\" class=\"node\"><title>16</title>\r\n",
       "<path fill=\"#399de5\" stroke=\"black\" d=\"M480,-253.5C480,-253.5 383,-253.5 383,-253.5 377,-253.5 371,-247.5 371,-241.5 371,-241.5 371,-212.5 371,-212.5 371,-206.5 377,-200.5 383,-200.5 383,-200.5 480,-200.5 480,-200.5 486,-200.5 492,-206.5 492,-212.5 492,-212.5 492,-241.5 492,-241.5 492,-247.5 486,-253.5 480,-253.5\"/>\r\n",
       "<text text-anchor=\"middle\" x=\"431.5\" y=\"-238.3\" font-family=\"Helvetica,sans-Serif\" font-size=\"14.00\">gini = 0.0</text>\r\n",
       "<text text-anchor=\"middle\" x=\"431.5\" y=\"-223.3\" font-family=\"Helvetica,sans-Serif\" font-size=\"14.00\">samples = 0.3%</text>\r\n",
       "<text text-anchor=\"middle\" x=\"431.5\" y=\"-208.3\" font-family=\"Helvetica,sans-Serif\" font-size=\"14.00\">value = [0.0, 1.0]</text>\r\n",
       "</g>\r\n",
       "<!-- 15&#45;&gt;16 -->\r\n",
       "<g id=\"edge16\" class=\"edge\"><title>15&#45;&gt;16</title>\r\n",
       "<path fill=\"none\" stroke=\"black\" d=\"M513.89,-296.884C499.815,-285.116 484,-271.894 470.018,-260.203\"/>\r\n",
       "<polygon fill=\"black\" stroke=\"black\" points=\"471.941,-257.249 462.024,-253.52 467.451,-262.619 471.941,-257.249\"/>\r\n",
       "</g>\r\n",
       "<!-- 17 -->\r\n",
       "<g id=\"node18\" class=\"node\"><title>17</title>\r\n",
       "<path fill=\"#e58139\" stroke=\"black\" d=\"M619,-253.5C619,-253.5 522,-253.5 522,-253.5 516,-253.5 510,-247.5 510,-241.5 510,-241.5 510,-212.5 510,-212.5 510,-206.5 516,-200.5 522,-200.5 522,-200.5 619,-200.5 619,-200.5 625,-200.5 631,-206.5 631,-212.5 631,-212.5 631,-241.5 631,-241.5 631,-247.5 625,-253.5 619,-253.5\"/>\r\n",
       "<text text-anchor=\"middle\" x=\"570.5\" y=\"-238.3\" font-family=\"Helvetica,sans-Serif\" font-size=\"14.00\">gini = 0.0</text>\r\n",
       "<text text-anchor=\"middle\" x=\"570.5\" y=\"-223.3\" font-family=\"Helvetica,sans-Serif\" font-size=\"14.00\">samples = 0.3%</text>\r\n",
       "<text text-anchor=\"middle\" x=\"570.5\" y=\"-208.3\" font-family=\"Helvetica,sans-Serif\" font-size=\"14.00\">value = [1.0, 0.0]</text>\r\n",
       "</g>\r\n",
       "<!-- 15&#45;&gt;17 -->\r\n",
       "<g id=\"edge17\" class=\"edge\"><title>15&#45;&gt;17</title>\r\n",
       "<path fill=\"none\" stroke=\"black\" d=\"M559.019,-296.884C560.797,-286.216 562.775,-274.352 564.58,-263.519\"/>\r\n",
       "<polygon fill=\"black\" stroke=\"black\" points=\"568.055,-263.959 566.247,-253.52 561.15,-262.808 568.055,-263.959\"/>\r\n",
       "</g>\r\n",
       "<!-- 19 -->\r\n",
       "<g id=\"node20\" class=\"node\"><title>19</title>\r\n",
       "<path fill=\"#e58139\" fill-opacity=\"0.427451\" stroke=\"black\" d=\"M786.5,-573C786.5,-573 656.5,-573 656.5,-573 650.5,-573 644.5,-567 644.5,-561 644.5,-561 644.5,-517 644.5,-517 644.5,-511 650.5,-505 656.5,-505 656.5,-505 786.5,-505 786.5,-505 792.5,-505 798.5,-511 798.5,-517 798.5,-517 798.5,-561 798.5,-561 798.5,-567 792.5,-573 786.5,-573\"/>\r\n",
       "<text text-anchor=\"middle\" x=\"721.5\" y=\"-557.8\" font-family=\"Helvetica,sans-Serif\" font-size=\"14.00\">X[27] &lt;= 0.591</text>\r\n",
       "<text text-anchor=\"middle\" x=\"721.5\" y=\"-542.8\" font-family=\"Helvetica,sans-Serif\" font-size=\"14.00\">gini = 0.463</text>\r\n",
       "<text text-anchor=\"middle\" x=\"721.5\" y=\"-527.8\" font-family=\"Helvetica,sans-Serif\" font-size=\"14.00\">samples = 6.2%</text>\r\n",
       "<text text-anchor=\"middle\" x=\"721.5\" y=\"-512.8\" font-family=\"Helvetica,sans-Serif\" font-size=\"14.00\">value = [0.636, 0.364]</text>\r\n",
       "</g>\r\n",
       "<!-- 18&#45;&gt;19 -->\r\n",
       "<g id=\"edge19\" class=\"edge\"><title>18&#45;&gt;19</title>\r\n",
       "<path fill=\"none\" stroke=\"black\" d=\"M721.5,-608.884C721.5,-600.778 721.5,-591.982 721.5,-583.472\"/>\r\n",
       "<polygon fill=\"black\" stroke=\"black\" points=\"725,-583.299 721.5,-573.299 718,-583.299 725,-583.299\"/>\r\n",
       "</g>\r\n",
       "<!-- 28 -->\r\n",
       "<g id=\"node29\" class=\"node\"><title>28</title>\r\n",
       "<path fill=\"#e58139\" stroke=\"black\" d=\"M932.5,-565.5C932.5,-565.5 828.5,-565.5 828.5,-565.5 822.5,-565.5 816.5,-559.5 816.5,-553.5 816.5,-553.5 816.5,-524.5 816.5,-524.5 816.5,-518.5 822.5,-512.5 828.5,-512.5 828.5,-512.5 932.5,-512.5 932.5,-512.5 938.5,-512.5 944.5,-518.5 944.5,-524.5 944.5,-524.5 944.5,-553.5 944.5,-553.5 944.5,-559.5 938.5,-565.5 932.5,-565.5\"/>\r\n",
       "<text text-anchor=\"middle\" x=\"880.5\" y=\"-550.3\" font-family=\"Helvetica,sans-Serif\" font-size=\"14.00\">gini = 0.0</text>\r\n",
       "<text text-anchor=\"middle\" x=\"880.5\" y=\"-535.3\" font-family=\"Helvetica,sans-Serif\" font-size=\"14.00\">samples = 37.7%</text>\r\n",
       "<text text-anchor=\"middle\" x=\"880.5\" y=\"-520.3\" font-family=\"Helvetica,sans-Serif\" font-size=\"14.00\">value = [1.0, 0.0]</text>\r\n",
       "</g>\r\n",
       "<!-- 18&#45;&gt;28 -->\r\n",
       "<g id=\"edge28\" class=\"edge\"><title>18&#45;&gt;28</title>\r\n",
       "<path fill=\"none\" stroke=\"black\" d=\"M773.123,-608.884C792.067,-596.731 813.428,-583.027 832.081,-571.061\"/>\r\n",
       "<polygon fill=\"black\" stroke=\"black\" points=\"834.192,-573.865 840.719,-565.52 830.412,-567.974 834.192,-573.865\"/>\r\n",
       "</g>\r\n",
       "<!-- 20 -->\r\n",
       "<g id=\"node21\" class=\"node\"><title>20</title>\r\n",
       "<path fill=\"#e58139\" fill-opacity=\"0.643137\" stroke=\"black\" d=\"M786.5,-469C786.5,-469 656.5,-469 656.5,-469 650.5,-469 644.5,-463 644.5,-457 644.5,-457 644.5,-413 644.5,-413 644.5,-407 650.5,-401 656.5,-401 656.5,-401 786.5,-401 786.5,-401 792.5,-401 798.5,-407 798.5,-413 798.5,-413 798.5,-457 798.5,-457 798.5,-463 792.5,-469 786.5,-469\"/>\r\n",
       "<text text-anchor=\"middle\" x=\"721.5\" y=\"-453.8\" font-family=\"Helvetica,sans-Serif\" font-size=\"14.00\">X[21] &lt;= &#45;0.532</text>\r\n",
       "<text text-anchor=\"middle\" x=\"721.5\" y=\"-438.8\" font-family=\"Helvetica,sans-Serif\" font-size=\"14.00\">gini = 0.388</text>\r\n",
       "<text text-anchor=\"middle\" x=\"721.5\" y=\"-423.8\" font-family=\"Helvetica,sans-Serif\" font-size=\"14.00\">samples = 5.4%</text>\r\n",
       "<text text-anchor=\"middle\" x=\"721.5\" y=\"-408.8\" font-family=\"Helvetica,sans-Serif\" font-size=\"14.00\">value = [0.737, 0.263]</text>\r\n",
       "</g>\r\n",
       "<!-- 19&#45;&gt;20 -->\r\n",
       "<g id=\"edge20\" class=\"edge\"><title>19&#45;&gt;20</title>\r\n",
       "<path fill=\"none\" stroke=\"black\" d=\"M721.5,-504.884C721.5,-496.778 721.5,-487.982 721.5,-479.472\"/>\r\n",
       "<polygon fill=\"black\" stroke=\"black\" points=\"725,-479.299 721.5,-469.299 718,-479.299 725,-479.299\"/>\r\n",
       "</g>\r\n",
       "<!-- 27 -->\r\n",
       "<g id=\"node28\" class=\"node\"><title>27</title>\r\n",
       "<path fill=\"#399de5\" stroke=\"black\" d=\"M926,-461.5C926,-461.5 829,-461.5 829,-461.5 823,-461.5 817,-455.5 817,-449.5 817,-449.5 817,-420.5 817,-420.5 817,-414.5 823,-408.5 829,-408.5 829,-408.5 926,-408.5 926,-408.5 932,-408.5 938,-414.5 938,-420.5 938,-420.5 938,-449.5 938,-449.5 938,-455.5 932,-461.5 926,-461.5\"/>\r\n",
       "<text text-anchor=\"middle\" x=\"877.5\" y=\"-446.3\" font-family=\"Helvetica,sans-Serif\" font-size=\"14.00\">gini = 0.0</text>\r\n",
       "<text text-anchor=\"middle\" x=\"877.5\" y=\"-431.3\" font-family=\"Helvetica,sans-Serif\" font-size=\"14.00\">samples = 0.8%</text>\r\n",
       "<text text-anchor=\"middle\" x=\"877.5\" y=\"-416.3\" font-family=\"Helvetica,sans-Serif\" font-size=\"14.00\">value = [0.0, 1.0]</text>\r\n",
       "</g>\r\n",
       "<!-- 19&#45;&gt;27 -->\r\n",
       "<g id=\"edge27\" class=\"edge\"><title>19&#45;&gt;27</title>\r\n",
       "<path fill=\"none\" stroke=\"black\" d=\"M772.149,-504.884C790.651,-492.786 811.504,-479.151 829.746,-467.224\"/>\r\n",
       "<polygon fill=\"black\" stroke=\"black\" points=\"832.015,-469.922 838.47,-461.52 828.184,-464.063 832.015,-469.922\"/>\r\n",
       "</g>\r\n",
       "<!-- 21 -->\r\n",
       "<g id=\"node22\" class=\"node\"><title>21</title>\r\n",
       "<path fill=\"#399de5\" fill-opacity=\"0.498039\" stroke=\"black\" d=\"M786.5,-365C786.5,-365 656.5,-365 656.5,-365 650.5,-365 644.5,-359 644.5,-353 644.5,-353 644.5,-309 644.5,-309 644.5,-303 650.5,-297 656.5,-297 656.5,-297 786.5,-297 786.5,-297 792.5,-297 798.5,-303 798.5,-309 798.5,-309 798.5,-353 798.5,-353 798.5,-359 792.5,-365 786.5,-365\"/>\r\n",
       "<text text-anchor=\"middle\" x=\"721.5\" y=\"-349.8\" font-family=\"Helvetica,sans-Serif\" font-size=\"14.00\">X[9] &lt;= &#45;0.135</text>\r\n",
       "<text text-anchor=\"middle\" x=\"721.5\" y=\"-334.8\" font-family=\"Helvetica,sans-Serif\" font-size=\"14.00\">gini = 0.444</text>\r\n",
       "<text text-anchor=\"middle\" x=\"721.5\" y=\"-319.8\" font-family=\"Helvetica,sans-Serif\" font-size=\"14.00\">samples = 1.7%</text>\r\n",
       "<text text-anchor=\"middle\" x=\"721.5\" y=\"-304.8\" font-family=\"Helvetica,sans-Serif\" font-size=\"14.00\">value = [0.333, 0.667]</text>\r\n",
       "</g>\r\n",
       "<!-- 20&#45;&gt;21 -->\r\n",
       "<g id=\"edge21\" class=\"edge\"><title>20&#45;&gt;21</title>\r\n",
       "<path fill=\"none\" stroke=\"black\" d=\"M721.5,-400.884C721.5,-392.778 721.5,-383.982 721.5,-375.472\"/>\r\n",
       "<polygon fill=\"black\" stroke=\"black\" points=\"725,-375.299 721.5,-365.299 718,-375.299 725,-375.299\"/>\r\n",
       "</g>\r\n",
       "<!-- 24 -->\r\n",
       "<g id=\"node25\" class=\"node\"><title>24</title>\r\n",
       "<path fill=\"#e58139\" fill-opacity=\"0.917647\" stroke=\"black\" d=\"M1052.5,-365C1052.5,-365 922.5,-365 922.5,-365 916.5,-365 910.5,-359 910.5,-353 910.5,-353 910.5,-309 910.5,-309 910.5,-303 916.5,-297 922.5,-297 922.5,-297 1052.5,-297 1052.5,-297 1058.5,-297 1064.5,-303 1064.5,-309 1064.5,-309 1064.5,-353 1064.5,-353 1064.5,-359 1058.5,-365 1052.5,-365\"/>\r\n",
       "<text text-anchor=\"middle\" x=\"987.5\" y=\"-349.8\" font-family=\"Helvetica,sans-Serif\" font-size=\"14.00\">X[1] &lt;= 1.274</text>\r\n",
       "<text text-anchor=\"middle\" x=\"987.5\" y=\"-334.8\" font-family=\"Helvetica,sans-Serif\" font-size=\"14.00\">gini = 0.142</text>\r\n",
       "<text text-anchor=\"middle\" x=\"987.5\" y=\"-319.8\" font-family=\"Helvetica,sans-Serif\" font-size=\"14.00\">samples = 3.7%</text>\r\n",
       "<text text-anchor=\"middle\" x=\"987.5\" y=\"-304.8\" font-family=\"Helvetica,sans-Serif\" font-size=\"14.00\">value = [0.923, 0.077]</text>\r\n",
       "</g>\r\n",
       "<!-- 20&#45;&gt;24 -->\r\n",
       "<g id=\"edge24\" class=\"edge\"><title>20&#45;&gt;24</title>\r\n",
       "<path fill=\"none\" stroke=\"black\" d=\"M798.796,-404.36C830.767,-392.101 867.979,-377.831 900.868,-365.22\"/>\r\n",
       "<polygon fill=\"black\" stroke=\"black\" points=\"902.388,-368.386 910.472,-361.537 899.882,-361.85 902.388,-368.386\"/>\r\n",
       "</g>\r\n",
       "<!-- 22 -->\r\n",
       "<g id=\"node23\" class=\"node\"><title>22</title>\r\n",
       "<path fill=\"#e58139\" stroke=\"black\" d=\"M758,-253.5C758,-253.5 661,-253.5 661,-253.5 655,-253.5 649,-247.5 649,-241.5 649,-241.5 649,-212.5 649,-212.5 649,-206.5 655,-200.5 661,-200.5 661,-200.5 758,-200.5 758,-200.5 764,-200.5 770,-206.5 770,-212.5 770,-212.5 770,-241.5 770,-241.5 770,-247.5 764,-253.5 758,-253.5\"/>\r\n",
       "<text text-anchor=\"middle\" x=\"709.5\" y=\"-238.3\" font-family=\"Helvetica,sans-Serif\" font-size=\"14.00\">gini = 0.0</text>\r\n",
       "<text text-anchor=\"middle\" x=\"709.5\" y=\"-223.3\" font-family=\"Helvetica,sans-Serif\" font-size=\"14.00\">samples = 0.6%</text>\r\n",
       "<text text-anchor=\"middle\" x=\"709.5\" y=\"-208.3\" font-family=\"Helvetica,sans-Serif\" font-size=\"14.00\">value = [1.0, 0.0]</text>\r\n",
       "</g>\r\n",
       "<!-- 21&#45;&gt;22 -->\r\n",
       "<g id=\"edge22\" class=\"edge\"><title>21&#45;&gt;22</title>\r\n",
       "<path fill=\"none\" stroke=\"black\" d=\"M717.604,-296.884C716.349,-286.216 714.953,-274.352 713.679,-263.519\"/>\r\n",
       "<polygon fill=\"black\" stroke=\"black\" points=\"717.147,-263.042 712.502,-253.52 710.195,-263.86 717.147,-263.042\"/>\r\n",
       "</g>\r\n",
       "<!-- 23 -->\r\n",
       "<g id=\"node24\" class=\"node\"><title>23</title>\r\n",
       "<path fill=\"#399de5\" stroke=\"black\" d=\"M897,-253.5C897,-253.5 800,-253.5 800,-253.5 794,-253.5 788,-247.5 788,-241.5 788,-241.5 788,-212.5 788,-212.5 788,-206.5 794,-200.5 800,-200.5 800,-200.5 897,-200.5 897,-200.5 903,-200.5 909,-206.5 909,-212.5 909,-212.5 909,-241.5 909,-241.5 909,-247.5 903,-253.5 897,-253.5\"/>\r\n",
       "<text text-anchor=\"middle\" x=\"848.5\" y=\"-238.3\" font-family=\"Helvetica,sans-Serif\" font-size=\"14.00\">gini = 0.0</text>\r\n",
       "<text text-anchor=\"middle\" x=\"848.5\" y=\"-223.3\" font-family=\"Helvetica,sans-Serif\" font-size=\"14.00\">samples = 1.1%</text>\r\n",
       "<text text-anchor=\"middle\" x=\"848.5\" y=\"-208.3\" font-family=\"Helvetica,sans-Serif\" font-size=\"14.00\">value = [0.0, 1.0]</text>\r\n",
       "</g>\r\n",
       "<!-- 21&#45;&gt;23 -->\r\n",
       "<g id=\"edge23\" class=\"edge\"><title>21&#45;&gt;23</title>\r\n",
       "<path fill=\"none\" stroke=\"black\" d=\"M762.733,-296.884C777.522,-285.006 794.156,-271.646 808.811,-259.876\"/>\r\n",
       "<polygon fill=\"black\" stroke=\"black\" points=\"811.12,-262.511 816.725,-253.52 806.737,-257.053 811.12,-262.511\"/>\r\n",
       "</g>\r\n",
       "<!-- 25 -->\r\n",
       "<g id=\"node26\" class=\"node\"><title>25</title>\r\n",
       "<path fill=\"#e58139\" stroke=\"black\" d=\"M1036,-253.5C1036,-253.5 939,-253.5 939,-253.5 933,-253.5 927,-247.5 927,-241.5 927,-241.5 927,-212.5 927,-212.5 927,-206.5 933,-200.5 939,-200.5 939,-200.5 1036,-200.5 1036,-200.5 1042,-200.5 1048,-206.5 1048,-212.5 1048,-212.5 1048,-241.5 1048,-241.5 1048,-247.5 1042,-253.5 1036,-253.5\"/>\r\n",
       "<text text-anchor=\"middle\" x=\"987.5\" y=\"-238.3\" font-family=\"Helvetica,sans-Serif\" font-size=\"14.00\">gini = 0.0</text>\r\n",
       "<text text-anchor=\"middle\" x=\"987.5\" y=\"-223.3\" font-family=\"Helvetica,sans-Serif\" font-size=\"14.00\">samples = 3.4%</text>\r\n",
       "<text text-anchor=\"middle\" x=\"987.5\" y=\"-208.3\" font-family=\"Helvetica,sans-Serif\" font-size=\"14.00\">value = [1.0, 0.0]</text>\r\n",
       "</g>\r\n",
       "<!-- 24&#45;&gt;25 -->\r\n",
       "<g id=\"edge25\" class=\"edge\"><title>24&#45;&gt;25</title>\r\n",
       "<path fill=\"none\" stroke=\"black\" d=\"M987.5,-296.884C987.5,-286.326 987.5,-274.597 987.5,-263.854\"/>\r\n",
       "<polygon fill=\"black\" stroke=\"black\" points=\"991,-263.52 987.5,-253.52 984,-263.52 991,-263.52\"/>\r\n",
       "</g>\r\n",
       "<!-- 26 -->\r\n",
       "<g id=\"node27\" class=\"node\"><title>26</title>\r\n",
       "<path fill=\"#399de5\" stroke=\"black\" d=\"M1175,-253.5C1175,-253.5 1078,-253.5 1078,-253.5 1072,-253.5 1066,-247.5 1066,-241.5 1066,-241.5 1066,-212.5 1066,-212.5 1066,-206.5 1072,-200.5 1078,-200.5 1078,-200.5 1175,-200.5 1175,-200.5 1181,-200.5 1187,-206.5 1187,-212.5 1187,-212.5 1187,-241.5 1187,-241.5 1187,-247.5 1181,-253.5 1175,-253.5\"/>\r\n",
       "<text text-anchor=\"middle\" x=\"1126.5\" y=\"-238.3\" font-family=\"Helvetica,sans-Serif\" font-size=\"14.00\">gini = 0.0</text>\r\n",
       "<text text-anchor=\"middle\" x=\"1126.5\" y=\"-223.3\" font-family=\"Helvetica,sans-Serif\" font-size=\"14.00\">samples = 0.3%</text>\r\n",
       "<text text-anchor=\"middle\" x=\"1126.5\" y=\"-208.3\" font-family=\"Helvetica,sans-Serif\" font-size=\"14.00\">value = [0.0, 1.0]</text>\r\n",
       "</g>\r\n",
       "<!-- 24&#45;&gt;26 -->\r\n",
       "<g id=\"edge26\" class=\"edge\"><title>24&#45;&gt;26</title>\r\n",
       "<path fill=\"none\" stroke=\"black\" d=\"M1032.63,-296.884C1048.97,-284.896 1067.36,-271.399 1083.51,-259.549\"/>\r\n",
       "<polygon fill=\"black\" stroke=\"black\" points=\"1085.73,-262.258 1091.72,-253.52 1081.59,-256.614 1085.73,-262.258\"/>\r\n",
       "</g>\r\n",
       "</g>\r\n",
       "</svg>\r\n"
      ],
      "text/plain": [
       "<graphviz.files.Source at 0x1b9bbd3ce10>"
      ]
     },
     "execution_count": 18,
     "metadata": {},
     "output_type": "execute_result"
    }
   ],
   "source": [
    "from sklearn.preprocessing import StandardScaler\n",
    "from sklearn.decomposition import PCA\n",
    "from sklearn.tree import DecisionTreeClassifier\n",
    "from sklearn.pipeline import Pipeline\n",
    "from sklearn.tree import export_graphviz\n",
    "import graphviz\n",
    "\n",
    "scaler = StandardScaler()\n",
    "\n",
    "# Transform X_tr\n",
    "X_tr_rescaled = scaler.fit_transform(X_tr, y_tr)\n",
    "\n",
    "# Create dt and fit it to tr\n",
    "dt = DecisionTreeClassifier(criterion='gini', max_depth=None)\n",
    "dt.fit(X_tr_rescaled, y_tr)\n",
    "\n",
    "# scale te\n",
    "X_te_rescaled = scaler.transform(X_te, y_te)\n",
    "# look at the score \n",
    "print(dt.score(X_te_rescaled, y_te))\n",
    "\n",
    "# export decision tree\n",
    "dot_data = export_graphviz(dt, out_file=None, filled=True,\n",
    "                          rounded=True, proportion=True)\n",
    "\n",
    "\n",
    "# Display decision tree\n",
    "graphviz.Source(dot_data)"
   ]
  },
  {
   "cell_type": "code",
   "execution_count": 19,
   "metadata": {},
   "outputs": [
    {
     "data": {
      "image/png": "[encoded data removed]",
      "text/plain": [
       "<Figure size 1080x360 with 1 Axes>"
      ]
     },
     "metadata": {
      "needs_background": "light"
     },
     "output_type": "display_data"
    }
   ],
   "source": [
    "# look at the features importance  \n",
    "\n",
    "features = dt.feature_importances_\n",
    "indices = np.argsort(features)[::-1]\n",
    "\n",
    "names = ASD_df1.drop(['DX_GROUP'], axis=1).copy()\n",
    "names_ind = names.columns[indices]\n",
    "names_ind\n",
    "\n",
    "# Plot the impurity-based feature importances of the forest\n",
    "plt.figure(figsize=(15,5))\n",
    "plt.title(\"Feature importances\")\n",
    "plt.bar(range(X_tr.shape[1]), features[indices],\n",
    "        color=\"r\", align=\"center\")\n",
    "plt.xticks(range(X_tr.shape[1]), names_ind, rotation='vertical')\n",
    "plt.xlim([-1, X_tr.shape[1]])\n",
    "plt.show()"
   ]
  },
  {
   "cell_type": "markdown",
   "metadata": {},
   "source": [
    "## Decision tree model with GridsearchCV\n",
    "\n",
    "Parameters:\n",
    "* Scaler : None/scaler\n",
    "* PCA reduction : n components\n",
    "* tree : max depth ?"
   ]
  },
  {
   "cell_type": "code",
   "execution_count": 20,
   "metadata": {},
   "outputs": [
    {
     "name": "stdout",
     "output_type": "stream",
     "text": [
      "Fitting 5 folds for each of 1566 candidates, totalling 7830 fits\n"
     ]
    },
    {
     "name": "stderr",
     "output_type": "stream",
     "text": [
      "[Parallel(n_jobs=-1)]: Using backend LokyBackend with 8 concurrent workers.\n",
      "[Parallel(n_jobs=-1)]: Done  34 tasks      | elapsed:    1.8s\n",
      "[Parallel(n_jobs=-1)]: Done 2377 tasks      | elapsed:    6.2s\n",
      "[Parallel(n_jobs=-1)]: Done 7377 tasks      | elapsed:   19.3s\n",
      "[Parallel(n_jobs=-1)]: Done 7830 out of 7830 | elapsed:   20.0s finished\n",
      "C:\\Users\\xavier\\anaconda3\\envs\\exts-ml\\lib\\site-packages\\sklearn\\model_selection\\_search.py:841: DeprecationWarning: The default of the `iid` parameter will change from True to False in version 0.22 and will be removed in 0.24. This will change numeric results when test-set sizes are unequal.\n",
      "  DeprecationWarning)\n"
     ]
    },
    {
     "data": {
      "text/html": [
       "<div>\n",
       "<style scoped>\n",
       "    .dataframe tbody tr th:only-of-type {\n",
       "        vertical-align: middle;\n",
       "    }\n",
       "\n",
       "    .dataframe tbody tr th {\n",
       "        vertical-align: top;\n",
       "    }\n",
       "\n",
       "    .dataframe thead th {\n",
       "        text-align: right;\n",
       "    }\n",
       "</style>\n",
       "<table border=\"1\" class=\"dataframe\">\n",
       "  <thead>\n",
       "    <tr style=\"text-align: right;\">\n",
       "      <th></th>\n",
       "      <th>scaler</th>\n",
       "      <th>PCA</th>\n",
       "      <th>tree_depth</th>\n",
       "      <th>mean_tr</th>\n",
       "      <th>mean_te</th>\n",
       "      <th>std_te</th>\n",
       "    </tr>\n",
       "  </thead>\n",
       "  <tbody>\n",
       "    <tr>\n",
       "      <th>47</th>\n",
       "      <td>StandardScaler(copy=True, with_mean=True, with...</td>\n",
       "      <td>24</td>\n",
       "      <td>1</td>\n",
       "      <td>0.952127</td>\n",
       "      <td>0.952113</td>\n",
       "      <td>0.042034</td>\n",
       "    </tr>\n",
       "    <tr>\n",
       "      <th>15</th>\n",
       "      <td>StandardScaler(copy=True, with_mean=True, with...</td>\n",
       "      <td>8</td>\n",
       "      <td>1</td>\n",
       "      <td>0.952127</td>\n",
       "      <td>0.952113</td>\n",
       "      <td>0.042034</td>\n",
       "    </tr>\n",
       "    <tr>\n",
       "      <th>27</th>\n",
       "      <td>StandardScaler(copy=True, with_mean=True, with...</td>\n",
       "      <td>14</td>\n",
       "      <td>1</td>\n",
       "      <td>0.952127</td>\n",
       "      <td>0.952113</td>\n",
       "      <td>0.042034</td>\n",
       "    </tr>\n",
       "    <tr>\n",
       "      <th>53</th>\n",
       "      <td>StandardScaler(copy=True, with_mean=True, with...</td>\n",
       "      <td>27</td>\n",
       "      <td>1</td>\n",
       "      <td>0.952127</td>\n",
       "      <td>0.952113</td>\n",
       "      <td>0.042034</td>\n",
       "    </tr>\n",
       "    <tr>\n",
       "      <th>25</th>\n",
       "      <td>StandardScaler(copy=True, with_mean=True, with...</td>\n",
       "      <td>13</td>\n",
       "      <td>1</td>\n",
       "      <td>0.952127</td>\n",
       "      <td>0.952113</td>\n",
       "      <td>0.042034</td>\n",
       "    </tr>\n",
       "  </tbody>\n",
       "</table>\n",
       "</div>"
      ],
      "text/plain": [
       "                                               scaler PCA tree_depth  \\\n",
       "47  StandardScaler(copy=True, with_mean=True, with...  24          1   \n",
       "15  StandardScaler(copy=True, with_mean=True, with...   8          1   \n",
       "27  StandardScaler(copy=True, with_mean=True, with...  14          1   \n",
       "53  StandardScaler(copy=True, with_mean=True, with...  27          1   \n",
       "25  StandardScaler(copy=True, with_mean=True, with...  13          1   \n",
       "\n",
       "     mean_tr   mean_te    std_te  \n",
       "47  0.952127  0.952113  0.042034  \n",
       "15  0.952127  0.952113  0.042034  \n",
       "27  0.952127  0.952113  0.042034  \n",
       "53  0.952127  0.952113  0.042034  \n",
       "25  0.952127  0.952113  0.042034  "
      ]
     },
     "execution_count": 20,
     "metadata": {},
     "output_type": "execute_result"
    }
   ],
   "source": [
    "from sklearn.model_selection import GridSearchCV\n",
    "from sklearn.tree import DecisionTreeClassifier\n",
    "\n",
    "dt = Pipeline([\n",
    "    ('scaler', StandardScaler()),\n",
    "    ('pca', PCA()),\n",
    "    ('dt', DecisionTreeClassifier(criterion='gini',\n",
    "                                    random_state=0))\n",
    "])\n",
    "\n",
    "\n",
    "param_grid={\n",
    "    'scaler':[None, StandardScaler()],\n",
    "    'pca__n_components':list_pca,\n",
    "    'dt__max_depth':np.arange(1,30),\n",
    "}\n",
    "\n",
    "dt_gdcv = GridSearchCV(dt, param_grid, cv=5, n_jobs=-1, verbose=1, return_train_score=True)\n",
    "\n",
    "dt_gdcv.fit(X_tr, y_tr);\n",
    "\n",
    "dt_results = pd.DataFrame({\n",
    "    'scaler':dt_gdcv.cv_results_['param_scaler'],\n",
    "    'PCA': dt_gdcv.cv_results_['param_pca__n_components'],\n",
    "    'tree_depth':dt_gdcv.cv_results_['param_dt__max_depth'],\n",
    "    'mean_tr': dt_gdcv.cv_results_['mean_train_score'],\n",
    "    'mean_te': dt_gdcv.cv_results_['mean_test_score'],\n",
    "    'std_te': dt_gdcv.cv_results_['std_test_score']\n",
    "})\n",
    "\n",
    "dt_results.sort_values(by='mean_te', ascending=False).head(5)"
   ]
  },
  {
   "cell_type": "markdown",
   "metadata": {},
   "source": [
    "#### Classification report :\n",
    "* PRECISION : How many times are we correct when we predict positive?\n",
    "* RECALL : How many times do we predict positive when it is?\n",
    "* F1 SCORE : The F1 score is a way to combine the precision and recall metrics into a single score."
   ]
  },
  {
   "cell_type": "code",
   "execution_count": 21,
   "metadata": {},
   "outputs": [
    {
     "name": "stdout",
     "output_type": "stream",
     "text": [
      "Test accuracy decision tree model: 94.38%\n",
      "              precision    recall  f1-score   support\n",
      "\n",
      "           1       0.95      0.93      0.94        42\n",
      "           2       0.94      0.96      0.95        47\n",
      "\n",
      "   micro avg       0.94      0.94      0.94        89\n",
      "   macro avg       0.94      0.94      0.94        89\n",
      "weighted avg       0.94      0.94      0.94        89\n",
      "\n"
     ]
    },
    {
     "data": {
      "image/png": "[encoded data removed]",
      "text/plain": [
       "<Figure size 576x432 with 2 Axes>"
      ]
     },
     "metadata": {
      "needs_background": "light"
     },
     "output_type": "display_data"
    }
   ],
   "source": [
    "from sklearn.metrics import classification_report\n",
    "from sklearn.metrics import confusion_matrix\n",
    "\n",
    "print('Test accuracy decision tree model: {:.2f}%'.format(100*dt_gdcv.score(X_te, y_te)))\n",
    "models_acc['Decision tree'] = 100*dt_gdcv.score(X_te, y_te)\n",
    "\n",
    "y_pred = dt_gdcv.predict(X_te)\n",
    "\n",
    "report = classification_report(y_true=y_te, y_pred=y_pred)\n",
    "print(report)\n",
    "\n",
    "# Confusion matrix\n",
    "matrix = confusion_matrix(y_true=y_te, y_pred=y_pred)\n",
    "\n",
    "plot_confusion_matrix(matrix, ['ASD', 'Control'])"
   ]
  },
  {
   "cell_type": "markdown",
   "metadata": {},
   "source": [
    "---\n",
    "\n",
    "## B. Random forest model with GridsearchCV\n",
    "\n",
    "Parameters:\n",
    "* Scaler : None/scaler\n",
    "* PCA reduction : n components\n",
    "* n_estimators : number of trees"
   ]
  },
  {
   "cell_type": "code",
   "execution_count": 22,
   "metadata": {},
   "outputs": [
    {
     "name": "stdout",
     "output_type": "stream",
     "text": [
      "Fitting 5 folds for each of 540 candidates, totalling 2700 fits\n"
     ]
    },
    {
     "name": "stderr",
     "output_type": "stream",
     "text": [
      "[Parallel(n_jobs=-1)]: Using backend LokyBackend with 8 concurrent workers.\n",
      "[Parallel(n_jobs=-1)]: Done  25 tasks      | elapsed:    2.0s\n",
      "[Parallel(n_jobs=-1)]: Done 146 tasks      | elapsed:   27.4s\n",
      "[Parallel(n_jobs=-1)]: Done 349 tasks      | elapsed:  1.1min\n",
      "[Parallel(n_jobs=-1)]: Done 632 tasks      | elapsed:  2.0min\n",
      "[Parallel(n_jobs=-1)]: Done 997 tasks      | elapsed:  3.2min\n",
      "[Parallel(n_jobs=-1)]: Done 1442 tasks      | elapsed:  4.6min\n",
      "[Parallel(n_jobs=-1)]: Done 1969 tasks      | elapsed:  6.4min\n",
      "[Parallel(n_jobs=-1)]: Done 2576 tasks      | elapsed:  8.5min\n",
      "[Parallel(n_jobs=-1)]: Done 2700 out of 2700 | elapsed:  9.0min finished\n",
      "C:\\Users\\xavier\\anaconda3\\envs\\exts-ml\\lib\\site-packages\\sklearn\\model_selection\\_search.py:841: DeprecationWarning: The default of the `iid` parameter will change from True to False in version 0.22 and will be removed in 0.24. This will change numeric results when test-set sizes are unequal.\n",
      "  DeprecationWarning)\n",
      "[Parallel(n_jobs=-1)]: Using backend ThreadingBackend with 8 concurrent workers.\n",
      "[Parallel(n_jobs=-1)]: Done  34 tasks      | elapsed:    0.0s\n",
      "[Parallel(n_jobs=-1)]: Done 184 tasks      | elapsed:    0.2s\n",
      "[Parallel(n_jobs=-1)]: Done 201 out of 201 | elapsed:    0.2s finished\n"
     ]
    },
    {
     "data": {
      "text/html": [
       "<div>\n",
       "<style scoped>\n",
       "    .dataframe tbody tr th:only-of-type {\n",
       "        vertical-align: middle;\n",
       "    }\n",
       "\n",
       "    .dataframe tbody tr th {\n",
       "        vertical-align: top;\n",
       "    }\n",
       "\n",
       "    .dataframe thead th {\n",
       "        text-align: right;\n",
       "    }\n",
       "</style>\n",
       "<table border=\"1\" class=\"dataframe\">\n",
       "  <thead>\n",
       "    <tr style=\"text-align: right;\">\n",
       "      <th></th>\n",
       "      <th>scaler</th>\n",
       "      <th>PCA</th>\n",
       "      <th>trees</th>\n",
       "      <th>mean_tr</th>\n",
       "      <th>mean_te</th>\n",
       "      <th>std_te</th>\n",
       "    </tr>\n",
       "  </thead>\n",
       "  <tbody>\n",
       "    <tr>\n",
       "      <th>8</th>\n",
       "      <td>None</td>\n",
       "      <td>None</td>\n",
       "      <td>201</td>\n",
       "      <td>1.0</td>\n",
       "      <td>0.960563</td>\n",
       "      <td>0.024049</td>\n",
       "    </tr>\n",
       "    <tr>\n",
       "      <th>416</th>\n",
       "      <td>None</td>\n",
       "      <td>21</td>\n",
       "      <td>401</td>\n",
       "      <td>1.0</td>\n",
       "      <td>0.957746</td>\n",
       "      <td>0.030634</td>\n",
       "    </tr>\n",
       "    <tr>\n",
       "      <th>414</th>\n",
       "      <td>None</td>\n",
       "      <td>21</td>\n",
       "      <td>351</td>\n",
       "      <td>1.0</td>\n",
       "      <td>0.957746</td>\n",
       "      <td>0.030634</td>\n",
       "    </tr>\n",
       "    <tr>\n",
       "      <th>406</th>\n",
       "      <td>None</td>\n",
       "      <td>21</td>\n",
       "      <td>151</td>\n",
       "      <td>1.0</td>\n",
       "      <td>0.957746</td>\n",
       "      <td>0.030634</td>\n",
       "    </tr>\n",
       "    <tr>\n",
       "      <th>10</th>\n",
       "      <td>None</td>\n",
       "      <td>None</td>\n",
       "      <td>251</td>\n",
       "      <td>1.0</td>\n",
       "      <td>0.957746</td>\n",
       "      <td>0.028012</td>\n",
       "    </tr>\n",
       "  </tbody>\n",
       "</table>\n",
       "</div>"
      ],
      "text/plain": [
       "    scaler   PCA trees  mean_tr   mean_te    std_te\n",
       "8     None  None   201      1.0  0.960563  0.024049\n",
       "416   None    21   401      1.0  0.957746  0.030634\n",
       "414   None    21   351      1.0  0.957746  0.030634\n",
       "406   None    21   151      1.0  0.957746  0.030634\n",
       "10    None  None   251      1.0  0.957746  0.028012"
      ]
     },
     "execution_count": 22,
     "metadata": {},
     "output_type": "execute_result"
    }
   ],
   "source": [
    "from sklearn.model_selection import GridSearchCV\n",
    "from sklearn.ensemble import RandomForestClassifier\n",
    "# Pipeline with gridsearch of components and number of trees\n",
    "\n",
    "random_f = Pipeline([\n",
    "    ('scaler', StandardScaler()),\n",
    "    ('pca', PCA()),\n",
    "    ('rf', RandomForestClassifier(n_jobs=-1,\n",
    "                                  verbose=1,\n",
    "                                  random_state=9\n",
    "    ))\n",
    "])\n",
    "\n",
    "param_grid={\n",
    "    'scaler':[None, StandardScaler()],\n",
    "    'pca__n_components':list_pca,\n",
    "    'rf__n_estimators':np.arange(1,501, 50),\n",
    "}\n",
    "\n",
    "rf_gdcv = GridSearchCV(random_f, param_grid, cv=5, n_jobs=-1, verbose=2, return_train_score=True)\n",
    "\n",
    "rf_gdcv.fit(X_tr, y_tr);\n",
    "\n",
    "rf_results = pd.DataFrame({\n",
    "    'scaler':rf_gdcv.cv_results_['param_scaler'],\n",
    "    'PCA': rf_gdcv.cv_results_['param_pca__n_components'],\n",
    "    'trees': rf_gdcv.cv_results_['param_rf__n_estimators'],\n",
    "    'mean_tr': rf_gdcv.cv_results_['mean_train_score'],\n",
    "    'mean_te': rf_gdcv.cv_results_['mean_test_score'],\n",
    "    'std_te': rf_gdcv.cv_results_['std_test_score']\n",
    "})\n",
    "\n",
    "rf_results.sort_values(by='mean_te', ascending=False).head(5)"
   ]
  },
  {
   "cell_type": "code",
   "execution_count": 23,
   "metadata": {},
   "outputs": [
    {
     "name": "stderr",
     "output_type": "stream",
     "text": [
      "[Parallel(n_jobs=8)]: Using backend ThreadingBackend with 8 concurrent workers.\n",
      "[Parallel(n_jobs=8)]: Done  34 tasks      | elapsed:    0.0s\n",
      "[Parallel(n_jobs=8)]: Done 184 tasks      | elapsed:    0.0s\n",
      "[Parallel(n_jobs=8)]: Done 201 out of 201 | elapsed:    0.0s finished\n",
      "[Parallel(n_jobs=8)]: Using backend ThreadingBackend with 8 concurrent workers.\n",
      "[Parallel(n_jobs=8)]: Done  34 tasks      | elapsed:    0.0s\n",
      "[Parallel(n_jobs=8)]: Done 184 tasks      | elapsed:    0.0s\n",
      "[Parallel(n_jobs=8)]: Done 201 out of 201 | elapsed:    0.0s finished\n"
     ]
    },
    {
     "name": "stdout",
     "output_type": "stream",
     "text": [
      "Test accuracy random forest model: 94.38%\n",
      "              precision    recall  f1-score   support\n",
      "\n",
      "           1       0.97      0.90      0.94        42\n",
      "           2       0.92      0.98      0.95        47\n",
      "\n",
      "   micro avg       0.94      0.94      0.94        89\n",
      "   macro avg       0.95      0.94      0.94        89\n",
      "weighted avg       0.95      0.94      0.94        89\n",
      "\n"
     ]
    },
    {
     "data": {
      "image/png": "[encoded data removed]",
      "text/plain": [
       "<Figure size 576x432 with 2 Axes>"
      ]
     },
     "metadata": {
      "needs_background": "light"
     },
     "output_type": "display_data"
    }
   ],
   "source": [
    "from sklearn.metrics import classification_report\n",
    "from sklearn.metrics import confusion_matrix\n",
    "\n",
    "print('Test accuracy random forest model: {:.2f}%'.format(100*rf_gdcv.score(X_te, y_te)))\n",
    "\n",
    "y_pred = rf_gdcv.predict(X_te)\n",
    "\n",
    "report = classification_report(y_true=y_te, y_pred=y_pred)\n",
    "print(report)\n",
    "\n",
    "# Confusion matrix\n",
    "matrix = confusion_matrix(y_true=y_te, y_pred=y_pred)\n",
    "\n",
    "plot_confusion_matrix(matrix, ['ASD', 'Control'])"
   ]
  },
  {
   "cell_type": "markdown",
   "metadata": {},
   "source": [
    "### Refine model with searched parameters\n"
   ]
  },
  {
   "cell_type": "code",
   "execution_count": 24,
   "metadata": {},
   "outputs": [
    {
     "name": "stdout",
     "output_type": "stream",
     "text": [
      "Best score: 0.9605633802816902\n",
      "Best estimator: Pipeline(memory=None,\n",
      "     steps=[('scaler', None), ('pca', PCA(copy=True, iterated_power='auto', n_components=None, random_state=None,\n",
      "  svd_solver='auto', tol=0.0, whiten=False)), ('rf', RandomForestClassifier(bootstrap=True, class_weight=None, criterion='gini',\n",
      "            max_depth=None, max_features='auto', max_leaf_node...timators=201, n_jobs=-1,\n",
      "            oob_score=False, random_state=9, verbose=1, warm_start=False))])\n",
      "Best params: {'pca__n_components': None, 'rf__n_estimators': 201, 'scaler': None}\n"
     ]
    }
   ],
   "source": [
    "print('Best score:', rf_gdcv.best_score_)\n",
    "print('Best estimator:', rf_gdcv.best_estimator_)\n",
    "print('Best params:', rf_gdcv.best_params_)"
   ]
  },
  {
   "cell_type": "code",
   "execution_count": 25,
   "metadata": {},
   "outputs": [
    {
     "name": "stdout",
     "output_type": "stream",
     "text": [
      "Fitting 5 folds for each of 100 candidates, totalling 500 fits\n"
     ]
    },
    {
     "name": "stderr",
     "output_type": "stream",
     "text": [
      "[Parallel(n_jobs=-1)]: Using backend LokyBackend with 8 concurrent workers.\n",
      "[Parallel(n_jobs=-1)]: Done  25 tasks      | elapsed:    3.8s\n",
      "[Parallel(n_jobs=-1)]: Done 146 tasks      | elapsed:   21.8s\n",
      "[Parallel(n_jobs=-1)]: Done 349 tasks      | elapsed:   55.3s\n",
      "[Parallel(n_jobs=-1)]: Done 500 out of 500 | elapsed:  1.4min finished\n",
      "[Parallel(n_jobs=-1)]: Using backend ThreadingBackend with 8 concurrent workers.\n",
      "[Parallel(n_jobs=-1)]: Done  34 tasks      | elapsed:    0.0s\n",
      "[Parallel(n_jobs=-1)]: Done 184 tasks      | elapsed:    0.1s\n",
      "[Parallel(n_jobs=-1)]: Done 232 out of 232 | elapsed:    0.1s finished\n"
     ]
    },
    {
     "data": {
      "text/html": [
       "<div>\n",
       "<style scoped>\n",
       "    .dataframe tbody tr th:only-of-type {\n",
       "        vertical-align: middle;\n",
       "    }\n",
       "\n",
       "    .dataframe tbody tr th {\n",
       "        vertical-align: top;\n",
       "    }\n",
       "\n",
       "    .dataframe thead th {\n",
       "        text-align: right;\n",
       "    }\n",
       "</style>\n",
       "<table border=\"1\" class=\"dataframe\">\n",
       "  <thead>\n",
       "    <tr style=\"text-align: right;\">\n",
       "      <th></th>\n",
       "      <th>trees</th>\n",
       "      <th>mean_tr</th>\n",
       "      <th>mean_te</th>\n",
       "      <th>std_te</th>\n",
       "    </tr>\n",
       "  </thead>\n",
       "  <tbody>\n",
       "    <tr>\n",
       "      <th>81</th>\n",
       "      <td>232</td>\n",
       "      <td>1.0</td>\n",
       "      <td>0.949296</td>\n",
       "      <td>0.025954</td>\n",
       "    </tr>\n",
       "    <tr>\n",
       "      <th>50</th>\n",
       "      <td>201</td>\n",
       "      <td>1.0</td>\n",
       "      <td>0.946479</td>\n",
       "      <td>0.027149</td>\n",
       "    </tr>\n",
       "    <tr>\n",
       "      <th>64</th>\n",
       "      <td>215</td>\n",
       "      <td>1.0</td>\n",
       "      <td>0.946479</td>\n",
       "      <td>0.027149</td>\n",
       "    </tr>\n",
       "    <tr>\n",
       "      <th>73</th>\n",
       "      <td>224</td>\n",
       "      <td>1.0</td>\n",
       "      <td>0.946479</td>\n",
       "      <td>0.027149</td>\n",
       "    </tr>\n",
       "    <tr>\n",
       "      <th>72</th>\n",
       "      <td>223</td>\n",
       "      <td>1.0</td>\n",
       "      <td>0.946479</td>\n",
       "      <td>0.027149</td>\n",
       "    </tr>\n",
       "  </tbody>\n",
       "</table>\n",
       "</div>"
      ],
      "text/plain": [
       "   trees  mean_tr   mean_te    std_te\n",
       "81   232      1.0  0.949296  0.025954\n",
       "50   201      1.0  0.946479  0.027149\n",
       "64   215      1.0  0.946479  0.027149\n",
       "73   224      1.0  0.946479  0.027149\n",
       "72   223      1.0  0.946479  0.027149"
      ]
     },
     "execution_count": 25,
     "metadata": {},
     "output_type": "execute_result"
    }
   ],
   "source": [
    "random_f_refined = Pipeline([\n",
    "#     ('scaler', scaler),\n",
    "#     ('pca', PCA(n_components=pca)),\n",
    "    ('rf', RandomForestClassifier(n_jobs=-1,\n",
    "                                  verbose=1,\n",
    "                                  random_state=9\n",
    "    ))\n",
    "])\n",
    "\n",
    "grid_refine={\n",
    "    'rf__n_estimators':np.arange(151, 251),\n",
    "}\n",
    "\n",
    "\n",
    "rf_gdcv_ref = GridSearchCV(random_f_refined, grid_refine, cv=5, n_jobs=-1, verbose=2, return_train_score=True)\n",
    "\n",
    "rf_gdcv_ref.fit(X_tr, y_tr);\n",
    "\n",
    "rf_results_ref = pd.DataFrame({\n",
    "    'trees': rf_gdcv_ref.cv_results_['param_rf__n_estimators'],\n",
    "    'mean_tr': rf_gdcv_ref.cv_results_['mean_train_score'],\n",
    "    'mean_te': rf_gdcv_ref.cv_results_['mean_test_score'],\n",
    "    'std_te': rf_gdcv_ref.cv_results_['std_test_score']\n",
    "})\n",
    "\n",
    "rf_results_ref.sort_values(by='mean_te', ascending=False).head(5)"
   ]
  },
  {
   "cell_type": "code",
   "execution_count": 26,
   "metadata": {},
   "outputs": [
    {
     "name": "stderr",
     "output_type": "stream",
     "text": [
      "[Parallel(n_jobs=8)]: Using backend ThreadingBackend with 8 concurrent workers.\n",
      "[Parallel(n_jobs=8)]: Done  34 tasks      | elapsed:    0.0s\n",
      "[Parallel(n_jobs=8)]: Done 184 tasks      | elapsed:    0.0s\n",
      "[Parallel(n_jobs=8)]: Done 232 out of 232 | elapsed:    0.0s finished\n",
      "[Parallel(n_jobs=8)]: Using backend ThreadingBackend with 8 concurrent workers.\n",
      "[Parallel(n_jobs=8)]: Done  34 tasks      | elapsed:    0.0s\n",
      "[Parallel(n_jobs=8)]: Done 184 tasks      | elapsed:    0.0s\n"
     ]
    },
    {
     "name": "stdout",
     "output_type": "stream",
     "text": [
      "Test accuracy random forest model: 95.51%\n"
     ]
    },
    {
     "name": "stderr",
     "output_type": "stream",
     "text": [
      "[Parallel(n_jobs=8)]: Done 232 out of 232 | elapsed:    0.0s finished\n",
      "[Parallel(n_jobs=8)]: Using backend ThreadingBackend with 8 concurrent workers.\n",
      "[Parallel(n_jobs=8)]: Done  34 tasks      | elapsed:    0.0s\n",
      "[Parallel(n_jobs=8)]: Done 184 tasks      | elapsed:    0.0s\n",
      "[Parallel(n_jobs=8)]: Done 232 out of 232 | elapsed:    0.0s finished\n"
     ]
    },
    {
     "name": "stdout",
     "output_type": "stream",
     "text": [
      "              precision    recall  f1-score   support\n",
      "\n",
      "           1       0.97      0.93      0.95        42\n",
      "           2       0.94      0.98      0.96        47\n",
      "\n",
      "   micro avg       0.96      0.96      0.96        89\n",
      "   macro avg       0.96      0.95      0.95        89\n",
      "weighted avg       0.96      0.96      0.95        89\n",
      "\n"
     ]
    },
    {
     "data": {
      "image/png": "[encoded data removed]",
      "text/plain": [
       "<Figure size 576x432 with 2 Axes>"
      ]
     },
     "metadata": {
      "needs_background": "light"
     },
     "output_type": "display_data"
    }
   ],
   "source": [
    "from sklearn.metrics import classification_report\n",
    "from sklearn.metrics import confusion_matrix\n",
    "\n",
    "print('Test accuracy random forest model: {:.2f}%'.format(100*rf_gdcv_ref.score(X_te, y_te)))\n",
    "models_acc['Random forest'] = 100*rf_gdcv_ref.score(X_te, y_te)\n",
    "\n",
    "y_pred = rf_gdcv_ref.predict(X_te)\n",
    "\n",
    "report = classification_report(y_true=y_te, y_pred=y_pred)\n",
    "print(report)\n",
    "\n",
    "# Confusion matrix\n",
    "matrix = confusion_matrix(y_true=y_te, y_pred=y_pred)\n",
    "\n",
    "plot_confusion_matrix(matrix, ['ASD', 'Control'])"
   ]
  },
  {
   "cell_type": "code",
   "execution_count": 27,
   "metadata": {},
   "outputs": [
    {
     "name": "stderr",
     "output_type": "stream",
     "text": [
      "[Parallel(n_jobs=-1)]: Using backend ThreadingBackend with 8 concurrent workers.\n",
      "[Parallel(n_jobs=-1)]: Done  34 tasks      | elapsed:    0.0s\n",
      "[Parallel(n_jobs=-1)]: Done 184 tasks      | elapsed:    0.2s\n",
      "[Parallel(n_jobs=-1)]: Done 232 out of 232 | elapsed:    0.3s finished\n",
      "[Parallel(n_jobs=8)]: Using backend ThreadingBackend with 8 concurrent workers.\n",
      "[Parallel(n_jobs=8)]: Done  34 tasks      | elapsed:    0.0s\n",
      "[Parallel(n_jobs=8)]: Done 184 tasks      | elapsed:    0.0s\n",
      "[Parallel(n_jobs=8)]: Done 232 out of 232 | elapsed:    0.0s finished\n"
     ]
    },
    {
     "name": "stdout",
     "output_type": "stream",
     "text": [
      "Test accuracy random forest model: 95.51%\n",
      "\n"
     ]
    },
    {
     "data": {
      "image/png": "[encoded data removed]",
      "text/plain": [
       "<Figure size 1080x360 with 1 Axes>"
      ]
     },
     "metadata": {
      "needs_background": "light"
     },
     "output_type": "display_data"
    }
   ],
   "source": [
    "# Plot important features \n",
    "\n",
    "forest = RandomForestClassifier(n_jobs=-1,\n",
    "                                  verbose=1,\n",
    "                                  random_state=9,\n",
    "                               n_estimators=232)\n",
    "\n",
    "forest.fit(X_tr, y_tr)\n",
    "\n",
    "print('Test accuracy random forest model: {:.2f}%'.format(100*forest.score(X_te, y_te)))\n",
    "print()\n",
    "\n",
    "# Plot the most important features \n",
    "\n",
    "features = forest.feature_importances_\n",
    "indices = np.argsort(features)[::-1]\n",
    "\n",
    "names = ASD_df1.drop(['DX_GROUP'], axis=1).copy()\n",
    "names_ind = names.columns[indices]\n",
    "names_ind\n",
    "\n",
    "# Plot the impurity-based feature importances of the forest\n",
    "plt.figure(figsize=(15,5))\n",
    "plt.title(\"Feature importances\")\n",
    "plt.bar(range(X_tr.shape[1]), features[indices],\n",
    "        color=\"r\", align=\"center\")\n",
    "plt.xticks(range(X_tr.shape[1]), names_ind, rotation='vertical')\n",
    "plt.xlim([-1, X_tr.shape[1]])\n",
    "plt.show()"
   ]
  },
  {
   "cell_type": "markdown",
   "metadata": {},
   "source": [
    "---\n",
    "\n",
    "## C. kNN model with GridsearchCV\n",
    "\n",
    "Parameters:\n",
    "* Scaler : None/scaler\n",
    "* PCA reduction : n components\n",
    "* n_neighbors : Number of neighbors to use \n",
    "* weights : weight function used in prediction\n",
    "* p : Power parameter for the Minkowski metric"
   ]
  },
  {
   "cell_type": "code",
   "execution_count": 28,
   "metadata": {},
   "outputs": [
    {
     "name": "stdout",
     "output_type": "stream",
     "text": [
      "Fitting 5 folds for each of 2160 candidates, totalling 10800 fits\n"
     ]
    },
    {
     "name": "stderr",
     "output_type": "stream",
     "text": [
      "[Parallel(n_jobs=-1)]: Using backend LokyBackend with 8 concurrent workers.\n",
      "[Parallel(n_jobs=-1)]: Done  34 tasks      | elapsed:    1.3s\n",
      "[Parallel(n_jobs=-1)]: Done 184 tasks      | elapsed:    6.7s\n",
      "[Parallel(n_jobs=-1)]: Done 434 tasks      | elapsed:   14.7s\n",
      "[Parallel(n_jobs=-1)]: Done 784 tasks      | elapsed:   25.7s\n",
      "[Parallel(n_jobs=-1)]: Done 1234 tasks      | elapsed:   39.6s\n",
      "[Parallel(n_jobs=-1)]: Done 1784 tasks      | elapsed:   56.8s\n",
      "[Parallel(n_jobs=-1)]: Done 2434 tasks      | elapsed:  1.3min\n",
      "[Parallel(n_jobs=-1)]: Done 3184 tasks      | elapsed:  1.7min\n",
      "[Parallel(n_jobs=-1)]: Done 4034 tasks      | elapsed:  2.1min\n",
      "[Parallel(n_jobs=-1)]: Done 4984 tasks      | elapsed:  2.6min\n",
      "[Parallel(n_jobs=-1)]: Done 6034 tasks      | elapsed:  3.2min\n",
      "[Parallel(n_jobs=-1)]: Done 7184 tasks      | elapsed:  3.8min\n",
      "[Parallel(n_jobs=-1)]: Done 8434 tasks      | elapsed:  4.4min\n",
      "[Parallel(n_jobs=-1)]: Done 9784 tasks      | elapsed:  5.1min\n",
      "[Parallel(n_jobs=-1)]: Done 10800 out of 10800 | elapsed:  5.6min finished\n",
      "C:\\Users\\xavier\\anaconda3\\envs\\exts-ml\\lib\\site-packages\\sklearn\\model_selection\\_search.py:841: DeprecationWarning: The default of the `iid` parameter will change from True to False in version 0.22 and will be removed in 0.24. This will change numeric results when test-set sizes are unequal.\n",
      "  DeprecationWarning)\n"
     ]
    },
    {
     "data": {
      "text/html": [
       "<div>\n",
       "<style scoped>\n",
       "    .dataframe tbody tr th:only-of-type {\n",
       "        vertical-align: middle;\n",
       "    }\n",
       "\n",
       "    .dataframe tbody tr th {\n",
       "        vertical-align: top;\n",
       "    }\n",
       "\n",
       "    .dataframe thead th {\n",
       "        text-align: right;\n",
       "    }\n",
       "</style>\n",
       "<table border=\"1\" class=\"dataframe\">\n",
       "  <thead>\n",
       "    <tr style=\"text-align: right;\">\n",
       "      <th></th>\n",
       "      <th>scaler</th>\n",
       "      <th>PCA</th>\n",
       "      <th>k</th>\n",
       "      <th>p</th>\n",
       "      <th>weights</th>\n",
       "      <th>mean_tr</th>\n",
       "      <th>mean_te</th>\n",
       "      <th>std_te</th>\n",
       "    </tr>\n",
       "  </thead>\n",
       "  <tbody>\n",
       "    <tr>\n",
       "      <th>569</th>\n",
       "      <td>StandardScaler(copy=True, with_mean=True, with...</td>\n",
       "      <td>15</td>\n",
       "      <td>21</td>\n",
       "      <td>2</td>\n",
       "      <td>uniform</td>\n",
       "      <td>0.952125</td>\n",
       "      <td>0.952113</td>\n",
       "      <td>0.042865</td>\n",
       "    </tr>\n",
       "    <tr>\n",
       "      <th>867</th>\n",
       "      <td>StandardScaler(copy=True, with_mean=True, with...</td>\n",
       "      <td>2</td>\n",
       "      <td>41</td>\n",
       "      <td>1</td>\n",
       "      <td>uniform</td>\n",
       "      <td>0.947907</td>\n",
       "      <td>0.952113</td>\n",
       "      <td>0.043875</td>\n",
       "    </tr>\n",
       "    <tr>\n",
       "      <th>1306</th>\n",
       "      <td>None</td>\n",
       "      <td>6</td>\n",
       "      <td>61</td>\n",
       "      <td>1</td>\n",
       "      <td>uniform</td>\n",
       "      <td>0.950714</td>\n",
       "      <td>0.952113</td>\n",
       "      <td>0.031313</td>\n",
       "    </tr>\n",
       "    <tr>\n",
       "      <th>591</th>\n",
       "      <td>StandardScaler(copy=True, with_mean=True, with...</td>\n",
       "      <td>26</td>\n",
       "      <td>21</td>\n",
       "      <td>2</td>\n",
       "      <td>uniform</td>\n",
       "      <td>0.951421</td>\n",
       "      <td>0.952113</td>\n",
       "      <td>0.042865</td>\n",
       "    </tr>\n",
       "    <tr>\n",
       "      <th>645</th>\n",
       "      <td>StandardScaler(copy=True, with_mean=True, with...</td>\n",
       "      <td>26</td>\n",
       "      <td>21</td>\n",
       "      <td>2</td>\n",
       "      <td>distance</td>\n",
       "      <td>1.000000</td>\n",
       "      <td>0.952113</td>\n",
       "      <td>0.042865</td>\n",
       "    </tr>\n",
       "  </tbody>\n",
       "</table>\n",
       "</div>"
      ],
      "text/plain": [
       "                                                 scaler PCA   k  p   weights  \\\n",
       "569   StandardScaler(copy=True, with_mean=True, with...  15  21  2   uniform   \n",
       "867   StandardScaler(copy=True, with_mean=True, with...   2  41  1   uniform   \n",
       "1306                                               None   6  61  1   uniform   \n",
       "591   StandardScaler(copy=True, with_mean=True, with...  26  21  2   uniform   \n",
       "645   StandardScaler(copy=True, with_mean=True, with...  26  21  2  distance   \n",
       "\n",
       "       mean_tr   mean_te    std_te  \n",
       "569   0.952125  0.952113  0.042865  \n",
       "867   0.947907  0.952113  0.043875  \n",
       "1306  0.950714  0.952113  0.031313  \n",
       "591   0.951421  0.952113  0.042865  \n",
       "645   1.000000  0.952113  0.042865  "
      ]
     },
     "execution_count": 28,
     "metadata": {},
     "output_type": "execute_result"
    }
   ],
   "source": [
    "from sklearn.model_selection import GridSearchCV\n",
    "from sklearn.neighbors import KNeighborsClassifier\n",
    "# Pipeline with gridsearch of componenent and number of k Neighboors \n",
    "\n",
    "k_nn = Pipeline([\n",
    "    ('scaler', StandardScaler()),\n",
    "    ('pca', PCA()),\n",
    "    ('knn', KNeighborsClassifier(n_jobs=-1\n",
    "    ))\n",
    "])\n",
    "\n",
    "param_grid={\n",
    "    'scaler':[None, StandardScaler()],\n",
    "    'pca__n_components':list_pca,\n",
    "    'knn__n_neighbors':np.arange(1,101, 10),\n",
    "    'knn__weights':['uniform', 'distance'],\n",
    "    'knn__p':[1, 2]\n",
    "}\n",
    "\n",
    "k_nn_gdcv = GridSearchCV(k_nn, param_grid, cv=5, n_jobs=-1, verbose=1, return_train_score=True)\n",
    "\n",
    "k_nn_gdcv.fit(X_tr, y_tr);\n",
    "\n",
    "knn_results = pd.DataFrame({\n",
    "    'scaler':k_nn_gdcv.cv_results_['param_scaler'],\n",
    "    'PCA': k_nn_gdcv.cv_results_['param_pca__n_components'],\n",
    "    'k': k_nn_gdcv.cv_results_['param_knn__n_neighbors'],\n",
    "    'p': k_nn_gdcv.cv_results_['param_knn__p'],\n",
    "    'weights': k_nn_gdcv.cv_results_['param_knn__weights'],\n",
    "    'mean_tr': k_nn_gdcv.cv_results_['mean_train_score'],\n",
    "    'mean_te': k_nn_gdcv.cv_results_['mean_test_score'],\n",
    "    'std_te': k_nn_gdcv.cv_results_['std_test_score']\n",
    "})\n",
    "\n",
    "knn_results.sort_values(by='mean_te', ascending=False).head(5)"
   ]
  },
  {
   "cell_type": "code",
   "execution_count": 29,
   "metadata": {},
   "outputs": [
    {
     "name": "stdout",
     "output_type": "stream",
     "text": [
      "Test accuracy: 95.51%\n",
      "\n",
      "              precision    recall  f1-score   support\n",
      "\n",
      "           1       0.97      0.93      0.95        42\n",
      "           2       0.94      0.98      0.96        47\n",
      "\n",
      "   micro avg       0.96      0.96      0.96        89\n",
      "   macro avg       0.96      0.95      0.95        89\n",
      "weighted avg       0.96      0.96      0.95        89\n",
      "\n"
     ]
    },
    {
     "data": {
      "image/png": "[encoded data removed]",
      "text/plain": [
       "<Figure size 576x432 with 2 Axes>"
      ]
     },
     "metadata": {
      "needs_background": "light"
     },
     "output_type": "display_data"
    }
   ],
   "source": [
    "from sklearn.metrics import classification_report\n",
    "from sklearn.metrics import confusion_matrix\n",
    "\n",
    "print('Test accuracy: {:.2f}%'.format(100*k_nn_gdcv.score(X_te, y_te)))\n",
    "print()\n",
    "\n",
    "y_pred = k_nn_gdcv.predict(X_te)\n",
    "\n",
    "report = classification_report(y_true=y_te, y_pred=y_pred)\n",
    "print(report)\n",
    "\n",
    "# Confusion matrix\n",
    "matrix = confusion_matrix(y_true=y_te, y_pred=y_pred)\n",
    "\n",
    "plot_confusion_matrix(matrix, ['ASD', 'Control'])"
   ]
  },
  {
   "cell_type": "markdown",
   "metadata": {},
   "source": [
    "### Refine my search to find the optimal k"
   ]
  },
  {
   "cell_type": "code",
   "execution_count": 30,
   "metadata": {},
   "outputs": [
    {
     "name": "stdout",
     "output_type": "stream",
     "text": [
      "Best score: 0.952112676056338\n",
      "Best estimator: Pipeline(memory=None,\n",
      "     steps=[('scaler', None), ('pca', PCA(copy=True, iterated_power='auto', n_components=2, random_state=None,\n",
      "  svd_solver='auto', tol=0.0, whiten=False)), ('knn', KNeighborsClassifier(algorithm='auto', leaf_size=30, metric='minkowski',\n",
      "           metric_params=None, n_jobs=-1, n_neighbors=11, p=1,\n",
      "           weights='uniform'))])\n",
      "Best params: {'knn__n_neighbors': 11, 'knn__p': 1, 'knn__weights': 'uniform', 'pca__n_components': 2, 'scaler': None}\n"
     ]
    }
   ],
   "source": [
    "print('Best score:', k_nn_gdcv.best_score_)\n",
    "print('Best estimator:', k_nn_gdcv.best_estimator_)\n",
    "print('Best params:', k_nn_gdcv.best_params_)"
   ]
  },
  {
   "cell_type": "code",
   "execution_count": 31,
   "metadata": {},
   "outputs": [
    {
     "name": "stdout",
     "output_type": "stream",
     "text": [
      "Fitting 5 folds for each of 20 candidates, totalling 100 fits\n"
     ]
    },
    {
     "name": "stderr",
     "output_type": "stream",
     "text": [
      "[Parallel(n_jobs=-1)]: Using backend LokyBackend with 8 concurrent workers.\n",
      "[Parallel(n_jobs=-1)]: Done  34 tasks      | elapsed:    1.5s\n"
     ]
    },
    {
     "name": "stdout",
     "output_type": "stream",
     "text": [
      "Best params: {'knn__n_neighbors': 18}\n"
     ]
    },
    {
     "name": "stderr",
     "output_type": "stream",
     "text": [
      "[Parallel(n_jobs=-1)]: Done 100 out of 100 | elapsed:    3.7s finished\n",
      "C:\\Users\\xavier\\anaconda3\\envs\\exts-ml\\lib\\site-packages\\sklearn\\model_selection\\_search.py:841: DeprecationWarning: The default of the `iid` parameter will change from True to False in version 0.22 and will be removed in 0.24. This will change numeric results when test-set sizes are unequal.\n",
      "  DeprecationWarning)\n"
     ]
    },
    {
     "data": {
      "text/html": [
       "<div>\n",
       "<style scoped>\n",
       "    .dataframe tbody tr th:only-of-type {\n",
       "        vertical-align: middle;\n",
       "    }\n",
       "\n",
       "    .dataframe tbody tr th {\n",
       "        vertical-align: top;\n",
       "    }\n",
       "\n",
       "    .dataframe thead th {\n",
       "        text-align: right;\n",
       "    }\n",
       "</style>\n",
       "<table border=\"1\" class=\"dataframe\">\n",
       "  <thead>\n",
       "    <tr style=\"text-align: right;\">\n",
       "      <th></th>\n",
       "      <th>k</th>\n",
       "      <th>mean_tr</th>\n",
       "      <th>mean_te</th>\n",
       "      <th>std_te</th>\n",
       "    </tr>\n",
       "  </thead>\n",
       "  <tbody>\n",
       "    <tr>\n",
       "      <th>18</th>\n",
       "      <td>19</td>\n",
       "      <td>0.949310</td>\n",
       "      <td>0.954930</td>\n",
       "      <td>0.034672</td>\n",
       "    </tr>\n",
       "    <tr>\n",
       "      <th>17</th>\n",
       "      <td>18</td>\n",
       "      <td>0.949310</td>\n",
       "      <td>0.954930</td>\n",
       "      <td>0.034672</td>\n",
       "    </tr>\n",
       "    <tr>\n",
       "      <th>10</th>\n",
       "      <td>11</td>\n",
       "      <td>0.955641</td>\n",
       "      <td>0.952113</td>\n",
       "      <td>0.038158</td>\n",
       "    </tr>\n",
       "    <tr>\n",
       "      <th>14</th>\n",
       "      <td>15</td>\n",
       "      <td>0.950015</td>\n",
       "      <td>0.952113</td>\n",
       "      <td>0.032547</td>\n",
       "    </tr>\n",
       "    <tr>\n",
       "      <th>16</th>\n",
       "      <td>17</td>\n",
       "      <td>0.949310</td>\n",
       "      <td>0.952113</td>\n",
       "      <td>0.032547</td>\n",
       "    </tr>\n",
       "  </tbody>\n",
       "</table>\n",
       "</div>"
      ],
      "text/plain": [
       "     k   mean_tr   mean_te    std_te\n",
       "18  19  0.949310  0.954930  0.034672\n",
       "17  18  0.949310  0.954930  0.034672\n",
       "10  11  0.955641  0.952113  0.038158\n",
       "14  15  0.950015  0.952113  0.032547\n",
       "16  17  0.949310  0.952113  0.032547"
      ]
     },
     "execution_count": 31,
     "metadata": {},
     "output_type": "execute_result"
    }
   ],
   "source": [
    "from sklearn.model_selection import GridSearchCV\n",
    "from sklearn.neighbors import KNeighborsClassifier\n",
    "# Pipeline with gridsearch of componenent and number of k Neighboors \n",
    "\n",
    "knn_ref = Pipeline([\n",
    "#     ('scaler', StandardScaler()),\n",
    "    ('pca', PCA(n_components=2)),\n",
    "    ('knn', KNeighborsClassifier(n_jobs=-1,\n",
    "                                 p=1,\n",
    "                                 weights='uniform'\n",
    "    ))\n",
    "])\n",
    "\n",
    "grid_refined={\n",
    "#     'scaler':[None, StandardScaler()],\n",
    "#     'pca__n_components':list_pca,\n",
    "    'knn__n_neighbors':np.arange(1,21),\n",
    "#     'knn__weights':['uniform', 'distance'],\n",
    "#     'knn__p':[1, 2]\n",
    "}\n",
    "\n",
    "k_nn_gdcv_ref = GridSearchCV(knn_ref, grid_refined, cv=5, n_jobs=-1, verbose=1, return_train_score=True)\n",
    "\n",
    "k_nn_gdcv_ref.fit(X_tr, y_tr);\n",
    "\n",
    "knn_results_ref = pd.DataFrame({\n",
    "#     'scaler':k_nn_gdcv_ref.cv_results_['param_scaler'],\n",
    "#     'PCA': k_nn_gdcv_ref.cv_results_['param_pca__n_components'],\n",
    "    'k': k_nn_gdcv_ref.cv_results_['param_knn__n_neighbors'],\n",
    "#     'p': k_nn_gdcv_ref.cv_results_['param_knn__p'],\n",
    "#     'weights': k_nn_gdcv_ref.cv_results_['param_knn__weights'],\n",
    "    'mean_tr': k_nn_gdcv_ref.cv_results_['mean_train_score'],\n",
    "    'mean_te': k_nn_gdcv_ref.cv_results_['mean_test_score'],\n",
    "    'std_te': k_nn_gdcv_ref.cv_results_['std_test_score']\n",
    "})\n",
    "\n",
    "print('Best params:', k_nn_gdcv_ref.best_params_)\n",
    "knn_results_ref.sort_values(by='mean_te', ascending=False).head(5)"
   ]
  },
  {
   "cell_type": "code",
   "execution_count": 32,
   "metadata": {},
   "outputs": [
    {
     "name": "stdout",
     "output_type": "stream",
     "text": [
      "Test accuracy: 96.63%\n",
      "\n",
      "              precision    recall  f1-score   support\n",
      "\n",
      "           1       0.98      0.95      0.96        42\n",
      "           2       0.96      0.98      0.97        47\n",
      "\n",
      "   micro avg       0.97      0.97      0.97        89\n",
      "   macro avg       0.97      0.97      0.97        89\n",
      "weighted avg       0.97      0.97      0.97        89\n",
      "\n"
     ]
    },
    {
     "data": {
      "image/png": "[encoded data removed]",
      "text/plain": [
       "<Figure size 576x432 with 2 Axes>"
      ]
     },
     "metadata": {
      "needs_background": "light"
     },
     "output_type": "display_data"
    }
   ],
   "source": [
    "from sklearn.metrics import classification_report\n",
    "from sklearn.metrics import confusion_matrix\n",
    "\n",
    "print('Test accuracy: {:.2f}%'.format(100*k_nn_gdcv_ref.score(X_te, y_te)))\n",
    "models_acc['kNN'] = 100*k_nn_gdcv_ref.score(X_te, y_te)\n",
    "print()\n",
    "\n",
    "y_pred = k_nn_gdcv_ref.predict(X_te)\n",
    "\n",
    "report = classification_report(y_true=y_te, y_pred=y_pred)\n",
    "print(report)\n",
    "\n",
    "# Confusion matrix\n",
    "matrix = confusion_matrix(y_true=y_te, y_pred=y_pred)\n",
    "\n",
    "plot_confusion_matrix(matrix, ['ASD', 'Control'])"
   ]
  },
  {
   "cell_type": "code",
   "execution_count": 33,
   "metadata": {},
   "outputs": [],
   "source": [
    "# Without refining : 95.51 %\n",
    "# With refining : 96.63 %"
   ]
  },
  {
   "cell_type": "markdown",
   "metadata": {},
   "source": [
    "---\n",
    "\n",
    "## D. SVC model with GridsearchCV\n",
    "\n",
    "Parameters:\n",
    "* Scaler : None/scaler\n",
    "* PCA reduction : n components\n",
    "* C : Regularization parameter\n",
    "* gamma : Kernel coefficient for ‘rbf’, ‘poly’ and ‘sigmoid’.\n",
    "* kernel : Specifies the kernel type to be used in the algorithm"
   ]
  },
  {
   "cell_type": "code",
   "execution_count": 34,
   "metadata": {},
   "outputs": [
    {
     "name": "stdout",
     "output_type": "stream",
     "text": [
      "Fitting 3 folds for each of 2700 candidates, totalling 8100 fits\n"
     ]
    },
    {
     "name": "stderr",
     "output_type": "stream",
     "text": [
      "[Parallel(n_jobs=-1)]: Using backend LokyBackend with 8 concurrent workers.\n",
      "[Parallel(n_jobs=-1)]: Done 124 tasks      | elapsed:    1.1s\n",
      "[Parallel(n_jobs=-1)]: Done 945 tasks      | elapsed:   14.6s\n",
      "[Parallel(n_jobs=-1)]: Done 1701 tasks      | elapsed:   56.6s\n",
      "[Parallel(n_jobs=-1)]: Done 2729 tasks      | elapsed:  1.6min\n",
      "[Parallel(n_jobs=-1)]: Done 3775 tasks      | elapsed:  3.1min\n",
      "[Parallel(n_jobs=-1)]: Done 5569 tasks      | elapsed:  4.7min\n",
      "[Parallel(n_jobs=-1)]: Done 8100 out of 8100 | elapsed:  5.1min finished\n",
      "C:\\Users\\xavier\\anaconda3\\envs\\exts-ml\\lib\\site-packages\\sklearn\\model_selection\\_search.py:841: DeprecationWarning: The default of the `iid` parameter will change from True to False in version 0.22 and will be removed in 0.24. This will change numeric results when test-set sizes are unequal.\n",
      "  DeprecationWarning)\n"
     ]
    },
    {
     "data": {
      "text/html": [
       "<div>\n",
       "<style scoped>\n",
       "    .dataframe tbody tr th:only-of-type {\n",
       "        vertical-align: middle;\n",
       "    }\n",
       "\n",
       "    .dataframe tbody tr th {\n",
       "        vertical-align: top;\n",
       "    }\n",
       "\n",
       "    .dataframe thead th {\n",
       "        text-align: right;\n",
       "    }\n",
       "</style>\n",
       "<table border=\"1\" class=\"dataframe\">\n",
       "  <thead>\n",
       "    <tr style=\"text-align: right;\">\n",
       "      <th></th>\n",
       "      <th>scale</th>\n",
       "      <th>PCA</th>\n",
       "      <th>kernel</th>\n",
       "      <th>C</th>\n",
       "      <th>gamma</th>\n",
       "      <th>mean_tr</th>\n",
       "      <th>mean_te</th>\n",
       "      <th>std_te</th>\n",
       "    </tr>\n",
       "  </thead>\n",
       "  <tbody>\n",
       "    <tr>\n",
       "      <th>128</th>\n",
       "      <td>None</td>\n",
       "      <td>2</td>\n",
       "      <td>rbf</td>\n",
       "      <td>1</td>\n",
       "      <td>0.0001</td>\n",
       "      <td>0.954945</td>\n",
       "      <td>0.957746</td>\n",
       "      <td>0.027435</td>\n",
       "    </tr>\n",
       "    <tr>\n",
       "      <th>135</th>\n",
       "      <td>None</td>\n",
       "      <td>2</td>\n",
       "      <td>linear</td>\n",
       "      <td>10</td>\n",
       "      <td>0.01</td>\n",
       "      <td>0.953539</td>\n",
       "      <td>0.954930</td>\n",
       "      <td>0.027736</td>\n",
       "    </tr>\n",
       "    <tr>\n",
       "      <th>121</th>\n",
       "      <td>None</td>\n",
       "      <td>2</td>\n",
       "      <td>linear</td>\n",
       "      <td>1</td>\n",
       "      <td>1</td>\n",
       "      <td>0.953539</td>\n",
       "      <td>0.954930</td>\n",
       "      <td>0.027736</td>\n",
       "    </tr>\n",
       "    <tr>\n",
       "      <th>141</th>\n",
       "      <td>None</td>\n",
       "      <td>2</td>\n",
       "      <td>linear</td>\n",
       "      <td>100</td>\n",
       "      <td>1</td>\n",
       "      <td>0.953539</td>\n",
       "      <td>0.954930</td>\n",
       "      <td>0.027736</td>\n",
       "    </tr>\n",
       "    <tr>\n",
       "      <th>139</th>\n",
       "      <td>None</td>\n",
       "      <td>2</td>\n",
       "      <td>linear</td>\n",
       "      <td>10</td>\n",
       "      <td>0.0001</td>\n",
       "      <td>0.953539</td>\n",
       "      <td>0.954930</td>\n",
       "      <td>0.027736</td>\n",
       "    </tr>\n",
       "  </tbody>\n",
       "</table>\n",
       "</div>"
      ],
      "text/plain": [
       "    scale PCA  kernel    C   gamma   mean_tr   mean_te    std_te\n",
       "128  None   2     rbf    1  0.0001  0.954945  0.957746  0.027435\n",
       "135  None   2  linear   10    0.01  0.953539  0.954930  0.027736\n",
       "121  None   2  linear    1       1  0.953539  0.954930  0.027736\n",
       "141  None   2  linear  100       1  0.953539  0.954930  0.027736\n",
       "139  None   2  linear   10  0.0001  0.953539  0.954930  0.027736"
      ]
     },
     "execution_count": 34,
     "metadata": {},
     "output_type": "execute_result"
    }
   ],
   "source": [
    "from sklearn.pipeline import Pipeline\n",
    "from sklearn.model_selection import GridSearchCV\n",
    "from sklearn.preprocessing import StandardScaler\n",
    "from sklearn.decomposition import PCA\n",
    "from sklearn.svm import SVC\n",
    "# import warnings filter\n",
    "from warnings import simplefilter\n",
    "# ignore all future warnings\n",
    "simplefilter(action='ignore', category=FutureWarning)\n",
    "\n",
    "SVC = Pipeline([\n",
    "    ('scaler', StandardScaler()),\n",
    "    ('pca', PCA()),\n",
    "    ('svc', SVC(random_state=9))\n",
    "])\n",
    "\n",
    "\n",
    "param_grid = {\n",
    "    'scaler': [None, StandardScaler()],\n",
    "    'pca__n_components':list_pca,\n",
    "    'svc__C':[0.01, 0.1, 1, 10, 100],\n",
    "    'svc__gamma': [1, 0.1, 0.01, 0.001, 0.0001],\n",
    "    'svc__kernel':['rbf', 'linear'],\n",
    "}\n",
    "\n",
    "svc_gdcv = GridSearchCV(SVC, param_grid, cv=3, n_jobs=-1, verbose=1, return_train_score=True)\n",
    "\n",
    "svc_gdcv.fit(X_tr, y_tr);\n",
    "\n",
    "svc_results = pd.DataFrame({\n",
    "    'scale': svc_gdcv.cv_results_['param_scaler'],\n",
    "    'PCA': svc_gdcv.cv_results_['param_pca__n_components'],\n",
    "    'kernel':svc_gdcv.cv_results_['param_svc__kernel'],\n",
    "    'C': svc_gdcv.cv_results_['param_svc__C'],\n",
    "    'gamma': svc_gdcv.cv_results_['param_svc__gamma'],\n",
    "    'mean_tr': svc_gdcv.cv_results_['mean_train_score'],\n",
    "    'mean_te': svc_gdcv.cv_results_['mean_test_score'],\n",
    "    'std_te': svc_gdcv.cv_results_['std_test_score']\n",
    "})\n",
    "\n",
    "svc_results.sort_values(by='mean_te', ascending=False).head(5)"
   ]
  },
  {
   "cell_type": "code",
   "execution_count": 35,
   "metadata": {},
   "outputs": [
    {
     "name": "stdout",
     "output_type": "stream",
     "text": [
      "Test accuracy: 95.51%\n",
      "              precision    recall  f1-score   support\n",
      "\n",
      "           1       0.95      0.95      0.95        42\n",
      "           2       0.96      0.96      0.96        47\n",
      "\n",
      "   micro avg       0.96      0.96      0.96        89\n",
      "   macro avg       0.95      0.95      0.95        89\n",
      "weighted avg       0.96      0.96      0.96        89\n",
      "\n"
     ]
    },
    {
     "data": {
      "image/png": "[encoded data removed]",
      "text/plain": [
       "<Figure size 576x432 with 2 Axes>"
      ]
     },
     "metadata": {
      "needs_background": "light"
     },
     "output_type": "display_data"
    }
   ],
   "source": [
    "from sklearn.metrics import classification_report\n",
    "from sklearn.metrics import confusion_matrix\n",
    "\n",
    "print('Test accuracy: {:.2f}%'.format(100*svc_gdcv.score(X_te, y_te)))\n",
    "\n",
    "y_pred = svc_gdcv.predict(X_te)\n",
    "\n",
    "report = classification_report(y_true=y_te, y_pred=y_pred)\n",
    "print(report)\n",
    "\n",
    "# Confusion matrix\n",
    "matrix = confusion_matrix(y_true=y_te, y_pred=y_pred)\n",
    "\n",
    "plot_confusion_matrix(matrix, ['ASD', 'Control'])"
   ]
  },
  {
   "cell_type": "markdown",
   "metadata": {},
   "source": [
    "### Refine my search with C & gamma "
   ]
  },
  {
   "cell_type": "code",
   "execution_count": 36,
   "metadata": {},
   "outputs": [
    {
     "name": "stdout",
     "output_type": "stream",
     "text": [
      "Best score: 0.9577464788732394\n",
      "Best estimator: Pipeline(memory=None,\n",
      "     steps=[('scaler', None), ('pca', PCA(copy=True, iterated_power='auto', n_components=2, random_state=None,\n",
      "  svd_solver='auto', tol=0.0, whiten=False)), ('svc', SVC(C=1, cache_size=200, class_weight=None, coef0=0.0,\n",
      "  decision_function_shape='ovr', degree=3, gamma=0.0001, kernel='rbf',\n",
      "  max_iter=-1, probability=False, random_state=9, shrinking=True,\n",
      "  tol=0.001, verbose=False))])\n",
      "Best params: {'pca__n_components': 2, 'scaler': None, 'svc__C': 1, 'svc__gamma': 0.0001, 'svc__kernel': 'rbf'}\n"
     ]
    }
   ],
   "source": [
    "print('Best score:', svc_gdcv.best_score_)\n",
    "print('Best estimator:', svc_gdcv.best_estimator_)\n",
    "print('Best params:', svc_gdcv.best_params_)"
   ]
  },
  {
   "cell_type": "code",
   "execution_count": 37,
   "metadata": {},
   "outputs": [
    {
     "name": "stdout",
     "output_type": "stream",
     "text": [
      "Fitting 5 folds for each of 120 candidates, totalling 600 fits\n"
     ]
    },
    {
     "name": "stderr",
     "output_type": "stream",
     "text": [
      "[Parallel(n_jobs=-1)]: Using backend LokyBackend with 8 concurrent workers.\n",
      "[Parallel(n_jobs=-1)]: Done 196 tasks      | elapsed:    0.8s\n",
      "[Parallel(n_jobs=-1)]: Done 600 out of 600 | elapsed:    1.5s finished\n",
      "C:\\Users\\xavier\\anaconda3\\envs\\exts-ml\\lib\\site-packages\\sklearn\\model_selection\\_search.py:841: DeprecationWarning: The default of the `iid` parameter will change from True to False in version 0.22 and will be removed in 0.24. This will change numeric results when test-set sizes are unequal.\n",
      "  DeprecationWarning)\n"
     ]
    },
    {
     "name": "stdout",
     "output_type": "stream",
     "text": [
      "       C        gamma   mean_tr   mean_te    std_te\n",
      "110    9        1e-05  0.957054  0.957746  0.031902\n",
      "100    8        1e-05  0.957761  0.957746  0.031902\n",
      "16   0.7  0.000336667  0.956355  0.954930  0.032302\n",
      "94     7  0.000227778  0.954947  0.954930  0.032302\n",
      "90     7        1e-05  0.955646  0.954930  0.034672\n",
      "\n",
      "Best score: 0.9577464788732394\n",
      "Best estimator: Pipeline(memory=None,\n",
      "     steps=[('pca', PCA(copy=True, iterated_power='auto', n_components=2, random_state=None,\n",
      "  svd_solver='auto', tol=0.0, whiten=False)), ('svc', SVC(C=8, cache_size=200, class_weight=None, coef0=0.0,\n",
      "  decision_function_shape='ovr', degree=3, gamma=1e-05, kernel='rbf',\n",
      "  max_iter=-1, probability=False, random_state=9, shrinking=True,\n",
      "  tol=0.001, verbose=False))])\n",
      "Best params: {'svc__C': 8, 'svc__gamma': 1e-05}\n",
      "\n",
      "\n",
      "Test accuracy: 95.51%\n",
      "\n",
      "              precision    recall  f1-score   support\n",
      "\n",
      "           1       0.95      0.95      0.95        42\n",
      "           2       0.96      0.96      0.96        47\n",
      "\n",
      "   micro avg       0.96      0.96      0.96        89\n",
      "   macro avg       0.95      0.95      0.95        89\n",
      "weighted avg       0.96      0.96      0.96        89\n",
      "\n"
     ]
    },
    {
     "data": {
      "image/png": "[encoded data removed]",
      "text/plain": [
       "<Figure size 576x432 with 2 Axes>"
      ]
     },
     "metadata": {
      "needs_background": "light"
     },
     "output_type": "display_data"
    }
   ],
   "source": [
    "from sklearn.pipeline import Pipeline\n",
    "from sklearn.model_selection import GridSearchCV\n",
    "from sklearn.preprocessing import StandardScaler\n",
    "from sklearn.decomposition import PCA\n",
    "from sklearn.svm import SVC\n",
    "# import warnings filter\n",
    "from warnings import simplefilter\n",
    "# ignore all future warnings\n",
    "simplefilter(action='ignore', category=FutureWarning)\n",
    "\n",
    "SVC_ref = Pipeline([\n",
    "#     ('scaler', StandardScaler()),\n",
    "    ('pca', PCA(n_components=2)),\n",
    "    ('svc', SVC(random_state=9,\n",
    "               kernel='rbf'))\n",
    "])\n",
    "\n",
    "\n",
    "grid_refined = {\n",
    "#     'scaler': [None, StandardScaler()],\n",
    "#     'pca__n_components':list_pca,\n",
    "    'svc__C':[0.5, 0.7, 1, 1.5, 2, 3, 4, 5, 6, 7, 8, 9],\n",
    "    'svc__gamma':np.linspace(0.00001, 0.0005, 10),\n",
    "#     'svc__kernel':['rbf', 'linear'],\n",
    "}\n",
    "\n",
    "svc_gdcv_refined = GridSearchCV(SVC_ref, grid_refined, cv=5, n_jobs=-1, verbose=1, return_train_score=True)\n",
    "\n",
    "svc_gdcv_refined.fit(X_tr, y_tr);\n",
    "\n",
    "svc_results_refined = pd.DataFrame({\n",
    "#     'scale': svc_gdcv.cv_results_['param_scaler'],\n",
    "#     'PCA': svc_gdcv.cv_results_['param_pca__n_components'],\n",
    "#     'kernel':svc_gdcv.cv_results_['param_svc__kernel'],\n",
    "    'C': svc_gdcv_refined.cv_results_['param_svc__C'],\n",
    "    'gamma': svc_gdcv_refined.cv_results_['param_svc__gamma'],\n",
    "    'mean_tr': svc_gdcv_refined.cv_results_['mean_train_score'],\n",
    "    'mean_te': svc_gdcv_refined.cv_results_['mean_test_score'],\n",
    "    'std_te': svc_gdcv_refined.cv_results_['std_test_score']\n",
    "})\n",
    "\n",
    "print(svc_results_refined.sort_values(by='mean_te', ascending=False).head(5))\n",
    "print()\n",
    "print('Best score:', svc_gdcv_refined.best_score_)\n",
    "print('Best estimator:', svc_gdcv_refined.best_estimator_)\n",
    "print('Best params:', svc_gdcv_refined.best_params_)\n",
    "print()\n",
    "\n",
    "from sklearn.metrics import classification_report\n",
    "from sklearn.metrics import confusion_matrix\n",
    "\n",
    "print()\n",
    "print('Test accuracy: {:.2f}%'.format(100*svc_gdcv_refined.score(X_te, y_te)))\n",
    "models_acc['SVC'] = 100*svc_gdcv_refined.score(X_te, y_te)\n",
    "\n",
    "y_pred = svc_gdcv_refined.predict(X_te)\n",
    "\n",
    "print()\n",
    "report = classification_report(y_true=y_te, y_pred=y_pred)\n",
    "print(report)\n",
    "\n",
    "# Confusion matrix\n",
    "matrix = confusion_matrix(y_true=y_te, y_pred=y_pred)\n",
    "\n",
    "plot_confusion_matrix(matrix, ['ASD', 'Control'])"
   ]
  },
  {
   "cell_type": "markdown",
   "metadata": {},
   "source": [
    "<br>\n",
    "<br>\n",
    "\n",
    "--- \n",
    "--- \n",
    "\n",
    "# 5. Conclusion"
   ]
  },
  {
   "cell_type": "code",
   "execution_count": 38,
   "metadata": {},
   "outputs": [
    {
     "data": {
      "text/html": [
       "<div>\n",
       "<style scoped>\n",
       "    .dataframe tbody tr th:only-of-type {\n",
       "        vertical-align: middle;\n",
       "    }\n",
       "\n",
       "    .dataframe tbody tr th {\n",
       "        vertical-align: top;\n",
       "    }\n",
       "\n",
       "    .dataframe thead th {\n",
       "        text-align: right;\n",
       "    }\n",
       "</style>\n",
       "<table border=\"1\" class=\"dataframe\">\n",
       "  <thead>\n",
       "    <tr style=\"text-align: right;\">\n",
       "      <th></th>\n",
       "      <th>Models</th>\n",
       "    </tr>\n",
       "  </thead>\n",
       "  <tbody>\n",
       "    <tr>\n",
       "      <th>kNN</th>\n",
       "      <td>96.629213</td>\n",
       "    </tr>\n",
       "    <tr>\n",
       "      <th>Random forest</th>\n",
       "      <td>95.505618</td>\n",
       "    </tr>\n",
       "    <tr>\n",
       "      <th>SVC</th>\n",
       "      <td>95.505618</td>\n",
       "    </tr>\n",
       "    <tr>\n",
       "      <th>Decision tree</th>\n",
       "      <td>94.382022</td>\n",
       "    </tr>\n",
       "    <tr>\n",
       "      <th>baseline</th>\n",
       "      <td>52.808989</td>\n",
       "    </tr>\n",
       "  </tbody>\n",
       "</table>\n",
       "</div>"
      ],
      "text/plain": [
       "                  Models\n",
       "kNN            96.629213\n",
       "Random forest  95.505618\n",
       "SVC            95.505618\n",
       "Decision tree  94.382022\n",
       "baseline       52.808989"
      ]
     },
     "execution_count": 38,
     "metadata": {},
     "output_type": "execute_result"
    }
   ],
   "source": [
    "models_df = pd.Series(models_acc).to_frame('Models')\n",
    "models_df.sort_values('Models', ascending=False)"
   ]
  },
  {
   "cell_type": "code",
   "execution_count": 39,
   "metadata": {},
   "outputs": [],
   "source": [
    "models_df.to_csv('df1_models.csv', index=False, encoding='utf-8')"
   ]
  },
  {
   "cell_type": "code",
   "execution_count": 40,
   "metadata": {},
   "outputs": [
    {
     "name": "stdout",
     "output_type": "stream",
     "text": [
      "              precision    recall  f1-score   support\n",
      "\n",
      "           1       0.98      0.95      0.96        42\n",
      "           2       0.96      0.98      0.97        47\n",
      "\n",
      "   micro avg       0.97      0.97      0.97        89\n",
      "   macro avg       0.97      0.97      0.97        89\n",
      "weighted avg       0.97      0.97      0.97        89\n",
      "\n"
     ]
    },
    {
     "data": {
      "image/png": "[encoded data removed]",
      "text/plain": [
       "<Figure size 576x432 with 2 Axes>"
      ]
     },
     "metadata": {
      "needs_background": "light"
     },
     "output_type": "display_data"
    }
   ],
   "source": [
    "y_pred = k_nn_gdcv_ref.predict(X_te)\n",
    "\n",
    "report = classification_report(y_true=y_te, y_pred=y_pred)\n",
    "print(report)\n",
    "\n",
    "# Confusion matrix\n",
    "matrix = confusion_matrix(y_true=y_te, y_pred=y_pred)\n",
    "\n",
    "plot_confusion_matrix(matrix, ['ASD', 'Control'])"
   ]
  },
  {
   "cell_type": "markdown",
   "metadata": {},
   "source": [
    "I correctly classify autism patients with an accuracy of 96.63% with the kNN model. \n",
    "In this confusion matrix we can see that I classify more ASD children as control (0.0476) than I classify control children as ASD (0.0213).\n",
    "\n",
    "The models have a very good overall accuracy."
   ]
  }
 ],
 "metadata": {
  "kernelspec": {
   "display_name": "Python 3",
   "language": "python",
   "name": "python3"
  },
  "language_info": {
   "codemirror_mode": {
    "name": "ipython",
    "version": 3
   },
   "file_extension": ".py",
   "mimetype": "text/x-python",
   "name": "python",
   "nbconvert_exporter": "python",
   "pygments_lexer": "ipython3",
   "version": "3.6.10"
  }
 },
 "nbformat": 4,
 "nbformat_minor": 4
}
